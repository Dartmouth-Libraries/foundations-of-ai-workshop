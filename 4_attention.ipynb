{
 "cells": [
  {
   "cell_type": "code",
   "execution_count": 10,
   "id": "2945a837-af19-4b62-867a-23c08cb3d7a4",
   "metadata": {},
   "outputs": [
    {
     "data": {
      "application/vnd.plotly.v1+json": {
       "config": {
        "plotlyServerURL": "https://plot.ly"
       },
       "data": [
        {
         "hovertemplate": "Natural → language<extra></extra>",
         "line": {
          "color": "#FF6B6B",
          "width": 2
         },
         "mode": "lines",
         "opacity": 0.20680228529871972,
         "showlegend": false,
         "type": "scatter3d",
         "x": {
          "bdata": "kQAJm9VLCUBXl42Z6c8IQB0uEpj9UwhA48SWlhHYB0CqWxuVJVwHQHDyn5M54AZANYkkkk1kBkD8H6mQYegFQMK2LY91bAVAiE2yjYnwBEBO5DaMnXQEQBR7u4qx+ANA2hFAicV8A0CgqMSH2QADQGY/SYbthAJA",
          "dtype": "f8"
         },
         "y": {
          "bdata": "sjg/glFA0r+cO5MsrWjRv4U+59YIkdC/3YJ2Aslyz7+xiB5XgMPNv4SOxqs3FMy/V5RuAO9kyr8qmhZVprXIv/2fvqldBse/0aVm/hRXxb+kqw5TzKfDv3axtqeD+MG/Srde/DpJwL87eg2i5DO9v+CFXUtT1bm/",
          "dtype": "f8"
         },
         "z": {
          "bdata": "SpuyaSZDCED/T7IgfXYHQLVZt02tpgZA87k+2LjQBUBDRoqD8PEEQKlCoWQWCARAWjGlqXoRA0C6FA1BEQ0CQJMu0Up/+gBANnryTT+0/z/bexzO/Fn9P69d3bmW6fo/ppcm54hn+D+qfnTPMdn1P7MPzaONRPM/",
          "dtype": "f8"
         }
        },
        {
         "hovertemplate": "efficiently. → dependencies<extra></extra>",
         "line": {
          "color": "#FF6B6B",
          "width": 2
         },
         "mode": "lines",
         "opacity": 0.20680228529871972,
         "showlegend": false,
         "type": "scatter3d",
         "x": {
          "bdata": "Gfeo/yCFCEDOey4ZzCgIQIQAtDJ3zAdAN4U5TCJwB0DsCb9lzRMHQKGORH94twZAVhPKmCNbBkALmE+yzv4FQMAc1ct5ogVAdKFa5SRGBUAqJuD+z+kEQN6qZRh7jQRAky/rMSYxBEBItHBL0dQDQP049mR8eANA",
          "dtype": "f8"
         },
         "y": {
          "bdata": "VKfAiGdf2T8OH/TU3LPLP9C9m2Gqo6I/KEAmpAdiwr/gt1nwfLbUv9YnUAf7HeC/vnNzlrfg5b+lv5YldKPrv8UFXVoYs/C/uavuoXaU87+sUYDp1HX2v6D3ETEzV/m/kp2jeJE4/L+GQzXA7xn/v7104wOn/QDA",
          "dtype": "f8"
         },
         "z": {
          "bdata": "isB60ziYBMB2K2ov6lwBwMGCqCqESfy/hQF4O33l9b9UUH4VPCbvvz3d3tzEreK/24MuUlChyb8WuF31l5fGP+VWq9h9e+E/fxKP/d4Z7T+iSxPZnEL0Pzfu9Z4m4vk/7ehgpghw/z9YSGi00HgCQDxxpYt2NgVA",
          "dtype": "f8"
         }
        },
        {
         "hovertemplate": "dependencies → context<extra></extra>",
         "line": {
          "color": "#FF6B6B",
          "width": 2
         },
         "mode": "lines",
         "opacity": 0.2005165145220254,
         "showlegend": false,
         "type": "scatter3d",
         "x": {
          "bdata": "/Tj2ZHx4A0CAm0pOdJkDQAX+njdsugNAiGDzIGTbA0ALw0cKXPwDQI8lnPNTHQRAEojw3Es+BECW6kTGQ18EQBpNma87gARAna/tmDOhBEAhEkKCK8IEQKR0lmsj4wRAKNfqVBsEBUCrOT8+EyUFQC+ckycLRgVA",
          "dtype": "f8"
         },
         "y": {
          "bdata": "vXTjA6f9AMAU7pyy3QABwGpnVmEUBAHAweAPEEsHAcAYWsm+gQoBwG7Tgm24DQHAxEw8HO8QAcAcxvXKJRQBwHI/r3lcFwHAybhoKJMaAcAgMiLXyR0BwHar24UAIQHAzSSVNDckAcAjnk7jbScBwHoXCJKkKgHA",
          "dtype": "f8"
         },
         "z": {
          "bdata": "PHGli3Y2BUDWQA/5GNQDQJseSWCtbgJASwDp8UwDAUABtFupuh7/P2X9tR5kIfw/w2o94FAL+T88p6EWedr1P0GEDIgsjvI/wmCo3DZO7j/5AJJBm07nPx3NHAYRJOA/r/J2HpSu0T9SVCMf/CqnP7NYW5CK+Me/",
          "dtype": "f8"
         }
        },
        {
         "hovertemplate": "dependencies → efficiently.<extra></extra>",
         "line": {
          "color": "#FF6B6B",
          "width": 2
         },
         "mode": "lines",
         "opacity": 0.2005165145220254,
         "showlegend": false,
         "type": "scatter3d",
         "x": {
          "bdata": "/Tj2ZHx4A0BItHBL0dQDQJQv6zEmMQRA3qplGHuNBEAqJuD+z+kEQHWhWuUkRgVAwBzVy3miBUALmE+yzv4FQFYTypgjWwZAoY5Ef3i3BkDtCb9lzRMHQDiFOUwicAdAgwC0MnfMB0DOey4ZzCgIQBn3qP8ghQhA",
          "dtype": "f8"
         },
         "y": {
          "bdata": "vXTjA6f9AMCHQzXA7xn/v5Odo3iROPy/oPcRMTNX+b+tUYDp1HX2v7qr7qF2lPO/xQVdWhiz8L+lv5YldKPrv75zc5a34OW/2SdQB/sd4L/lt1nwfLbUvypAJqQHYsK/uL2bYaqjoj8FH/TU3LPLP1SnwIhnX9k/",
          "dtype": "f8"
         },
         "z": {
          "bdata": "PHGli3Y2BUB7m3TR53YCQMinJyKWaP8/cyAy9nLX+T8niYZsMTX0P6cPVyXx+uw/9VT7CQZa4T/n4WRhRw7GP6OL7owvJ8q/FuAWtbLM4r9L1ZfuEkHvv0rPO+Qw8PW/5MPhrvZQ/L9T2F0S014BwIrAetM4mATA",
          "dtype": "f8"
         }
        },
        {
         "hovertemplate": "language → Natural<extra></extra>",
         "line": {
          "color": "#FF6B6B",
          "width": 2
         },
         "mode": "lines",
         "opacity": 0.20051651452202537,
         "showlegend": false,
         "type": "scatter3d",
         "x": {
          "bdata": "Zj9Jhu2EAkCgqMSH2QADQNoRQInFfANAFHu7irH4A0BO5DaMnXQEQIhNso2J8ARAwrYtj3VsBUD8H6mQYegFQDaJJJJNZAZAb/KfkzngBkCpWxuVJVwHQOTElpYR2AdAHi4SmP1TCEBXl42Z6c8IQJEACZvVSwlA",
          "dtype": "f8"
         },
         "y": {
          "bdata": "4IVdS1PVub86eg2i5DO9v0q3Xvw6ScC/drG2p4P4wb+kqw5TzKfDv9ClZv4UV8W//Z++qV0Gx78qmhZVprXIv1eUbgDvZMq/hI7GqzcUzL+wiB5XgMPNv92CdgLJcs+/hT7n1giR0L+bO5MsrWjRv7I4P4JRQNK/",
          "dtype": "f8"
         },
         "z": {
          "bdata": "sw/No41E8z/xJI0JYNX1P4FW7WIWYPg/6o8ZEePe+j9buY9hkUz9P8d41mHIpP8/Fi4lVyHyAEBXh803fAQCQN0w+bUcCQNA8UGT7loABEAD5UPNOusEQBDT3ANfywVAIrmaC/SiBkAho749lHQHQEqbsmkmQwhA",
          "dtype": "f8"
         }
        },
        {
         "hovertemplate": "language → processing<extra></extra>",
         "line": {
          "color": "#FF6B6B",
          "width": 2
         },
         "mode": "lines",
         "opacity": 0.20051651452202537,
         "showlegend": false,
         "type": "scatter3d",
         "x": {
          "bdata": "Zj9Jhu2EAkDLLDObfa8CQDAaHbAN2gJAlAcHxZ0EA0D69PDZLS8DQF7i2u69WQNAw8/EA06EA0Aova4Y3q4DQI2qmC1u2QNA8peCQv4DBEBWhWxXji4EQLxyVmweWQRAIGBAga6DBECGTSqWPq4EQOo6FKvO2ARA",
          "dtype": "f8"
         },
         "y": {
          "bdata": "4IVdS1PVub9ohzPZiO+bP8qk+9uL5sM/VGxoTpMn0j9CBtOu4FvaPxnQngcXSOE/EB3Utz1i5T8IagloZHzpP/+2PhiLlu0/+wE65FjY8D93qFQ8bOXyP/NOb5R/8vQ/bvWJ7JL/9j/qm6REpgz5P2ZCv5y5Gfs/",
          "dtype": "f8"
         },
         "z": {
          "bdata": "sw/No41E8z8byh9IOIjyP9SgEuDGxfE/Zn/RzGv38D8CTtpb8hfwPy1lZzUDRu4/THZ0S6gq7D+iJTtLxNnpPxAWD8H2Uec/saScIKCU5D9Me4QY0KXhP6r7GuAiGN0/48BUGCyg1j8HS31HHfHPP9H2UfsBccI/",
          "dtype": "f8"
         }
        },
        {
         "hovertemplate": "context → process<extra></extra>",
         "line": {
          "color": "#FF6B6B",
          "width": 2
         },
         "mode": "lines",
         "opacity": 0.1973191362068295,
         "showlegend": false,
         "type": "scatter3d",
         "x": {
          "bdata": "L5yTJwtGBUBagYvkqT0EQIZmg6FINQNAsEt7XucsAkDbMHMbhiQBQAYWa9gkHABAYPbFKocn/j+3wLWkxBb8Pw6LpR4CBvo/ZFWVmD/19z+6H4USfeT1Pw7qdIy60/M/ZLRkBvjC8T91/agAa2TvPyCSiPTlQus/",
          "dtype": "f8"
         },
         "y": {
          "bdata": "ehcIkqQqAcDRPiCuXn8BwClmOMoY1AHAgI1Q5tIoAsDYtGgCjX0CwC/cgB5H0gLAhgOZOgEnA8DeKrFWu3sDwDVSyXJ10APAjHnhji8lBMDkoPmq6XkEwDvIEcejzgTAku8p410jBcDqFkL/F3gFwEE+WhvSzAXA",
          "dtype": "f8"
         },
         "z": {
          "bdata": "tFhbkIr4x7/jr44ScSDLv9Wr6nJweM6/jhc3EhwX0b8s18HcYTXTv8dNU2YmqNW/kME91El82L8mPJVbyrnbv+RZNaZdY9+/OD8hBSe74b8TUFSpTvXjv2+8Cq21Wea/xqelqc3f6L/zdIq6V33rv1Nr+QLoJu6/",
          "dtype": "f8"
         }
        },
        {
         "hovertemplate": "context → dependencies<extra></extra>",
         "line": {
          "color": "#FF6B6B",
          "width": 2
         },
         "mode": "lines",
         "opacity": 0.1973191362068295,
         "showlegend": false,
         "type": "scatter3d",
         "x": {
          "bdata": "L5yTJwtGBUCsOT8+EyUFQCjX6lQbBAVApHSWayPjBEAgEkKCK8IEQJ2v7ZgzoQRAGU2ZrzuABECW6kTGQ18EQBKI8NxLPgRAjyWc81MdBEAMw0cKXPwDQIhg8yBk2wNABP6eN2y6A0CBm0pOdJkDQP049mR8eANA",
          "dtype": "f8"
         },
         "y": {
          "bdata": "ehcIkqQqAcAjnk7jbScBwM0klTQ3JAHAdqvbhQAhAcAgMiLXyR0BwMm4aCiTGgHAcj+veVwXAcAcxvXKJRQBwMVMPBzvEAHAbtOCbbgNAcAYWsm+gQoBwMHgDxBLBwHAamdWYRQEAcAU7pyy3QABwL104wOn/QDA",
          "dtype": "f8"
         },
         "z": {
          "bdata": "tFhbkIr4x7/jCbKA0OymP3LcRflsn9E//tnw3C0Z4D/GRlpE9EDnPw5YQEx7Pu4/YfX8cKmF8j8HfX71vdH1P+PbLcnNAvk/C/mBVoYZ/D/p1r8q5xf/P4MDnieUAAFA0/uie8hsAkCte5VKINMDQDxxpYt2NgVA",
          "dtype": "f8"
         }
        },
        {
         "hovertemplate": "processing → language<extra></extra>",
         "line": {
          "color": "#FF6B6B",
          "width": 2
         },
         "mode": "lines",
         "opacity": 0.19731913620682948,
         "showlegend": false,
         "type": "scatter3d",
         "x": {
          "bdata": "6joUq87YBECFTSqWPq4EQCBgQIGugwRAu3JWbB5ZBEBWhWxXji4EQPKXgkL+AwRAjaqYLW7ZA0Aova4Y3q4DQMPPxANOhANAXuLa7r1ZA0D69PDZLS8DQJQHB8WdBANAMBodsA3aAkDKLDObfa8CQGY/SYbthAJA",
          "dtype": "f8"
         },
         "y": {
          "bdata": "ZkK/nLkZ+z/rm6REpgz5P2/1ieyS//Y/805vlH/y9D93qFQ8bOXyP/wBOuRY2PA//7Y+GIuW7T8IagloZHzpPxEd1Lc9YuU/GtCeBxdI4T9HBtOu4FvaP1ZsaE6TJ9I/zqT724vmwz+YhzPZiO+bP+CFXUtT1bm/",
          "dtype": "f8"
         },
         "z": {
          "bdata": "0PZR+wFxwj9w+OBfkuHPP6eqI/MEkdY/bBXDjVwC3T8awUwbKZjhPwCcNJDkhOQ/UPjvkvBA5z860fQITsjpP41YVR2iGew/fVz/pEc27j/qcD7dHhHwP9eFOzj68fA/RVvGFv3B8T/IPyzrRobyP7MPzaONRPM/",
          "dtype": "f8"
         }
        },
        {
         "hovertemplate": "processing → enables<extra></extra>",
         "line": {
          "color": "#FF6B6B",
          "width": 2
         },
         "mode": "lines",
         "opacity": 0.19731913620682948,
         "showlegend": false,
         "type": "scatter3d",
         "x": {
          "bdata": "6joUq87YBEBlXaqvXqwDQN9/QLTufwJAWqLWuH5TAUDVxGy9DicAQJ/OBYQ99f0/lBMyjV2c+z+JWF6WfUP5P36dip+d6vY/dOK2qL2R9D9qJ+Ox3TjyP7zYHnb7v+8/qGJ3iDsO6z+T7M+ae1zmP3x2KK27quE/",
          "dtype": "f8"
         },
         "y": {
          "bdata": "ZkK/nLkZ+z9lFYog55P6P2XoVKQUDvo/Y7sfKEKI+T9ijuqrbwL5P2FhtS+dfPg/YDSAs8r29z9fB0s3+HD3P17aFbsl6/Y/Xa3gPlNl9j9cgKvCgN/1P1tTdkauWfU/WiZBytvT9D9Z+QtOCU70P1jM1tE2yPM/",
          "dtype": "f8"
         },
         "z": {
          "bdata": "0PZR+wFxwj9Cdbvilv3AP+Kd+NcltL4/mEIrSI2xuj9g7znxbKG1P26AWzyjfq4/LHH25upenT8gFjWDhKqBvwDdWs9N5aq/YVWopHFVur99mIP5217Ev0t0wJ78O8y/BqbHk/BP0r+N1cIAx7DWv3xX0typKdu/",
          "dtype": "f8"
         }
        },
        {
         "hovertemplate": "process → context<extra></extra>",
         "line": {
          "color": "#FF6B6B",
          "width": 2
         },
         "mode": "lines",
         "opacity": 0.19556622094076875,
         "showlegend": false,
         "type": "scatter3d",
         "x": {
          "bdata": "IJKI9OVC6z90/agAa2TvP2S0ZAb4wvE/Dup0jLrT8z+4H4USfeT1P2JVlZg/9fc/DIulHgIG+j+3wLWkxBb8P2D2xSqHJ/4/BhZr2CQcAEDaMHMbhiQBQLBLe17nLAJAhWaDoUg1A0BZgYvkqT0EQC+ckycLRgVA",
          "dtype": "f8"
         },
         "y": {
          "bdata": "QT5aG9LMBcDpFkL/F3gFwJPvKeNdIwXAO8gRx6POBMDkoPmq6XkEwIx54Y4vJQTANFLJcnXQA8DeKrFWu3sDwIYDmToBJwPAL9yAHkfSAsDYtGgCjX0CwICNUObSKALAKWY4yhjUAcDRPiCuXn8BwHoXCJKkKgHA",
          "dtype": "f8"
         },
         "z": {
          "bdata": "U2v5Augm7r9/RJMSeX/rvwOmLwH14+i/lNEPsq1f5r9SCsi8yvzjv5ZqhRLHw+G/ioi8Qwh2378w0zTd78zbvzjwxHH0jti/hKQbgWa51b+nS6kDWkTTv9hBQRwMI9G/wqQS0Q2Jzr8K7rFy9ijLv7NYW5CK+Me/",
          "dtype": "f8"
         }
        },
        {
         "hovertemplate": "enables → processing<extra></extra>",
         "line": {
          "color": "#FF6B6B",
          "width": 2
         },
         "mode": "lines",
         "opacity": 0.19556622094076875,
         "showlegend": false,
         "type": "scatter3d",
         "x": {
          "bdata": "fHYorbuq4T+S7M+ae1zmP6did4g7Dus/vNgedvu/7z9pJ+Ox3TjyP3Pitqi9kfQ/fp2Kn53q9j+JWF6WfUP5P5QTMo1dnPs/ns4FhD31/T/UxGy9DicAQFqi1rh+UwFA339AtO5/AkBlXaqvXqwDQOo6FKvO2ARA",
          "dtype": "f8"
         },
         "y": {
          "bdata": "WMzW0TbI8z9Z+QtOCU70P1omQcrb0/Q/W1N2Rq5Z9T9cgKvCgN/1P12t4D5TZfY/XtoVuyXr9j9fB0s3+HD3P2A0gLPK9vc/YGG1L518+D9ijuqrbwL5P2O7HyhCiPk/ZOhUpBQO+j9lFYog55P6P2ZCv5y5Gfs/",
          "dtype": "f8"
         },
         "z": {
          "bdata": "fFfS3Kkp27+kdNSwCbXWv3yi20I/WNK/4MjUstxTzL92gVJHzHzEv1CwyQ9ymrq/LFKUu6J6q78w9ye3NA+Ev9SGgw5BNJw/jMoYZqL0rT90HZxVjGW1P2+ZAiDNgbo/BqyoG+uSvj8cN5iCEfXAP9H2UfsBccI/",
          "dtype": "f8"
         }
        },
        {
         "hovertemplate": "enables → machines<extra></extra>",
         "line": {
          "color": "#FF6B6B",
          "width": 2
         },
         "mode": "lines",
         "opacity": 0.19556622094076875,
         "showlegend": false,
         "type": "scatter3d",
         "x": {
          "bdata": "fHYorbuq4T8FZ6CQnFjjP41XGHR9BuU/FUiQV1605j+eOAg7P2LoPyYpgB4gEOo/rhn4AQG+6z83CnDl4WvtP8D658jCGe8/pPUv1tFj8D/o7etHwjrxPyzmp7myEfI/cd5jK6Po8j+01h+dk7/zP/nO2w6ElvQ/",
          "dtype": "f8"
         },
         "y": {
          "bdata": "WMzW0TbI8z98CMIAwV/1P55ErS9L9/Y/wYCYXtWO+D/kvIONXyb6Pwj5brzpvfs/KjVa63NV/T9OcUUa/uz+P7hWmCREQgBAyvQNPAkOAUDckoNTztkBQO0w+WqTpQJA/85uglhxA0AQbeSZHT0EQCILWrHiCAVA",
          "dtype": "f8"
         },
         "z": {
          "bdata": "fFfS3Kkp278O/5XW1gjgv7ZaxZ3DiOK/a4A4J+0f5b9Ns4MKe9jnv7QN1Djouuq/ieG/IJbN7b+AgAdjPYrwv9QEdfR2SPK/+S6U5Msg9L/TFYExQRH2v3KQ8COmFvi/phFMQ70s+r/hd8nDck78v0kiyLMddv6/",
          "dtype": "f8"
         }
        },
        {
         "hovertemplate": "process → models<extra></extra>",
         "line": {
          "color": "#FF6B6B",
          "width": 2
         },
         "mode": "lines",
         "opacity": 0.19556622094076875,
         "showlegend": false,
         "type": "scatter3d",
         "x": {
          "bdata": "IJKI9OVC6z+lfeRUyxrqPyppQLWw8ug/r1ScFZbK5z81QPh1e6LmP7orVNZgeuU/PhewNkZS5D/EAgyXKyrjP0juZ/cQAuI/ztnDV/bZ4D+mij9wt2PfP7Bh9zCCE90/ujiv8UzD2j/ED2eyF3PYP87mHnPiItY/",
          "dtype": "f8"
         },
         "y": {
          "bdata": "QT5aG9LMBcBmsjnZFjIGwIsmGZdblwbAsJr4VKD8BsDUDtgS5WEHwPmCt9ApxwfAHfeWjm4sCMBCa3ZMs5EIwGjfVQr49gjAjFM1yDxcCcCxxxSGgcEJwNY79EPGJgrA+q/TAQuMCsAfJLO/T/EKwESYkn2UVgvA",
          "dtype": "f8"
         },
         "z": {
          "bdata": "U2v5Augm7r+QrDV/1R7mv0rs6LRbRdy/Hifc3wv3yL+WVuUKOVyoPycanZzVPtI/VEtTUtGI4D/wvfQYAb7nP1tHCmKive4/kULedobE8j+/pOlfGxL2PyxzcqPASvk/ATsPurNy/D/OHYpvCI//PznewdqzUgFA",
          "dtype": "f8"
         }
        },
        {
         "hovertemplate": "models → These<extra></extra>",
         "line": {
          "color": "#FF6B6B",
          "width": 2
         },
         "mode": "lines",
         "opacity": 0.19456454075136478,
         "showlegend": false,
         "type": "scatter3d",
         "x": {
          "bdata": "zuYec+Ii1j/EvebiZzrSP3MpXaXao8w/XNfshOXSxD+OCvnI4AO6P8jMMBDtw6Q/KPcg487/lL/04aj53eG0vw7DRB3kQcK/IxW1PdkSyr+csxIv5/HQv6jcSr9h2tS/sgWDT9zC2L+8LrvfVqvcv+Sr+bfoSeC/",
          "dtype": "f8"
         },
         "y": {
          "bdata": "RJiSfZRWC8C+BcYIj5ELwDhz+ZOJzAvAsuAsH4QHDMAsTmCqfkIMwKa7kzV5fQzAICnHwHO4DMCalvpLbvMMwBQELtdoLg3AjnFhYmNpDcAI35TtXaQNwIJMyHhY3w3A/Ln7A1MaDsB2Jy+PTVUOwPCUYhpIkA7A",
          "dtype": "f8"
         },
         "z": {
          "bdata": "Od7B2rNSAUCtuV+ltBj9P1qF6PUThvc/aXBfIeTn8T8kF5cIMHLoP1BJgtXe1dk/MKoCh9U6oz8FgRYBDm/Vv1NBnp0D2Oa/o9mtQDmW8b9gFspscdj3v4dnvcp9L/6/SMSdOJNLAsAcxWUeL4UFwLle19PBwQjA",
          "dtype": "f8"
         }
        },
        {
         "hovertemplate": "machines → to<extra></extra>",
         "line": {
          "color": "#FF6B6B",
          "width": 2
         },
         "mode": "lines",
         "opacity": 0.19456454075136478,
         "showlegend": false,
         "type": "scatter3d",
         "x": {
          "bdata": "+c7bDoSW9D+8VvuaHOLyP37eGie1LfE/gMx0Zpvy7j8H3LN+zInrP43r8pb9IOg/Efsxry645D+WCnHHX0/hPzY0YL8hzds/QlPe74P71D+a5LhAzFPMP1RFakMhYb0/EAwWK1DVgD9RwqQ4zSu5vxgjVjsiOcq/",
          "dtype": "f8"
         },
         "y": {
          "bdata": "IgtaseIIBUDKkoCu2NEEQHIap6vOmgRAGqLNqMRjBEDCKfSluiwEQGqxGqOw9QNAETlBoKa+A0C6wGednIcDQGJIjpqSUANACdC0l4gZA0CxV9uUfuICQFrfAZJ0qwJAAWcoj2p0AkCp7k6MYD0CQFF2dYlWBgJA",
          "dtype": "f8"
         },
         "z": {
          "bdata": "SSLIsx12/r881mAWjKX7v767TBjo2vi/3YFKP9Mb9r/iF9OuWm3zv0/CMlC20/C//eCfVyWk7L+AroRV0NTnv64RgZfDOuO/AsxPQFKp3b+vg5M6ID3Vv/QZZ/h9SMq/g1f7fzs3tb8i9nI/JdOiP2OaHWXD1cM/",
          "dtype": "f8"
         }
        },
        {
         "hovertemplate": "models → process<extra></extra>",
         "line": {
          "color": "#FF6B6B",
          "width": 2
         },
         "mode": "lines",
         "opacity": 0.19456454075136478,
         "showlegend": false,
         "type": "scatter3d",
         "x": {
          "bdata": "zuYec+Ii1j/ED2eyF3PYP7o4r/FMw9o/sGH3MIIT3T+mij9wt2PfP87Zw1f22eA/SO5n9xAC4j/EAgyXKyrjPz4XsDZGUuQ/uStU1mB65T80QPh1e6LmP69UnBWWyuc/KmlAtbDy6D+kfeRUyxrqPyCSiPTlQus/",
          "dtype": "f8"
         },
         "y": {
          "bdata": "RJiSfZRWC8AgJLO/T/EKwPqv0wELjArA1Tv0Q8YmCsCxxxSGgcEJwI1TNcg8XAnAZ99VCvj2CMBCa3ZMs5EIwB73lo5uLAjA+YK30CnHB8DUDtgS5WEHwLCa+FSg/AbAiiYZl1uXBsBmsjnZFjIGwEE+WhvSzAXA",
          "dtype": "f8"
         },
         "z": {
          "bdata": "Od7B2rNSAUCplfWebI7/P1I9FOmDcfw/XQQhDgxJ+T+C+6Lq9w/2Pz/eTZUPwvI/c3p2C0247j9Gx6aliLjnP21+v/t7g+A/4ohbFvo00j/yLhBiyheoP5adZ4qwBMm/BePU+BpK3L/ZvF4gDSDmv1Nr+QLoJu6/",
          "dtype": "f8"
         }
        },
        {
         "hovertemplate": "machines → enables<extra></extra>",
         "line": {
          "color": "#FF6B6B",
          "width": 2
         },
         "mode": "lines",
         "opacity": 0.19456454075136478,
         "showlegend": false,
         "type": "scatter3d",
         "x": {
          "bdata": "+c7bDoSW9D+11h+dk7/zP3HeYyuj6PI/LOanubIR8j/o7etHwjrxP6T1L9bRY/A/v/rnyMIZ7z83CnDl4WvtP64Z+AEBvus/JimAHiAQ6j+eOAg7P2LoPxVIkFdetOY/jVcYdH0G5T8FZ6CQnFjjP3x2KK27quE/",
          "dtype": "f8"
         },
         "y": {
          "bdata": "IgtaseIIBUARbeSZHT0EQP/OboJYcQNA7TD5apOlAkDckoNTztkBQMr0DTwJDgFAuFaYJERCAEBOcUUa/uz+Pyw1WutzVf0/CPluvOm9+z/mvIONXyb6P8KAmF7Vjvg/n0StL0v39j98CMIAwV/1P1jM1tE2yPM/",
          "dtype": "f8"
         },
         "z": {
          "bdata": "SSLIsx12/r8JAF6UDk/8v1YPRxTtLfq/Qf9BuVoY+L8Tv8emZBP2v0yTJMZCI/S/SOu+nyFL8r/Ve66c+Yzwv3GuU3fr0u2/Xdb0+9W/6r/MBRH1wdznvwte21FWI+W/Fla7PyOL4r9bD793Dgrgv3xX0typKdu/",
          "dtype": "f8"
         }
        },
        {
         "hovertemplate": "to → machines<extra></extra>",
         "line": {
          "color": "#FF6B6B",
          "width": 2
         },
         "mode": "lines",
         "opacity": 0.19397858266307938,
         "showlegend": false,
         "type": "scatter3d",
         "x": {
          "bdata": "GCNWOyI5yr9awqQ4zSu5v+ALFitQ1YA/VEVqQyFhvT+W5LhAzFPMP0BT3u+D+9Q/NjRgvyHN2z+WCnHHX0/hPxH7Ma8uuOQ/i+vylv0g6D8F3LN+zInrP4DMdGab8u4/ft4aJ7Ut8T+7VvuaHOLyP/nO2w6ElvQ/",
          "dtype": "f8"
         },
         "y": {
          "bdata": "UXZ1iVYGAkCp7k6MYD0CQAJnKI9qdAJAWd8BknSrAkCxV9uUfuICQAnQtJeIGQNAYUiOmpJQA0C6wGednIcDQBI5QaCmvgNAarEao7D1A0DCKfSluiwEQBqizajEYwRAchqnq86aBEDKkoCu2NEEQCILWrHiCAVA",
          "dtype": "f8"
         },
         "z": {
          "bdata": "YpodZcPVwz+J3duEwMeiP3g4rhlXQrW/tC3vF3lQyr9Pcv05IULVv+uRUnMWr92/ye3jR+I947+hTRaQA9jnvxm9AghEp+y/yXPzXCfV8L+Kk63umm7zv1WEO6PSHPa/zOnn0Znb+L8AjzU856X7v0kiyLMddv6/",
          "dtype": "f8"
         }
        },
        {
         "hovertemplate": "These → relationships.<extra></extra>",
         "line": {
          "color": "#FF6B6B",
          "width": 2
         },
         "mode": "lines",
         "opacity": 0.19397858266307938,
         "showlegend": false,
         "type": "scatter3d",
         "x": {
          "bdata": "5Kv5t+hJ4L+87X8aJV3iv5UvBn1hcOS/bHGM352D5r9FsxJC2pbovx71mKQWquq/9TYfB1O97L/OeKVpj9Duv1PdFeblcfC/P/5YF4R78b8sH5xIIoXyvxhA33nAjvO/A2Eiq16Y9L/wgWXc/KH1v9yiqA2bq/a/",
          "dtype": "f8"
         },
         "y": {
          "bdata": "8JRiGkiQDsBiOJrjzekNwNPb0axTQw3ARH8JdtmcDMC1IkE/X/YLwCfGeAjlTwvAl2mw0WqpCsAJDeia8AIKwHqwH2R2XAnA7FNXLfy1CMBd9472gQ8IwM6axr8HaQfAQD7+iI3CBsCx4TVSExwGwCKFbRuZdQXA",
          "dtype": "f8"
         },
         "z": {
          "bdata": "uV7X08HBCMB3KJUc7TMGwEBp9esMqQPA50km2e8jAcDHycwGNU79v8zQIH5Oafi/UuI8Llac87+0oqn2hdLtv2mQk8B+oeS/QHLqiINI17/ctjfPCbe2v2Gl/ivcM8c/WMBSt2Cf3D+JlxA1XbvmP8Ly7fM3G+8/",
          "dtype": "f8"
         }
        },
        {
         "hovertemplate": "to → understand<extra></extra>",
         "line": {
          "color": "#FF6B6B",
          "width": 2
         },
         "mode": "lines",
         "opacity": 0.19397858266307938,
         "showlegend": false,
         "type": "scatter3d",
         "x": {
          "bdata": "GCNWOyI5yr+qdI/acbXEv3qMkfOCY76/nS8EMiJcs7+Ape3ggqmgv9BQtIj6lIU/8M1HJQB0qz/UQzHUYMG4P1dQ38pg5ME/xP6lKxFoxz8yrWyMwevMP9Gtmfa4N9E/BwX9JpH50z8+XGBXabvWP3azw4dBfdk/",
          "dtype": "f8"
         },
         "y": {
          "bdata": "UXZ1iVYGAkAVu3F77gMDQNj/bW2GAQRAm0RqXx7/BEBeiWZRtvwFQCLOYkNO+gZA5RJfNeb3B0CpV1snfvUIQGycVxkW8wlAMOFTC67wCkDzJVD9Re4LQLdqTO/d6wxAeq9I4XXpDUA+9ETTDecOQAE5QcWl5A9A",
          "dtype": "f8"
         },
         "z": {
          "bdata": "YpodZcPVwz8zdEKtlNDKP7Lun8UOztA/YKQZRroF1D9ThxneJ/vWPx8myuqEndk/4JpaFCng2z+cmfvJOLvdPxN5KCAKLN8/Q/EygaMa4D/2kMGAZW/gP5aOqDqfmuA/2aJSALqk4D+mN7pOyJfgP0vwl4IEf+A/",
          "dtype": "f8"
         }
        },
        {
         "hovertemplate": "These → models<extra></extra>",
         "line": {
          "color": "#FF6B6B",
          "width": 2
         },
         "mode": "lines",
         "opacity": 0.19397858266307938,
         "showlegend": false,
         "type": "scatter3d",
         "x": {
          "bdata": "5Kv5t+hJ4L++LrvfVqvcv7MFg0/cwti/qNxKv2Ha1L+esxIv5/HQvyYVtT3ZEsq/D8NEHeRBwr/04aj53eG0vzD3IOPO/5S/vMwwEO3DpD+GCvnI4AO6P1zX7ITl0sQ/cCldpdqjzD/CvebiZzrSP87mHnPiItY/",
          "dtype": "f8"
         },
         "y": {
          "bdata": "8JRiGkiQDsB3Jy+PTVUOwPy5+wNTGg7AgkzIeFjfDcAI35TtXaQNwI5xYWJjaQ3AEwQu12guDcCalvpLbvMMwCApx8BzuAzApruTNXl9DMAsTmCqfkIMwLLgLB+EBwzAOHP5k4nMC8C+BcYIj5ELwESYkn2UVgvA",
          "dtype": "f8"
         },
         "z": {
          "bdata": "uV7X08HBCMCAIVCxXIUFwFJbaxXsSwLAAGquLn0w/r8LkqSssdn3vyKLbk2ql/G/cB0BTiLb5r9Ivzl2dHXVv1Do1IDqCKM/WIN/ohrQ2T/OH+KIr2/oP/Ftbr3k5vE/SVdNPGKF9z/lAIt/WRj9PznewdqzUgFA",
          "dtype": "f8"
         }
        },
        {
         "hovertemplate": "relationships. → These<extra></extra>",
         "line": {
          "color": "#FF6B6B",
          "width": 2
         },
         "mode": "lines",
         "opacity": 0.1936314995632828,
         "showlegend": false,
         "type": "scatter3d",
         "x": {
          "bdata": "3KKoDZur9r/wgWXc/KH1vwRhIqtemPS/GEDfecCO878rH5xIIoXyvz/+WBeEe/G/U90V5uVx8L/OeKVpj9Duv/Y2HwdTvey/HvWYpBaq6r9GsxJC2pbov21xjN+dg+a/lS8GfWFw5L+97X8aJV3iv+Sr+bfoSeC/",
          "dtype": "f8"
         },
         "y": {
          "bdata": "IoVtG5l1BcCw4TVSExwGwEA+/oiNwgbAzprGvwdpB8Bc9472gQ8IwOxTVy38tQjAerAfZHZcCcAJDeia8AIKwJhpsNFqqQrAJ8Z4COVPC8C1IkE/X/YLwER/CXbZnAzA0tvRrFNDDcBhOJrjzekNwPCUYhpIkA7A",
          "dtype": "f8"
         },
         "z": {
          "bdata": "wvLt8zcb7z96tzQ68brmP/X5JKC7ndw/Tom39SEvxz/Bsdns5MK2vx6WN/DtS9e/DL7a11ej5L+y+Io4a9TtvyR54LlCnfO/wxn0Fylq+L916aa48k79v6i7inw7JAHADCLbjkGpA8B7IEwbCDQGwLle19PBwQjA",
          "dtype": "f8"
         }
        },
        {
         "hovertemplate": "word → process<extra></extra>",
         "line": {
          "color": "#4ECDC4",
          "width": 2
         },
         "mode": "lines",
         "opacity": 0.2177663255510566,
         "showlegend": false,
         "type": "scatter3d",
         "x": {
          "bdata": "tty37PdDAsDpbnH3WHkAwDcCVgR0Xf2/mibJGTbI+b8ASzwv+DL2v2Vvr0S6nfK/kidFtPgQ7r9ccCvffObmv05yIxQCeN+/4gPwaQoj0b/Aq+T9lXCmv/Cx7dTJDcc/Y0eqlNzb2T/n2m4fahjkPyCSiPTlQus/",
          "dtype": "f8"
         },
         "y": {
          "bdata": "jgu/H2StAMAtjyWNEAsBwMwSjPq8aAHAa5byZ2nGAcAKGlnVFSQCwKmdv0LCgQLASCEmsG7fAsDopIwdGz0DwIYo84rHmgPAJaxZ+HP4A8DFL8BlIFYEwGSzJtPMswTAAzeNQHkRBcCiuvOtJW8FwEE+WhvSzAXA",
          "dtype": "f8"
         },
         "z": {
          "bdata": "5B376yFeBcAh6mnsFR8EwBHMdTlb4wLAxTlbiRiuAcCjPUaIIYIAwMv/NB2lw/6/odYMpuSd/L9baco6NpX6v+aeRD5Zqvi/VZCkTY7c9r8V1DPZoCn1v5+UlXMDjvO/e4ECbP0E8r/ehSJq54jwv1Nr+QLoJu6/",
          "dtype": "f8"
         }
        },
        {
         "hovertemplate": "to → Transformers<extra></extra>",
         "line": {
          "color": "#4ECDC4",
          "width": 2
         },
         "mode": "lines",
         "opacity": 0.2136886784100654,
         "showlegend": false,
         "type": "scatter3d",
         "x": {
          "bdata": "zOeML5T1BsB/BPFv7TYGwDEhVbBGeAXA4z258J+5BMCWWh0x+foDwEh3gXFSPAPA+pPlsat9AsCssEnyBL8BwF/NrTJeAAHAEuoRc7dBAMCIDexmIQb/v+xGtOfTiP2/UYB8aIYL/L+2uUTpOI76vxrzDGrrEPm/",
          "dtype": "f8"
         },
         "y": {
          "bdata": "oFU159YC8b+e0wg2AdLpv/77pp1UnuG/tkiKClDV0r+gyzTOtm+jv5wr+q3E8ss/EsXAh7tg3j8sOkJcCmTnP8wRpPS2l+8/tvSCxrHl8z+H4LMSiP/3P1rM5F5eGfw/FNyKVZoZAED9UaN7hSYCQObHu6FwMwRA",
          "dtype": "f8"
         },
         "z": {
          "bdata": "bmwV+fczDkB2lpTELh8MQEAkoyokBwpA1c8LkMDoB0CcxZvVPcEFQDG15/NKjgNAkIj0tylOAUA4fRFGiv/9P7Xe3Zx+Rfk/iwW5Qexu9D/r5ytk+vvuP/Wr1adb7OQ/jjE52IBw1T8IM/9yS7CKP2EgjkyH39O/",
          "dtype": "f8"
         }
        },
        {
         "hovertemplate": "mechanisms → attention<extra></extra>",
         "line": {
          "color": "#4ECDC4",
          "width": 2
         },
         "mode": "lines",
         "opacity": 0.20497322795708142,
         "showlegend": false,
         "type": "scatter3d",
         "x": {
          "bdata": "I5Gb1TUMBMD98UwYltADwNdS/lr2lAPAsLOvnVZZA8CLFGHgth0DwGV1EiMX4gLAPtbDZXemAsAYN3Wo12oCwPKXJus3LwLAzPjXLZjzAcCmWYlw+LcBwIC6OrNYfAHAWhvs9bhAAcA0fJ04GQUBwA7dTnt5yQDA",
          "dtype": "f8"
         },
         "y": {
          "bdata": "ZmC6HATA079nfJw7mHXOvwQ4xD0oa8W/QOfXf3DBuL/YeZ0QQrKav6BUEu+e0KY/GrM5cy99vT/yHXW3B8nHPyqxptq7adA/XNOS2fPu1D+O9X7YK3TZP8IXa9dj+d0/+Zwr600/4T8SrqHq6YHjPyy/F+qFxOU/",
          "dtype": "f8"
         },
         "z": {
          "bdata": "8WXfV4N46r8gatHXRorrv6/EEPeHqOy/HsZU/SPf7b8/03SNvzjvvx5JwAIfX/C/WlcIsyc78b8Jt7o8jTLyv+S+YsQDRvO/MBh1Jdd09L86oMn687z1vzUBFEQCG/e/BWhMUpCK+L9IIgfUSwb6v7qHaCVGiPu/",
          "dtype": "f8"
         }
        },
        {
         "hovertemplate": "attention → to<extra></extra>",
         "line": {
          "color": "#4ECDC4",
          "width": 2
         },
         "mode": "lines",
         "opacity": 0.20293006791517287,
         "showlegend": false,
         "type": "scatter3d",
         "x": {
          "bdata": "Dt1Oe3nJAMCJS1PRVjoBwAW6Vyc0qwHAgChcfREcAsD7lmDT7owCwHYFZSnM/QLA8nNpf6luA8Bt4m3Vht8DwOhQcitkUATAY792gUHBBMDeLXvXHjIFwFqcfy38ogXA1QqEg9kTBsBQeYjZtoQGwMznjC+U9QbA",
          "dtype": "f8"
         },
         "y": {
          "bdata": "LL8X6oXE5T9tbg6mXcjhP147CsRqmNs/4Zn3Oxqg0z/G8Mlnk0/HPzi3kl7Je60/XCoBcV0jsb8o2KXIT4LIv5GNZWx4OdS/DC949Mgx3L9EaEW+DBXivwS5TgI1Eea/wglYRl0N6r+AWmGKhQnuv6BVNefWAvG/",
          "dtype": "f8"
         },
         "z": {
          "bdata": "uodoJUaI+7/5NKTR88T0v5qoYrugD+y/tBmrKO1a3b8uoEWEKt+mv6yICbI8TNc/OXyZfx2I6D8IP5dM95nyPzJeBnoW1Pg/VaL1oB7z/j+eWUXtjnwCQPTcXc+xdAVAD2a3IitkCEDDxdpFnU0LQG5sFfn3Mw5A",
          "dtype": "f8"
         }
        },
        {
         "hovertemplate": "use → These<extra></extra>",
         "line": {
          "color": "#4ECDC4",
          "width": 2
         },
         "mode": "lines",
         "opacity": 0.20097517119843136,
         "showlegend": false,
         "type": "scatter3d",
         "x": {
          "bdata": "6wGyaAnPCcBIwMl2kUEIwKV+4YQZtAbAAD35kqEmBcBd+xChKZkDwLq5KK+xCwLAFXhAvTl+AMDkbLCWg+H9v57p37KTxvq/VmYPz6Or978Q4z7rs5D0v8hfbgfEdfG/Ark7R6i17L90spp/yH/mv+Sr+bfoSeC/",
          "dtype": "f8"
         },
         "y": {
          "bdata": "E/QCTpi06D8IJ82BqGrcP7CXUZ6BsL0/ZLZIZc8ky78ojm7md0jhv7buivO7x+u/o6dTAIAj87/r1+EGImP4vzIIcA3Eov2/PRz/CTNxAcBgNEYNBBEEwIRMjRDVsAbAqGTUE6ZQCcDMfBsXd/ALwPCUYhpIkA7A",
          "dtype": "f8"
         },
         "z": {
          "bdata": "AlLCN2GGDsBlKqPu2N8NwI+poXVgPA3AnysfT+CeDMCKDI5a9AkMwIppBVfKfwvAEZmD6wUCC8CmSOSbq5EKwCstq7gTLwrAvpFU8eXZCcDXyATCHZEJwAh8vYMXUwnAEo5nd6UdCcAAo5C9K+4IwLle19PBwQjA",
          "dtype": "f8"
         }
        },
        {
         "hovertemplate": "Transformers → use<extra></extra>",
         "line": {
          "color": "#4ECDC4",
          "width": 2
         },
         "mode": "lines",
         "opacity": 0.1986055276181211,
         "showlegend": false,
         "type": "scatter3d",
         "x": {
          "bdata": "GvMMausQ+b8oK5M6bvb6vzVjGQvx2/y/Qpuf23PB/r+o6RJWe1MAwK4FVr48RgHAtSGZJv44AsC8PdyOvysDwMJZH/eAHgTAynViX0IRBcDQkaXHAwQGwNet6C/F9gbA3ckrmIbpB8Dk5W4ASNwIwOsBsmgJzwnA",
          "dtype": "f8"
         },
         "y": {
          "bdata": "5se7oXAzBED6/ZKX/TIDQA80ao2KMgJAJGpBgxcyAUA4oBh5pDEAQJms391iYv4/wRiOyXxh/D/rhDy1lmD6PxTx6qCwX/g/PV2ZjMpe9j9myUd45F30P4819mP+XPI/uKGkTxhc8D/DG6Z2ZLbsPxP0Ak6YtOg/",
          "dtype": "f8"
         },
         "z": {
          "bdata": "YSCOTIff07/6M+ChYwHhv24aaeYdH+i/5slqYHFU77//wP0G11Xzv2Jes064Fve/mNPx7xnw+r93jr/N/uP+v4HZ/7mKeQHAnI5nq1eOA8Cfr5PJZK8FwFBxNmAT2wfAJvW8QzwPCsA/q6F0S0kMwAJSwjdhhg7A",
          "dtype": "f8"
         }
        },
        {
         "hovertemplate": "These → identify<extra></extra>",
         "line": {
          "color": "#4ECDC4",
          "width": 2
         },
         "mode": "lines",
         "opacity": 0.1959010506600448,
         "showlegend": false,
         "type": "scatter3d",
         "x": {
          "bdata": "5Kv5t+hJ4L/kNUeggyXjv+O/lIgeAea/4knicLnc6L/i0y9ZVLjrv+BdfUHvk+6/8HPlFMW38L/wOAyJkiXyv/D9Mv1fk/O/78JZcS0B9b/uh4Dl+m72v+9Mp1nI3Pe/7hHOzZVK+b/u1vRBY7j6v+6bG7YwJvy/",
          "dtype": "f8"
         },
         "y": {
          "bdata": "8JRiGkiQDsDCwqdbTBkNwJTw7JxQogvAZR4y3lQrCsA4THcfWbQIwAp6vGBdPQfA26cBomHGBcCt1UbjZU8EwH8DjCRq2ALAUjHRZW5hAcBGvixO5dT/v+oZt9Dt5vy/jnVBU/b4+b8y0cvV/gr3v9UsVlgHHfS/",
          "dtype": "f8"
         },
         "z": {
          "bdata": "uV7X08HBCMCGupT/tR4GwPMMXzGmfgPADqCPH2jkAMBZ8MmZDaX8v6dmF8dDlve/WfdJ5KSf8r+MD/yiWYbrv+smOnQPA+K/eHv2yiVo0b/gqV1e8qSKP9Y9UaaRvtI/IbNE4Ioy4j+cxMf7he7qP819i39Iz/E/",
          "dtype": "f8"
         }
        },
        {
         "hovertemplate": "Natural → to<extra></extra>",
         "line": {
          "color": "#4ECDC4",
          "width": 2
         },
         "mode": "lines",
         "opacity": 0.19122657116515615,
         "showlegend": false,
         "type": "scatter3d",
         "x": {
          "bdata": "kQAJm9VLCUA6Z/sxTl8HQOPN7cjGcgVAjDTgXz+GA0A1m9L2t5kBQLwDihthWv8/DdFuSVKB+z9gnlN3Q6j3P7JrOKU0z/M/CnI6pkvs7z+uDAQCLjroP06nzV0QiOA/6IMuc+Wr0T+IyQ1WUT2iPxgjVjsiOcq/",
          "dtype": "f8"
         },
         "y": {
          "bdata": "sjg/glFA0r+Wn3BgRJe6v6CjG0i90rM/tvkpvC+P0D+CCk0msCncP6cNOEgY4uM/D5ZJfViv6T92HluymHzvP25TtnPspPI/oBc/joyL9T/T28eoLHL4PwigUMPMWPs/O2TZ3Ww//j82FDF8BpMAQFF2dYlWBgJA",
          "dtype": "f8"
         },
         "z": {
          "bdata": "SpuyaSZDCED8r2A6Q9gGQMLNEEB2agVADQ9yFfv2A0CnSH1AVnsCQNJrAxB19QBAhaY/cJDH/j8Pc+evr4r7P8WTSM+fM/g/I7IY3gjD9D8MWRWe2jrxPyymD05nPOs/fXuctnLi4z/Nvdu7iuPYP2OaHWXD1cM/",
          "dtype": "f8"
         }
        },
        {
         "hovertemplate": "dependencies → processing<extra></extra>",
         "line": {
          "color": "#4ECDC4",
          "width": 2
         },
         "mode": "lines",
         "opacity": 0.18928387333261726,
         "showlegend": false,
         "type": "scatter3d",
         "x": {
          "bdata": "/Tj2ZHx4A0AgOa/XppEDQEQ5aErRqgNAZjkhvfvDA0CKOdovJt0DQK05k6JQ9gNA0DlMFXsPBED0OQWIpSgEQBc6vvrPQQRAOjp3bfpaBEBdOjDgJHQEQIA66VJPjQRApDqixXmmBEDHOls4pL8EQOo6FKvO2ARA",
          "dtype": "f8"
         },
         "y": {
          "bdata": "vXTjA6f9AMDrCivFX579v1osj4JxQfm/yk3zP4Pk9L86b1f9lIfwv1Yhd3VNVei/Zsh+4OE2379QnB6sUYbLv7BgAaOBhK0/UqbPPkkk1T9KkJ8kAUzjP2xN16ndBew/RoWHF91f8j/VYyNay7z2P2ZCv5y5Gfs/",
          "dtype": "f8"
         },
         "z": {
          "bdata": "PHGli3Y2BUDQuGf2JwEEQNQmySn3yAJAAU7T8iaLAUDdtjRMQkUAQBsl39F36v0/tEAtFxEz+z+24uuvZWL4PzDgekHPd/U/E2R6JvRz8j9fmKQufrHuP+Azuh2NUug/JNYsTkrT4T8buoSqE3vWP9H2UfsBccI/",
          "dtype": "f8"
         }
        },
        {
         "hovertemplate": "These → to<extra></extra>",
         "line": {
          "color": "#4ECDC4",
          "width": 2
         },
         "mode": "lines",
         "opacity": 0.18735394784368933,
         "showlegend": false,
         "type": "scatter3d",
         "x": {
          "bdata": "5Kv5t+hJ4L8yLu4g3y/fv5sE6dHsy92/BNvjgvpn3L9usd4zCATbv9iH2eQVoNm/QF7UlSM82L+qNM9GMdjWvxQLyvc+dNW/feHEqEwQ1L/nt79ZWqzSv1COugpoSNG/c8lqd+vIz79GdmDZBgHNvxgjVjsiOcq/",
          "dtype": "f8"
         },
         "y": {
          "bdata": "8JRiGkiQDsAjlK4OzxcLwFWT+gJWnwfAhpJG99wmBMC5kZLrY64AwNghvb/Va/q/OiBVqON6878+Pdoh4xPpvxB0FOb9Y9a/YEku3il/tT9izJVqyZHgP5/PZZmtc+4/auka5Mgq9j8E64L7uhv9P1F2dYlWBgJA",
          "dtype": "f8"
         },
         "z": {
          "bdata": "uV7X08HBCMA1qxN7eK0GwFw71NIJnATALdnR5yuQAsDX7YVVTYwAwPIEoBvsJP2/XYzzjFpI+b8UsZK2y4T1v2fF50Dk2vG/Cu4QB/+T7L+UDdGNb6DlvwNa0n36qd2/nE+2pRBT0L9qlBW8ZUWpv2OaHWXD1cM/",
          "dtype": "f8"
         }
        },
        {
         "hovertemplate": "language → machines<extra></extra>",
         "line": {
          "color": "#4ECDC4",
          "width": 2
         },
         "mode": "lines",
         "opacity": 0.1871476545173144,
         "showlegend": false,
         "type": "scatter3d",
         "x": {
          "bdata": "Zj9Jhu2EAkBoS6fYhe4BQGpXBSseWAFAa2NjfbbBAEBsb8HPTisAQNz2PkTOKf8/3w776P78/T/iJreNL9D8P+Y+czJgo/s/6VYv15B2+j/sbut7wUn5P++GpyDyHPg/855jxSLw9j/2th9qU8P1P/nO2w6ElvQ/",
          "dtype": "f8"
         },
         "y": {
          "bdata": "4IVdS1PVub/8061hXRe4P3ZLroMDgdI/7iHxri/83j8y/BntrbvlP25nuwJE+es/VWkuDG0b8T/zHv8WODr0P5DUzyEDWfc/LoqgLM53+j/MP3E3mZb9P7X6ICGyWgBAhFWJphfqAUBSsPErfXkDQCILWrHiCAVA",
          "dtype": "f8"
         },
         "z": {
          "bdata": "sw/No41E8z80Xq227yjwP9JM5wg8D+o/+s7p9Vu24z/IvPgID3vaP9DEft2Ecso/4DlKvQc5eb8FXF218s3Mv1D8biyPz9y/NyIa1gnO5b+6XroPeWLtv+/rhBJ9j/K/3aFkzLd99r/sXondEHf6v0kiyLMddv6/",
          "dtype": "f8"
         }
        },
        {
         "hovertemplate": "models → use<extra></extra>",
         "line": {
          "color": "#4ECDC4",
          "width": 2
         },
         "mode": "lines",
         "opacity": 0.18646048205195412,
         "showlegend": false,
         "type": "scatter3d",
         "x": {
          "bdata": "zuYec+Ii1j+ewpJOoTq3P/4Kq5cjC8W/p7tP68vZ2r/n+GQFA5flv/oTIhUgwe2/h5dvkp718r8RJU4arQr3v5qyLKK7H/u/JEALKso0/7/X5vRY7KQBwJwt5JxzrwPAYXTT4Pq5BcAlu8IkgsQHwOsBsmgJzwnA",
          "dtype": "f8"
         },
         "y": {
          "bdata": "RJiSfZRWC8Cb7X4FvvEIwPFCa43njAbARphXFREoBMCd7UOdOsMBwOiFYErIvP6/kzA5Whvz+b8/2xFqbin1v+yF6nnBX/C/NGGGEyks578abW9mnjHbv4gvpEvVFcC/DHuWNZI3xj/SkmjbfELePxP0Ak6YtOg/",
          "dtype": "f8"
         },
         "z": {
          "bdata": "Od7B2rNSAUAa7lvV1UD8P+/aQ4yV1vU/rNzXvoLC7j/tciYQBLjhP125DsBkFsI/WsOfhKa10b/yKvgTCG3mv53+34EmGfK/Y0RuKa0U+b/vdwpNmhMAwGQkuhHZpgPA/DSqaw1CB8BJMnq3y+IKwAJSwjdhhg7A",
          "dtype": "f8"
         }
        },
        {
         "hovertemplate": "process → language<extra></extra>",
         "line": {
          "color": "#4ECDC4",
          "width": 2
         },
         "mode": "lines",
         "opacity": 0.18535448640412205,
         "showlegend": false,
         "type": "scatter3d",
         "x": {
          "bdata": "IJKI9OVC6z9gvpPS9JruP1B1T9iB+fA/bwtVR4ml8j+PoVq2kFH0P643YCWY/fU/zs1llJ+p9z/uY2sDp1X5Pw76cHKuAfs/LZB24bWt/D9NJnxQvVn+PzbewF/iAgBARqlDF+bYAEBVdMbO6a4BQGY/SYbthAJA",
          "dtype": "f8"
         },
         "y": {
          "bdata": "QT5aG9LMBcCJAUjb80wEwNHENZsVzQLAGYgjWzdNAcDBliI2spr/v1Ed/rX1mvy/4KPZNTmb+b9wKrW1fJv2vwCxkDXAm/O/kDdstQOc8L9BfI9qjjjrv16JRmoVOeW//Sz70zhz3r89R2nTRnTSv+CFXUtT1bm/",
          "dtype": "f8"
         },
         "z": {
          "bdata": "U2v5Augm7r//HpO7pl3ov8/DFwWxn+K/rQpa44Lv2b/rLeFs373NvwmmGLnudrC/DrxEtQMguT9iVSz6w0rQP8ifDd4B6Nk/BlyZGSOR4T+vXeKNiQDmPzncy29ASOo/I1a/VFFw7j+qGVELLkHxP7MPzaONRPM/",
          "dtype": "f8"
         }
        },
        {
         "hovertemplate": "Natural → dependencies<extra></extra>",
         "line": {
          "color": "#4ECDC4",
          "width": 2
         },
         "mode": "lines",
         "opacity": 0.18524024612218498,
         "showlegend": false,
         "type": "scatter3d",
         "x": {
          "bdata": "kQAJm9VLCUCZhL47T+EIQKAIdNzIdghAqIwpfUIMCECwEN8dvKEHQLiUlL41NwdAvxhKX6/MBkDHnP//KGIGQM4gtaCi9wVA1qRqQRyNBUDeKCDilSIFQOas1YIPuARA7jCLI4lNBED2tEDEAuMDQP049mR8eANA",
          "dtype": "f8"
         },
         "y": {
          "bdata": "sjg/glFA0r/tG5jWGKjav5R/eBXwh+G/MPGkv9O75b/OYtFpt+/pv2vU/RObI+6/BCMVX78r8b/TWys0sUXzv6GUQQmjX/W/cc1X3pR5978/Bm6zhpP5vw4/hIh4rfu/3HeaXWrH/b+rsLAyXOH/v7104wOn/QDA",
          "dtype": "f8"
         },
         "z": {
          "bdata": "SpuyaSZDCEBZuJdeqkMIQJcuUeFbQQhAm36suYw5CEBNUWBS1SkIQNTKO5czEAhADI9VvCTrB0CPWFGjuLkHQHhkweWdewdAq3UT6iUxB0CQ0aPOQNsGQErUW19xewZAsllssLkTBkDguB5XgaYFQDxxpYt2NgVA",
          "dtype": "f8"
         }
        },
        {
         "hovertemplate": "to → language<extra></extra>",
         "line": {
          "color": "#4ECDC4",
          "width": 2
         },
         "mode": "lines",
         "opacity": 0.18504607665594022,
         "showlegend": false,
         "type": "scatter3d",
         "x": {
          "bdata": "GCNWOyI5yr84CpkRXnuZv4rg77ZK2sM/LnEJmABy1T8MeU3qbXvgP385lojbPeY/9PneJkkA7D803ZNiW+HwP249uDGSwvM/qJ3cAMmj9j/i/QDQ/4T5Px1eJZ82Zvw/V75Jbm1H/z9ID7ceUhQBQGY/SYbthAJA",
          "dtype": "f8"
         },
         "y": {
          "bdata": "UXZ1iVYGAkDak+YG+60AQMdirwg/q/4/2Z2RA4j6+z/r2HP+0En5P/4TVvkZmfY/D0849GLo8z8iihrvqzfxP2mK+dPpDe0/jwC+yXus5z+zdoK/DUviP67ZjWo/09k/7ostrMYgzj8JyX4GHTaxP+CFXUtT1bm/",
          "dtype": "f8"
         },
         "z": {
          "bdata": "YpodZcPVwz+69gmql3jQP4muCx/A79Y/zRwfEe863T9g27p/dqPhP/AGD8zWgeQ/NKwS3Y4y5z9qjhA737HpP5rGsKOC/us/vjtLWb4Z7j9KlcrpqAPwPwD8g1Gj5vA/oy1OeNG58T/izFw+AYLyP7MPzaONRPM/",
          "dtype": "f8"
         }
        },
        {
         "hovertemplate": "models → dependencies<extra></extra>",
         "line": {
          "color": "#4ECDC4",
          "width": 2
         },
         "mode": "lines",
         "opacity": 0.18394787449271843,
         "showlegend": false,
         "type": "scatter3d",
         "x": {
          "bdata": "zuYec+Ii1j9Q0gSAYq7fP+ledUbxnOQ/qlToTLFi6T9qSltTcSjuPxYg56wYd/E/9pogsPjZ8z/XFVqz2Dz2P7eQk7a4n/g/lwvNuZgC+z94hga9eGX9P1gBQMBYyP8/HL68YZwVAUCNe1ljDEcCQP049mR8eANA",
          "dtype": "f8"
         },
         "y": {
          "bdata": "RJiSfZRWC8Byg+H0XpkKwJ5uMGwp3AnAy1l/4/MeCcD5RM5avmEIwCcwHdKIpAfAUxtsSVPnBsCABrvAHSoGwK7xCTjobAXA3NxYr7KvBMAIyKcmffIDwDWz9p1HNQPAYp5FFRJ4AsCQiZSM3LoBwL104wOn/QDA",
          "dtype": "f8"
         },
         "z": {
          "bdata": "Od7B2rNSAUDhwvLnttEBQHzoSY3sTQJAKf8yXKvEAkDWAdoKkDMDQOXjOBucmANAsic8dE/yA0CoRGSkuz8EQPzOpdaPgARAeDIM4By1BECz9xYyUd4EQE+c2eWs/QRA7CxaeS4VBUCbrmw2OScFQDxxpYt2NgVA",
          "dtype": "f8"
         }
        },
        {
         "hovertemplate": "language → Natural<extra></extra>",
         "line": {
          "color": "#4ECDC4",
          "width": 2
         },
         "mode": "lines",
         "opacity": 0.1837112639091273,
         "showlegend": false,
         "type": "scatter3d",
         "x": {
          "bdata": "Zj9Jhu2EAkCgqMSH2QADQNoRQInFfANAFHu7irH4A0BO5DaMnXQEQIhNso2J8ARAwrYtj3VsBUD8H6mQYegFQDaJJJJNZAZAb/KfkzngBkCpWxuVJVwHQOTElpYR2AdAHi4SmP1TCEBXl42Z6c8IQJEACZvVSwlA",
          "dtype": "f8"
         },
         "y": {
          "bdata": "4IVdS1PVub86eg2i5DO9v0q3Xvw6ScC/drG2p4P4wb+kqw5TzKfDv9ClZv4UV8W//Z++qV0Gx78qmhZVprXIv1eUbgDvZMq/hI7GqzcUzL+wiB5XgMPNv92CdgLJcs+/hT7n1giR0L+bO5MsrWjRv7I4P4JRQNK/",
          "dtype": "f8"
         },
         "z": {
          "bdata": "sw/No41E8z9/jV7sKcv1P07ZtD0tTPg/2ZFue0bC+j/D8HiksCj9P8Y5+wxwe/8/bRDiv8LbAED2rm5biu0BQDQTth6+8gJAcaIlxK7rA0C3gLhuStkEQAdUB7kQvQVAiHr+eP+YBkBpVycveW8HQEqbsmkmQwhA",
          "dtype": "f8"
         }
        },
        {
         "hovertemplate": "understand → mechanisms<extra></extra>",
         "line": {
          "color": "#4ECDC4",
          "width": 2
         },
         "mode": "lines",
         "opacity": 0.18169763866084557,
         "showlegend": false,
         "type": "scatter3d",
         "x": {
          "bdata": "drPDh0F92T/9ywII82zIP5B3DvznBJG/5GkGBy2uzL9pgkWH3p3bv+/ng0VTcuS/rQ5lR7cV67+0GqOkjdzwvxKuk6U/LvS/cEGEpvF/97/N1HSno9H6vyxoZahVI/6/xf2q1IO6AMBzRyPVXGMCwCORm9U1DATA",
          "dtype": "f8"
         },
         "y": {
          "bdata": "ATlBxaXkD0CBLw3AUHANQP8l2br7+wpAfhyltaaHCED+EnGwURMGQHwJPav8ngNA+/8IpqcqAUD07KlBpWz9P/PZQTf7g/g/8sbZLFGb8z/hZ+NETmXtP9lBEzD6k+M/rjeGNkyF0z8AWBQa81tdv2ZguhwEwNO/",
          "dtype": "f8"
         },
         "z": {
          "bdata": "S/CXggR/4D8udYY3S5TcP+bqXWBoFNg/U+Qgu1dp0z+EiNSXdQDNP2SaATCfksI/VAxVbdfFrT9C9HxK+8ahvwulXFj8G8G/4DViN0WIzr/vl6CB8FPWv/HrQqyMsd2/uGxvkJqm4r+bocexBYrmv/Fl31eDeOq/",
          "dtype": "f8"
         }
        },
        {
         "hovertemplate": "enables → use<extra></extra>",
         "line": {
          "color": "#4ECDC4",
          "width": 2
         },
         "mode": "lines",
         "opacity": 0.18133878065442693,
         "showlegend": false,
         "type": "scatter3d",
         "x": {
          "bdata": "fHYorbuq4T9itndz6Q/SPyD5z5NxS4k/0LY6WjJ70L+z9okgYODgv/6R9hMng+m/ppaxA/cS8b9M5Gd9WmT1v/ExHve9tfm/l3/UcCEH/r+eZkV1QiwBwHKNIDL0VAPARbT77qV9BcAX29arV6YHwOsBsmgJzwnA",
          "dtype": "f8"
         },
         "y": {
          "bdata": "WMzW0TbI8z93RjXqXEDzP5bAkwKDuPI/tTryGqkw8j/UtFAzz6jxP/Mur0v1IPE/EqkNZBuZ8D8xI2x8QRHwP586lSnPEu8/3i5SWhsD7j8cIw+LZ/PsP1oXzLuz4+s/lwuJ7P/T6j/W/0UdTMTpPxP0Ak6YtOg/",
          "dtype": "f8"
         },
         "z": {
          "bdata": "fFfS3Kkp278UzjDpynjkvxLGkM/NZ+u/TOVEWS428b8jOXIF8cf0vyCuF20dbfi/6Un83Kgo/L9274J0afz/v4hKX0l/9AHAOiJObOT2A8BPjVwTeQQGwPoIJ5jCGwjAbe1Jusk6CsACFZPbM18MwAJSwjdhhg7A",
          "dtype": "f8"
         }
        },
        {
         "hovertemplate": "machines → human<extra></extra>",
         "line": {
          "color": "#4ECDC4",
          "width": 2
         },
         "mode": "lines",
         "opacity": 0.18094394505789235,
         "showlegend": false,
         "type": "scatter3d",
         "x": {
          "bdata": "+c7bDoSW9D8DJWZs2GnyPw178MksPfA/LaL1TgIh7D9CTgoKq8fnP1b6HsVTbuM/00xnAPkp3j/6pJB2SnfVP0T6c9k3ick/LFWNi7VHsD8wSs2bBIOyv870k2Hfpsq/PaKgOh4G1r8USnfEzLjev/j4Jqe9teO/",
          "dtype": "f8"
         },
         "y": {
          "bdata": "IgtaseIIBUBjIsmubWgFQKQ5OKz4xwVA5FCnqYMnBkAlaBanDocGQGZ/haSZ5gZAppb0oSRGB0DorWOfr6UHQCjF0pw6BQhAadxBmsVkCECq87CXUMQIQOsKIJXbIwlALCKPkmaDCUBsOf6P8eIJQK1QbY18QgpA",
          "dtype": "f8"
         },
         "z": {
          "bdata": "SSLIsx12/r8AhTmcxLH+vzwtDObu8v6/TmneLNk+/79sp0gNNpr/v/Aphut4BADAASxpGABHAMB4+PgZm5UAwBlgVHOZ8ADAIJJcoatXAcD/72UX58kBwAkFHALSRQLAGBueOXbJAsAS+59velIDwNB9UlZA3gPA",
          "dtype": "f8"
         }
        },
        {
         "hovertemplate": "language → processing<extra></extra>",
         "line": {
          "color": "#4ECDC4",
          "width": 2
         },
         "mode": "lines",
         "opacity": 0.18082295966215828,
         "showlegend": false,
         "type": "scatter3d",
         "x": {
          "bdata": "Zj9Jhu2EAkDLLDObfa8CQDAaHbAN2gJAlAcHxZ0EA0D69PDZLS8DQF7i2u69WQNAw8/EA06EA0Aova4Y3q4DQI2qmC1u2QNA8peCQv4DBEBWhWxXji4EQLxyVmweWQRAIGBAga6DBECGTSqWPq4EQOo6FKvO2ARA",
          "dtype": "f8"
         },
         "y": {
          "bdata": "4IVdS1PVub9ohzPZiO+bP8qk+9uL5sM/VGxoTpMn0j9CBtOu4FvaPxnQngcXSOE/EB3Utz1i5T8IagloZHzpP/+2PhiLlu0/+wE65FjY8D93qFQ8bOXyP/NOb5R/8vQ/bvWJ7JL/9j/qm6REpgz5P2ZCv5y5Gfs/",
          "dtype": "f8"
         },
         "z": {
          "bdata": "sw/No41E8z/tS9bhQHzyP5ZxFLBxrvE/gSdiWOTV8D86BgIYztvvP0dVME4c5e0/OSCuCM3B6z+1bGS1Nm7pP/2/SH4b6eY/y5RlObkz5D+B5dF4uVHhPxScXQ4Fktw/6ANcWNdC1j+ZWTEVYpHPP9H2UfsBccI/",
          "dtype": "f8"
         }
        },
        {
         "hovertemplate": "models → Natural<extra></extra>",
         "line": {
          "color": "#4ECDC4",
          "width": 2
         },
         "mode": "lines",
         "opacity": 0.18075355069156757,
         "showlegend": false,
         "type": "scatter3d",
         "x": {
          "bdata": "zuYec+Ii1j8JWSy9SoHhP6w+yUAk8ec/TiRmxP1g7j/4hAGka2jyP8j3z2VYoPU/mmqeJ0XY+D9r3WzpMRD8PzxQO6seSP8/huGEtgVAAUDuGmwX/NsCQFhUU3jydwRAwI062egTBkAoxyE6368HQJEACZvVSwlA",
          "dtype": "f8"
         },
         "y": {
          "bdata": "RJiSfZRWC8AKZ1YKZowJwNA1Gpc3wgfAlQTeIwn4BcBc06Gw2i0EwCKiZT2sYwLA53Apyn2ZAMBaf9qtnp79v+YcYsdBCvq/c7rp4OR19r//V3H6h+HyvxLr8SdWmu6/KyYBW5xx579EYRCO4kjgv7I4P4JRQNK/",
          "dtype": "f8"
         },
         "z": {
          "bdata": "Od7B2rNSAUDHdpThgQgCQPsAzvWOuwJAKLgufj1pA0BWwGPONA8EQDV40EV/qwRADtTmdqM8BUBfeCkUt8EFQOyl5K9qOgZA8RvMtw2nBkDwNV15iggHQJ//JWJaYAdAUBrDEnOwB0D6YYc3LfsHQEqbsmkmQwhA",
          "dtype": "f8"
         }
        },
        {
         "hovertemplate": "language. → models<extra></extra>",
         "line": {
          "color": "#4ECDC4",
          "width": 2
         },
         "mode": "lines",
         "opacity": 0.1807202875242976,
         "showlegend": false,
         "type": "scatter3d",
         "x": {
          "bdata": "qsDGcIHy978RARgCa9f1v3lBaZNUvPO/34G6JD6h8b+NhBdsTwzvv1sFuo4i1uq/KIZcsfWf5r/2Bv/TyGniv4sPQ+03Z9y/JhGIMt7607+JJZrvCB3Hv/CikOhVEam/FKij9rsotT/P0MdwEW3LP87mHnPiItY/",
          "dtype": "f8"
         },
         "y": {
          "bdata": "Dt9yQcEHBECsnzuPlqUAQJjACLrXhvo/1UGaVYLC8z8jhlfiWfzpP0AR9TJe59g/YE4n9rpPob/Y5H7wTDvdv/BvHEFRJuy/urb8BH7X9L97NWtp05v7vyDa7GYUMAHAgBkkGT+SBMDiWFvLafQHwESYkn2UVgvA",
          "dtype": "f8"
         },
         "z": {
          "bdata": "flLKeyVj5T/wrSOmvqrpP8448IpU5+0/lIGvoTgH8T8x26pHWQvzPy9qdCUh/PQ/c9l/g53W9j+18uXc+Zj4PwwTu12XQvo/Yt3q2RTU+z/9h1zWRk/9P/tnnAogt/4/Mx5QxMUHAEBImDo4na4AQDnewdqzUgFA",
          "dtype": "f8"
         }
        },
        {
         "hovertemplate": "human → Transformers<extra></extra>",
         "line": {
          "color": "#4ECDC4",
          "width": 2
         },
         "mode": "lines",
         "opacity": 0.18057411965050815,
         "showlegend": false,
         "type": "scatter3d",
         "x": {
          "bdata": "+Pgmp72147/GwBOYCOLlv5OIAIlTDui/YFDteZ466r8uGNpq6Wbsv/rfxls0k+6/5NNZpr9f8L/LN9Ae5XXxv7KbRpcKjPK/mP+8DzCi879+YzOIVbj0v2bHqQB7zvW/TCsgeaDk9r8zj5bxxfr3vxrzDGrrEPm/",
          "dtype": "f8"
         },
         "y": {
          "bdata": "rVBtjXxCCkBWouCOstMJQP7zU5DoZAlAp0XHkR72CEBQlzqTVIcIQPjorZSKGAhAoDohlsCpB0BKjJSX9joHQPLdB5kszAZAmy97mmJdBkBEge6bmO4FQOzSYZ3OfwVAlCTVngQRBUA+dkigOqIEQObHu6FwMwRA",
          "dtype": "f8"
         },
         "z": {
          "bdata": "0H1SVkDeA8AFSZDGgmkCwAS2QXaF9wDArZf5qMoV/7+ya93p9Ev8vw7tc/Fzlfm/fesE2zn19r/xSnXKGm30v/3azXK1/fG/GJgLQtZM779edHBiz8rqv1OrOhByb+a/AzPgxuky4r8OvFhvrBfcv2EgjkyH39O/",
          "dtype": "f8"
         }
        },
        {
         "hovertemplate": "understand → machines<extra></extra>",
         "line": {
          "color": "#4ECDC4",
          "width": 2
         },
         "mode": "lines",
         "opacity": 0.18038209067983482,
         "showlegend": false,
         "type": "scatter3d",
         "x": {
          "bdata": "drPDh0F92T81PeImB43dP3pjAGNmzuA/WaiPMknW4j847R4CLN7kPxgyrtEO5uY/93Y9ofHt6D/Wu8xw1PXqP7YAXEC3/ew/lEXrD5oF7z86Rb1vvobwP6rnhNevivE/GopMP6GO8j+JLBSnkpLzP/nO2w6ElvQ/",
          "dtype": "f8"
         },
         "y": {
          "bdata": "ATlBxaXkD0CWbB7WFx4PQCqg++aJVw5Av9PY9/uQDUBUB7YIbsoMQOg6kxngAwxAfG5wKlI9C0ASok07xHYKQKbVKkw2sAlAOwkIXajpCEDQPOVtGiMIQGRwwn6MXAdA+aOfj/6VBkCN13ygcM8FQCILWrHiCAVA",
          "dtype": "f8"
         },
         "z": {
          "bdata": "S/CXggR/4D/O9yTxIqXXP+j9j76BbMw/Y0sqHwRysj8MYUdfYOu0v96obIrevs6/31pRuAnd2b/6vnYBe13iv9hrLiLX/ee/B6emLlzO7b+tE/1useXxvxzYGEqE9/S/SFw8d70Y+L9G/ccVrkT7v0kiyLMddv6/",
          "dtype": "f8"
         }
        },
        {
         "hovertemplate": "processing → models<extra></extra>",
         "line": {
          "color": "#4ECDC4",
          "width": 2
         },
         "mode": "lines",
         "opacity": 0.17984071300444013,
         "showlegend": false,
         "type": "scatter3d",
         "x": {
          "bdata": "6joUq87YBEBXfb42NI4DQMO/aMKZQwJAMAITTv/4AEA4iXqzyVz/PxIOz8qUx/w/65Ij4l8y+j/EF3j5Kp33P52czBD2B/U/diEhKMFy8j+gTOt+GLvvP1BWlK2ukOo/BGA93ERm5T+2aeYK2zvgP87mHnPiItY/",
          "dtype": "f8"
         },
         "y": {
          "bdata": "ZkK/nLkZ+z8xOsFIYEL1P/hjhukN1u4/jFOKQVsn4z98DDlmouLNPyg1tzko2MC/bLvTbHnJ378i7mVeb5Prv0b/MAMRofO/fAcvV2p4+b+wDy2rw0//v/OLlX+OkwLADZCUKTt/BcAolJPT52oIwESYkn2UVgvA",
          "dtype": "f8"
         },
         "z": {
          "bdata": "0PZR+wFxwj8MDyB3HivUP3di6tbQB98/ABxFMOPc5D884gP7KBfqP7FxWmvtKu8/BtNxNSkJ8j9Xp6q/2WT0P/fkUEbqp/Y/ulxr1/jS+D/wJh+w1+f6P8bVntt16fw/VPIVirnb/j+0N4EBp2EAQDnewdqzUgFA",
          "dtype": "f8"
         }
        },
        {
         "hovertemplate": "machines → to<extra></extra>",
         "line": {
          "color": "#4ECDC4",
          "width": 2
         },
         "mode": "lines",
         "opacity": 0.17930514365864383,
         "showlegend": false,
         "type": "scatter3d",
         "x": {
          "bdata": "+c7bDoSW9D+8VvuaHOLyP37eGie1LfE/gMx0Zpvy7j8H3LN+zInrP43r8pb9IOg/Efsxry645D+WCnHHX0/hPzY0YL8hzds/QlPe74P71D+a5LhAzFPMP1RFakMhYb0/EAwWK1DVgD9RwqQ4zSu5vxgjVjsiOcq/",
          "dtype": "f8"
         },
         "y": {
          "bdata": "IgtaseIIBUDKkoCu2NEEQHIap6vOmgRAGqLNqMRjBEDCKfSluiwEQGqxGqOw9QNAETlBoKa+A0C6wGednIcDQGJIjpqSUANACdC0l4gZA0CxV9uUfuICQFrfAZJ0qwJAAWcoj2p0AkCp7k6MYD0CQFF2dYlWBgJA",
          "dtype": "f8"
         },
         "z": {
          "bdata": "SSLIsx12/r+8iRa90a77vw7yX1/87Pi/auPzEc419r+XlBCN7o3zv5yc4wdB+fC/vFwYomT17L+GX3mEJijov26N+eECjOO/ODUTH30/3r+Ddomzb7/Vv1cmso1UGMu/fLwu8X9Ytr8YhrxocKqhP2OaHWXD1cM/",
          "dtype": "f8"
         }
        },
        {
         "hovertemplate": "dependencies → These<extra></extra>",
         "line": {
          "color": "#4ECDC4",
          "width": 2
         },
         "mode": "lines",
         "opacity": 0.1779814659639177,
         "showlegend": false,
         "type": "scatter3d",
         "x": {
          "bdata": "/Tj2ZHx4A0BrdlIR/ckBQNqzrr19GwBAkOIV1PzZ/D9uXc4s/nz5P0vYhoX/H/Y/J1M/3gDD8j8InO9tBMzuP8ORYB8HEug/fYfR0AlY4T9w+oQEGTzVP3yXm515IL8/sLrc1nCvtr83Q9XS1h/Tv+Sr+bfoSeC/",
          "dtype": "f8"
         },
         "y": {
          "bdata": "vXTjA6f9AMAK98cX1/UBwFZ5rCsH7gLAo/uQPzfmA8DwfXVTZ94EwD0AWmeX1gXAiYI+e8fOBsDWBCOP98YHwCOHB6MnvwjAcAnstle3CcC8i9DKh68KwAkOtd63pwvAVpCZ8uefDMCjEn4GGJgNwPCUYhpIkA7A",
          "dtype": "f8"
         },
         "z": {
          "bdata": "PHGli3Y2BUB+KnwL8yMCQInY0dByHf4//Q0lnGzo9z8deeKMNKTxPwh+W4ndmeY//yMu8M9+0z+3i2GDk1S6vx73nYdKheC/NJQOdofv7b+OFK0y18L1v0AERWP4oPy/IV85tyXHAcAuYxO0GEMFwLle19PBwQjA",
          "dtype": "f8"
         }
        },
        {
         "hovertemplate": "to → attention<extra></extra>",
         "line": {
          "color": "#4ECDC4",
          "width": 2
         },
         "mode": "lines",
         "opacity": 0.17728552723212831,
         "showlegend": false,
         "type": "scatter3d",
         "x": {
          "bdata": "GCNWOyI5yr+cDpUGg8TVv60Lf+90bN6/XoQ0bDOK47/mgqlgLN7nv26BHlUlMuy/+7/JJA9D8L9APwSfC23yv4S+PhkIl/S/xz15kwTB9r8LvbMNAev4v1A87of9FPu/lLsoAvo+/b/XOmN89mj/vw7dTnt5yQDA",
          "dtype": "f8"
         },
         "y": {
          "bdata": "UXZ1iVYGAkDaNRt2QCABQGP1wGIqOgBA1mnNniio/j/n6Bh4/Nv8P/lnZFHQD/s/CuevKqRD+T8cZvsDeHf3Py7lRt1Lq/U/QGSSth/f8z9R492P8xLyP2JiKWnHRvA/5sLphDb17D8KwYA33lzpPyy/F+qFxOU/",
          "dtype": "f8"
         },
         "z": {
          "bdata": "YpodZcPVwz+QQ8QLGDWoP2UTDYK4ma+/cATzCmUuxr/XkfuNuHfSv9hIxy8pJNq/IKBX9AoU4b/K0fmWVkXlvyL6ER4vp+m/b1hY61w47r93axZipHrxv5IU0/QU7PO/n0liLKhs9r/o69C8w/f4v7qHaCVGiPu/",
          "dtype": "f8"
         }
        },
        {
         "hovertemplate": "process → dependencies<extra></extra>",
         "line": {
          "color": "#4ECDC4",
          "width": 2
         },
         "mode": "lines",
         "opacity": 0.17630039933508995,
         "showlegend": false,
         "type": "scatter3d",
         "x": {
          "bdata": "IJKI9OVC6z9mc1dbi+DuP1YqE2EYP/E/+Jp6FOsN8z+cC+LHvdz0Pz98SXuQq/Y/4uywLmN6+D+FXRjiNUn6PyjOf5UIGPw/yj7nSNvm/T9ur078rbX/PwgQ21dAwgBAWsiOsampAUCrgEILE5ECQP049mR8eANA",
          "dtype": "f8"
         },
         "y": {
          "bdata": "QT5aG9LMBcCTnYhQ4XQFwOb8toXwHAXAN1zluv/EBMCJuxPwDm0EwNsaQiUeFQTALHpwWi29A8B/2Z6PPGUDwNE4zcRLDQPAI5j7+Vq1AsB19ykval0CwMdWWGR5BQLAGbaGmYitAcBrFbXOl1UBwL104wOn/QDA",
          "dtype": "f8"
         },
         "z": {
          "bdata": "U2v5Augm7r9d+9l0vhnlv9D5lXGmLti/fCj8udVOub/OZsRADpbGPyLBIxRFntw/9presUHN5j90DJfoThzvPxIaniWKnfM/dolm3mOV9z+d8iSufXf7P9RvG9e3Rv8/P0CCcXKDAUDu5tVITF4DQDxxpYt2NgVA",
          "dtype": "f8"
         }
        },
        {
         "hovertemplate": "enables → to<extra></extra>",
         "line": {
          "color": "#4ECDC4",
          "width": 2
         },
         "mode": "lines",
         "opacity": 0.1756040402487887,
         "showlegend": false,
         "type": "scatter3d",
         "x": {
          "bdata": "fHYorbuq4T8qfLG4vrDTP2gtSFwYMLA/7MoaFWUxx79E1iwsaz3bv4gj5uYRceW/8tu1N25D7b8tykJE5Yryv2CmqmwTdPa/k4ISlUFd+r/HXnq9b0b+v34d8fLOFwHAmAslB2YMA8Cx+Vgb/QAFwMznjC+U9QbA",
          "dtype": "f8"
         },
         "y": {
          "bdata": "WMzW0TbI8z9+7lWybCfxP0QhqiVFDe0/jmWo5rDL5z/aqaanHIriP0jcSdEQkdo/3GRGU+gN0D/AtQtV/yq2P/AnAqOi4bO/yAKITSL3zr/PeMekuf7Zvx54ZRHxQOK/1DNnUIWC57+I72iPGcTsv6BVNefWAvG/",
          "dtype": "f8"
         },
         "z": {
          "bdata": "fFfS3Kkp27843fx/lS+5vynBdGXw+Mw/hS/KVo2N4T9T+1bK4r7rP/6uvI1P5fI/wU1Qy4PV9z8IjI/cRq78PzeKUzZ/twBALB41aCIMA0DX6Jek8FUFQDsZYJhYlgdAwzywmUHPCUAdbQQ48wIMQG5sFfn3Mw5A",
          "dtype": "f8"
         }
        },
        {
         "hovertemplate": "understand → language.<extra></extra>",
         "line": {
          "color": "#4ECDC4",
          "width": 2
         },
         "mode": "lines",
         "opacity": 0.17478249997243625,
         "showlegend": false,
         "type": "scatter3d",
         "x": {
          "bdata": "drPDh0F92T9QXdjdl9PQP1MO2mfcU8A/gL+Tf93uf79IStM/ylLCv0r71MkO09G/clHAc7h82r/M09UOMZPhv99+y+MF6OW/8inBuNo86r8F1baNr5HuvwxAVjFCc/G/lhXRm6yd878g60sGF8j1v6rAxnCB8ve/",
          "dtype": "f8"
         },
         "y": {
          "bdata": "ATlBxaXkD0BMoPsEugsPQJUHtkTOMg5A325whOJZDUAq1irE9oAMQHM95QMLqAtAvaSfQx/PCkAIDFqDM/YJQFJzFMNHHQlAnNrOAlxECEDmQYlCcGsHQDCpQ4KEkgZAehD+wZi5BUDEd7gBreAEQA7fckHBBwRA",
          "dtype": "f8"
         },
         "z": {
          "bdata": "S/CXggR/4D/dXECb3KzhP768zQ8O0OI/MJDJ9Xre4z+OiuX6D8/kP2PXP+U4muU/O5nk3UE65j+0FaKkoKvmP/oUfgEi7eY/385yLPn/5j/J/bFlsOfmPyl/L4T7qeY/dCfNwW5O5j9TQ9lwHd7lP35SynslY+U/",
          "dtype": "f8"
         }
        },
        {
         "hovertemplate": "language. → context<extra></extra>",
         "line": {
          "color": "#4ECDC4",
          "width": 2
         },
         "mode": "lines",
         "opacity": 0.17385240231919477,
         "showlegend": false,
         "type": "scatter3d",
         "x": {
          "bdata": "qsDGcIHy978pwTUsmzLzv1SDSc9p5ey/UIQnRp1l47+iCgt6ocvTvwCU4fgMgYm/ZvF8qpAz0j+0d2DelJniP7N2gmdhGew/2jpS+JbM8j9aOuM8fYz3P9w5dIFjTPw/rpwC4ySGAEBuHEsFGOYCQC+ckycLRgVA",
          "dtype": "f8"
         },
         "y": {
          "bdata": "Dt9yQcEHBEApOzNplV8BQIgu5yHTbv0/vuZncXse+D/ynujAI87yP1Ku0iCY++o/vB7Uv+ha4D+gPFZ75ejGP7ABpAjYmcO//B9PxkoO37+SHybE1Cfqv5RXkhJCZPK/Xp8Rw5m0978o55Bz8QT9v3oXCJKkKgHA",
          "dtype": "f8"
         },
         "z": {
          "bdata": "flLKeyVj5T+tJ21twkHkPwzvcD3HFeM/YqiYySPV4T+uh6Ec0XbgP/yqo5+K5t0//+7goaiJ2j958b9k8c/WP6t1V70Bt9I/onAhrXmCzD+7Rk0XW+vCP72tLQSwfrE/bBKweX82jr+SInoBkrG5v7NYW5CK+Me/",
          "dtype": "f8"
         }
        },
        {
         "hovertemplate": "Natural → efficiently.<extra></extra>",
         "line": {
          "color": "#4ECDC4",
          "width": 2
         },
         "mode": "lines",
         "opacity": 0.17298977485119005,
         "showlegend": false,
         "type": "scatter3d",
         "x": {
          "bdata": "kQAJm9VLCUDk/zgipD0JQDf/aKlyLwlAiv6YMEEhCUDc/ci3DxMJQDD9+D7eBAlAgvwoxqz2CEDV+1hNe+gIQCj7iNRJ2ghAe/q4WxjMCEDO+eji5r0IQCD5GGq1rwhAdPhI8YOhCEDH93h4UpMIQBn3qP8ghQhA",
          "dtype": "f8"
         },
         "y": {
          "bdata": "sjg/glFA0r9ACKNwP0XOvxqfx9zbCci/9DXsSHjOwb+emSFqKSa3v6iO1YTEXqW/gK/AVE52fD+IugUaWHysP46vuTTztLo/7EA4Lt2Vwz8QqhPCQNHJP5uJ9ypSBtA/Lj7l9AMk0z/A8tK+tUHWP1SnwIhnX9k/",
          "dtype": "f8"
         },
         "z": {
          "bdata": "SpuyaSZDCEAQnNBTd0MFQLPmyJIlQQJA1cg8oGBz/j/STbpYsVX4Pz00YyV9JfI/YvOsLuO/5z+5nyDROA3WP8Tsqo2hIK6/zLeRiMDx3b/rSiIlZTrsv4l70u550PS/EkhBDYaS+78213qXbC8BwIrAetM4mATA",
          "dtype": "f8"
         }
        },
        {
         "hovertemplate": "processing → machines<extra></extra>",
         "line": {
          "color": "#4ECDC4",
          "width": 2
         },
         "mode": "lines",
         "opacity": 0.17288789702227353,
         "showlegend": false,
         "type": "scatter3d",
         "x": {
          "bdata": "6joUq87YBECHWYjo1hcEQCR4/CXfVgNAwJZwY+eVAkBdteSg79QBQPrTWN73EwFAlvLMGwBTAEBmIoKyECT/P6Bfai0hov0/2pxSqDEg/D8U2jojQp76P0wXI55SHPk/hlQLGWOa9z/AkfOTcxj2P/nO2w6ElvQ/",
          "dtype": "f8"
         },
         "y": {
          "bdata": "ZkK/nLkZ+z+IUXVPcSv8P6tgKwIpPf0/zG/htOBO/j/ufpdnmGD/PwjHJg0oOQBAmc6B5gPCAEAq1ty/30oBQLzdN5m70wFATOWScpdcAkDe7O1Lc+UCQG/0SCVPbgNAAPyj/ir3A0CRA//XBoAEQCILWrHiCAVA",
          "dtype": "f8"
         },
         "z": {
          "bdata": "0PZR+wFxwj90XQ5gIwGYPyBFafS6Nbm/NidJFQuIzL/3QeB4pnXWv+BKYetP8d6/0zMA9STh47/fE7ynynfov0u9V/HIPe2/MNwv9/cY8b+wXruYX6jzv9Y3WFtJSva//GshpvX6+L/wYoZn57X7v0kiyLMddv6/",
          "dtype": "f8"
         }
        },
        {
         "hovertemplate": "to → enables<extra></extra>",
         "line": {
          "color": "#4ECDC4",
          "width": 2
         },
         "mode": "lines",
         "opacity": 0.17271587241542677,
         "showlegend": false,
         "type": "scatter3d",
         "x": {
          "bdata": "zOeML5T1BsCy+Vgb/QAFwJkLJQdmDAPAfh3x8s4XAcDJXnq9b0b+v5aCEpVBXfq/YKaqbBN09r8tykJE5Yryv/TbtTduQ+2/jSPm5hFx5b9M1iwsaz3bv/DKGhVlMce/WC1IXBgwsD8kfLG4vrDTP3x2KK27quE/",
          "dtype": "f8"
         },
         "y": {
          "bdata": "oFU159YC8b+K72iPGcTsv9UzZ1CFgue/HnhlEfFA4r/TeMekuf7Zv9ACiE0i986/8CcCo6Lhs7/AtQtV/yq2P9tkRlPoDdA/RNxJ0RCR2j/YqaanHIriP45lqOawy+c/RCGqJUUN7T987lWybCfxP1jM1tE2yPM/",
          "dtype": "f8"
         },
         "z": {
          "bdata": "bmwV+fczDkCrTC6WEgIMQMUrmZmLzQlAaC2aMOOTB0BKsMFk21IFQM1I1OOUCANAGXzLCKezAEAHZMviY6b8P4YxQHDTzfc/QAT7hDTe8j8gGf7KjbLrPzyAsre3g+E/RrEDZJDdzD9668C6qUu5v3xX0typKdu/",
          "dtype": "f8"
         }
        },
        {
         "hovertemplate": "identify → machines<extra></extra>",
         "line": {
          "color": "#4ECDC4",
          "width": 2
         },
         "mode": "lines",
         "opacity": 0.17226987959032614,
         "showlegend": false,
         "type": "scatter3d",
         "x": {
          "bdata": "7psbtjAm/L9MFFM6/6r4v6mMir7NL/W/BgXCQpy08b/G+vKN1XLsv4LrYZZyfOW/dLihPR8M3b/UM/+csj7OvwC21/U1KZO/UEaJH2V0yT+yweZ++KbaPyBwBDffSeQ/Zn+VLkJA6z9VRxOTUhvxP/nO2w6ElvQ/",
          "dtype": "f8"
         },
         "y": {
          "bdata": "1SxWWAcd9L/LvWFx8Vfvv+4hFzLUdea/GgyZ5W0n27+8qAfOZsbCv8DGIi8OwsA/IJsmlkEl2j9v6V0KvvTlP0yFqEnb1u4/lZB5RHzc8z+F3h7kik34P3UsxIOZvvw/Mr20EdSXAEApZIdhW9ACQCILWrHiCAVA",
          "dtype": "f8"
         },
         "z": {
          "bdata": "zX2Lf0jP8T+dh0SWk4rtP3ew3bsWbOc/71PGwCE54T/+NNpxhdHVP3xuRDsFzsE/VzpIwApisb81w1HpBPTRv+og1Kjh7d+/tvbwqd0h578AATa8S3fuv17oXhjO+PK/r74DWavE9r+x1wCqxJr6v0kiyLMddv6/",
          "dtype": "f8"
         }
        },
        {
         "hovertemplate": "understand → enables<extra></extra>",
         "line": {
          "color": "#4ECDC4",
          "width": 2
         },
         "mode": "lines",
         "opacity": 0.17159945594415948,
         "showlegend": false,
         "type": "scatter3d",
         "x": {
          "bdata": "drPDh0F92T8kXPJfRTHaP9IEIThJ5do/f61PEE2Z2z8uVn7oUE3cP9v+rMBUAd0/iKfbmFi13T83UApxXGneP+X4OElgHd8/k6FnIWTR3z8gJcv8s0LgP3d54ui1nOA/zs351Lf24D8lIhHBuVDhP3x2KK27quE/",
          "dtype": "f8"
         },
         "y": {
          "bdata": "ATlBxaXkD0CFzqi+UlIOQAdkELj/vwxAivl3sawtC0AOj9+qWZsJQJAkR6QGCQhAE7qunbN2BkCWTxaXYOQEQBrlfZANUgNAnXrlibq/AUAgEE2DZy0AQEZLafkoNv0/THY47IIR+j9ToQff3Oz2P1jM1tE2yPM/",
          "dtype": "f8"
         },
         "z": {
          "bdata": "S/CXggR/4D8IVoAMIlPeP5rqhxtRk9s/njVqsriq2D8dOs/LhofVP+6KIp/ZGtI/hsnWVP2yzD+cv8veBHnEP7zg0LomBrc/eDiG9vRdjT98LlmdYAGxv2v55Hg2asO/negXnu/Izr9ytcrZmzzVv3xX0typKdu/",
          "dtype": "f8"
         }
        },
        {
         "hovertemplate": "machines → process<extra></extra>",
         "line": {
          "color": "#4ECDC4",
          "width": 2
         },
         "mode": "lines",
         "opacity": 0.1704693087820551,
         "showlegend": false,
         "type": "scatter3d",
         "x": {
          "bdata": "+c7bDoSW9D/XIBr7Sxf0P7NyWOcTmPM/kMSW09sY8z9tFtW/o5nyP0toE6xrGvI/J7pRmDOb8T8EDJCE+xvxP+JdznDDnPA/v68MXYsd8D84A5aSpjzvP/GmEms2Pu4/rEqPQ8Y/7T9m7gscVkHsPyCSiPTlQus/",
          "dtype": "f8"
         },
         "y": {
          "bdata": "IgtaseIIBUCbc9/rnvkBQCm4yUy21P0/GonUwS629z8MWt82p5fxP/1V1Fc/8uY/vO/Tg2Bq1T/gYwZA7X2ov7CI1dPbidu/cyLV//wB6r9IwN8Khh/zv1jv1JUNPvm/ZB7KIJVc/7+5pt9Vjr0CwEE+WhvSzAXA",
          "dtype": "f8"
         },
         "z": {
          "bdata": "SSLIsx12/r8LBT9bM/X8v/lhE7B6efu/aLawsuIH+r8jBYdh2KT4v64f5+gNVPe/DIISMUsY9r8IDosrSvP0v2Mp46mg5fO/XG6I2rju8r8o+/jL2Azyv8NT85U4PfG/q6YmDCZ88L8q4kVgaIrvv1Nr+QLoJu6/",
          "dtype": "f8"
         }
        },
        {
         "hovertemplate": "human → understand<extra></extra>",
         "line": {
          "color": "#4ECDC4",
          "width": 2
         },
         "mode": "lines",
         "opacity": 0.1702441899209158,
         "showlegend": false,
         "type": "scatter3d",
         "x": {
          "bdata": "+Pgmp72147/r6coxSWThv7613XipJd6/o5cljsCC2b+KeW2j19/Uv3FbtbjuPNC/rXr6mws0x7/0fBSNc9y7vyAJaMSfoaK/qOdYkad1oj847Ixzd8a7P1KyNo8NKcc/QndTsm830D9blQudWNrUP3azw4dBfdk/",
          "dtype": "f8"
         },
         "y": {
          "bdata": "rVBtjXxCCkDYBSF/f6kKQAK71HCCEAtALXCIYoV3C0BYJTxUiN4LQILa70WLRQxArI+jN46sDEDXRFcpkRMNQAL6ChuUeg1ALK++DJfhDUBXZHL+mUgOQIEZJvCcrw5ArM7Z4Z8WD0DXg43Ton0PQAE5QcWl5A9A",
          "dtype": "f8"
         },
         "z": {
          "bdata": "0H1SVkDeA8DMd/FX0PMBwLg+fE/4CwDAbr5Vz11S/L+O7mLAU5v4v9SikV6D9vS/EdB2obNm8b9KEVjKO9vrv1oRO5GvF+W/JVB8sy4D3b97YVzXACvQvwgbFH7N3ay/Yjwv6tRywT8k89KUGebUP0vwl4IEf+A/",
          "dtype": "f8"
         }
        },
        {
         "hovertemplate": "use → relationships.<extra></extra>",
         "line": {
          "color": "#4ECDC4",
          "width": 2
         },
         "mode": "lines",
         "opacity": 0.1696564678077876,
         "showlegend": false,
         "type": "scatter3d",
         "x": {
          "bdata": "6wGyaAnPCcC+UGuPYMYIwJGfJLa3vQfAYu7d3A61BsA1PZcDZqwFwAiMUCq9owTA2toJURSbA8CsKcN3a5ICwH94fJ7CiQHAUsc1xRmBAMBJLN7X4fD+v+7JUCWQ3/y/kmfDcj7O+r84BTbA7Lz4v9yiqA2bq/a/",
          "dtype": "f8"
         },
         "y": {
          "bdata": "E/QCTpi06D+/BQgcPc/gP9cuGtTD09E/cJEigWtIoD/0FKPnUYPLvyFnx1dfjN2/5qHe3Yqr5r86kNkP5pDuv0Y/6qAgO/O/cbbnOc4t97+aLeXSeyD7v8Wk4mspE/+/+A1wguuCAcCNye5OQnwDwCKFbRuZdQXA",
          "dtype": "f8"
         },
         "z": {
          "bdata": "AlLCN2GGDsBpiLgYd5YLwGmK0KQiqQjAKfJkWdjABcAe0isCzN8CwHqr0XPUBwDAJvDs36d0+r/waT7DTPD0v3z8kVhZBu+/ROa2AGVZ5L8EOq+lmazTv7jVePEGD5E/BpNK4oqU1T9SNc0I6vfkP8Ly7fM3G+8/",
          "dtype": "f8"
         }
        },
        {
         "hovertemplate": "word → to<extra></extra>",
         "line": {
          "color": "#4ECDC4",
          "width": 2
         },
         "mode": "lines",
         "opacity": 0.16953700225245183,
         "showlegend": false,
         "type": "scatter3d",
         "x": {
          "bdata": "tty37PdDAsD204Cn8BMBwGyWk8TSx/+/6oQlOsRn/b9qc7evtQf7v+phSSWnp/i/aFDbmphH9r/oPm0Qiufzv2ct/4V7h/G/zjci99lO7r/OFEbivI7pv8rxac2fzuS/ys6NuIIO4L+SV2NHy5zWvxgjVjsiOcq/",
          "dtype": "f8"
         },
         "y": {
          "bdata": "jgu/H2StAMD93wiVrWX8v92ok+qScPe/vXEeQHh78r85dVIruwzrv/sGaNaFIuG/5GL2BULhzL8wrGabJo+1P4iHrlA0ONk/A7JBfU+G5j8gEBZpQjjwP0JHixNdLfU/Yn4Avnci+j+AtXVokhf/P1F2dYlWBgJA",
          "dtype": "f8"
         },
         "z": {
          "bdata": "5B376yFeBcCI+Vh0O40DwG3/kTDqvgHATJVqWUTr/7802K2dLWf8v14Phy099fi/vMl9DDeY9b8be1LB0lHyvwUGq5dKRe6/1QNtWDMU6L8OCGq38Aziv5rpJVv1U9i/y+nU7tyPyb+LrRIwGUOWv2KaHWXD1cM/",
          "dtype": "f8"
         }
        },
        {
         "hovertemplate": "models → context<extra></extra>",
         "line": {
          "color": "#4ECDC4",
          "width": 2
         },
         "mode": "lines",
         "opacity": 0.16920721925610502,
         "showlegend": false,
         "type": "scatter3d",
         "x": {
          "bdata": "zuYec+Ii1j8281PlEFvgPwZzGJGwpOU/1PLcPFDu6j9SuVD09xvwPzn5MsrHwPI/ITkVoJdl9T8Jefd1Zwr4P/C42Us3r/o/2Pi7IQdU/T+/OJ731vj/P1Q8wGbTTgFAR1yxUTuhAkA7fKI8o/MDQC+ckycLRgVA",
          "dtype": "f8"
         },
         "y": {
          "bdata": "RJiSfZRWC8DI/JqjlZwKwExho8mW4gnAz8Wr75coCcBUKrQVmW4IwNiOvDuatAfAW/PEYZv6BsDfV82HnEAGwGO81a2dhgXA5yDe057MBMBrheb5nxIEwO7p7h+hWAPAck73RaKeAsD2sv9ro+QBwHoXCJKkKgHA",
          "dtype": "f8"
         },
         "z": {
          "bdata": "Od7B2rNSAUBRNiFX8y0AQHKfz9E9Df4/+ZyMeYe0+z+38m0KX035P3RHcVkZ1PY/Pvygw/NF9D/OpRudN6HxP6HIhmCgyu0/Li9sZaQl6D/XVaqg6FbiP/T0WLDkx9g/Oj7dh19QyT9kCN0QOhF4P7RYW5CK+Me/",
          "dtype": "f8"
         }
        },
        {
         "hovertemplate": "attention → mechanisms<extra></extra>",
         "line": {
          "color": "#45B7D1",
          "width": 6.774792440296004
         },
         "mode": "lines",
         "opacity": 0.7,
         "showlegend": false,
         "type": "scatter3d",
         "x": {
          "bdata": "Dt1Oe3nJAMA0fJ04GQUBwFsb7PW4QAHAgLo6s1h8AcCmWYlw+LcBwMz41y2Y8wHA8pcm6zcvAsAYN3Wo12oCwD/Ww2V3pgLAZXUSIxfiAsCKFGHgth0DwLGzr51WWQPA11L+WvaUA8D88UwYltADwCORm9U1DATA",
          "dtype": "f8"
         },
         "y": {
          "bdata": "LL8X6oXE5T8TrqHq6YHjP/qcK+tNP+E/whdr12P53T+P9X7YK3TZP17Tktnz7tQ/K7Gm2rtp0D/yHXW3B8nHPx6zOXMvfb0/sFQS757Qpj+4eZ0QQrKavz7n139wwbi/ATjEPShrxb9lfJw7mHXOv2ZguhwEwNO/",
          "dtype": "f8"
         },
         "z": {
          "bdata": "uodoJUaI+79IZi9YIXv0vyPNvR3Kduu/hPBIemBK3r+g9NSUfhXCv1AozGfs078/7CSpwwcP1D/8sFMffdzaPxDDEgl4Otw/ZEbGpNtL2D9IwKQLI+/OP6BA7NoEG6M/DAfXwMUozL8W8iHg8XPgv+9l31eDeOq/",
          "dtype": "f8"
         }
        },
        {
         "hovertemplate": "dependencies → word<extra></extra>",
         "line": {
          "color": "#45B7D1",
          "width": 6.155492586083116
         },
         "mode": "lines",
         "opacity": 0.7,
         "showlegend": false,
         "type": "scatter3d",
         "x": {
          "bdata": "/Tj2ZHx4A0DeEvwVdMYAQH/ZA47XKPw/QI0P8MbE9j8CQRtStmDxP4npTWhL+ec/FKLKWFRi2j9wxOWDR0izP9i/15YwvtC/Z3hUhzkn47/jED3DWu/tv7HUkv+9W/S/7iCHnc6/+b8sbXs73yP/v7bct+z3QwLA",
          "dtype": "f8"
         },
         "y": {
          "bdata": "vXTjA6f9AMDMkU5h6/cAwNuuub4v8gDA6sskHHTsAMD56I95uOYAwAgG+9b84ADAFiNmNEHbAMAmQNGRhdUAwDRdPO/JzwDAQ3qnTA7KAMBSlxKqUsQAwGG0fQeXvgDAcNHoZNu4AMB/7lPCH7MAwI4Lvx9krQDA",
          "dtype": "f8"
         },
         "z": {
          "bdata": "PHGli3Y2BUBAUhYXJukEQGRvVR2reARAIpK5hZ7DA0CyOcdtCawCQDlto8/lGAFAGxI4d7/u/T+7UHoSjnf4P8kNwcJKxPE/nKOxbMS54z8gzizFlxarPwja0YwrReK/1DaoS/Hi879mdZ0McCz/v+Qd++shXgXA",
          "dtype": "f8"
         }
        },
        {
         "hovertemplate": "language. → human<extra></extra>",
         "line": {
          "color": "#45B7D1",
          "width": 6.022147729725188
         },
         "mode": "lines",
         "opacity": 0.7,
         "showlegend": false,
         "type": "scatter3d",
         "x": {
          "bdata": "qsDGcIHy97+n8vlA0fD2v6QkLREh7/W/oFZg4XDt9L+diJOxwOvzv5q6xoEQ6vK/luz5UWDo8b+THi0isObwvyChwOT/ye+/GQUnhZ/G7b8TaY0lP8PrvwzN88Xev+m/BTFaZn6857//lMAGHrnlv/j4Jqe9teO/",
          "dtype": "f8"
         },
         "y": {
          "bdata": "Dt9yQcEHBECZwgQQqnkEQCWmlt6S6wRAsIkorXtdBUA7bbp7ZM8FQMZQTEpNQQZAUjTeGDazBkDeF3DnHiUHQGn7AbYHlwdA9N6ThPAICECAwiVT2XoIQAumtyHC7AhAl4lJ8KpeCUAhbdu+k9AJQK1QbY18QgpA",
          "dtype": "f8"
         },
         "z": {
          "bdata": "flLKeyVj5T8z7P7DR+foPy9sLAvM4es//2um5PrP7T/jUAp3kTzuPzspe8Gixew/okYlrIAh6T8Z+zbbbSLjPzR4sq3RcdU/AKjXOdIZV79knbMRbPrZvyK+iXBk0uu/PeSnj5UU9r98qeSdI8b+v9B9UlZA3gPA",
          "dtype": "f8"
         }
        },
        {
         "hovertemplate": "to → process<extra></extra>",
         "line": {
          "color": "#45B7D1",
          "width": 4.405411849352758
         },
         "mode": "lines",
         "opacity": 0.7,
         "showlegend": false,
         "type": "scatter3d",
         "x": {
          "bdata": "GCNWOyI5yr9E0l86p4/Av8QFpuWwmKu/GHtmPHYalj9wQAaRk9m4PwtxeclEFsY/38Fvyr+/zz9aCbNlnbTUP8QxLuZaidk/LVqpZhhe3j9LQZLzapnhP4DVz7PJA+Q/tWkNdChu5j/q/Uo0h9joPyCSiPTlQus/",
          "dtype": "f8"
         },
         "y": {
          "bdata": "UXZ1iVYGAkBErqiNOVz+P+dvZgjGq/g/iDEkg1L78j9U5sP7vZXqPzLTfuKtad4/4GbXNX+fvj+APyaP3DPOv5oMTi7e7eK/VInSOMVO7r8Ig6sh1tf0v2jB7aZJiPq/4v8Xll4cAMARH7lYmPQCwEE+WhvSzAXA",
          "dtype": "f8"
         },
         "z": {
          "bdata": "YpodZcPVwz/BwP88IJbUP943JdEGeN4/HuvsDKto4z8CnM40P3vmP3jKvQUdLOg/ZP63N15F6D/fCXr8jKXmP2fg94VRQeM//hx7RAdI3D88CDl+ZLzNP8CacUL38JS/AfRbIHiw07+H0wAMPM3jv1Jr+QLoJu6/",
          "dtype": "f8"
         }
        },
        {
         "hovertemplate": "enables → models<extra></extra>",
         "line": {
          "color": "#45B7D1",
          "width": 4.139137511198301
         },
         "mode": "lines",
         "opacity": 0.7,
         "showlegend": false,
         "type": "scatter3d",
         "x": {
          "bdata": "fHYorbuq4T9E9njJETLhPwt2yeVnueA/0/UZAr5A4D8269Q8KJDfP8XqdXXUnt4/VOoWroCt3T/j6bfmLLzcP3LpWB/Zyts/Aun5V4XZ2j+R6JqQMejZPyDoO8nd9tg/sOfcAYoF2D8/5306NhTXP87mHnPiItY/",
          "dtype": "f8"
         },
         "y": {
          "bdata": "WMzW0TbI8z9I4hv0X+3sP94rikRSSuI/1NXhUxKdzj+gB8rUSN63v7juVZStPdu/xa28eeRB6L8YMqcUeXLxv0wNcOz/w/a/gOg4xIYV/L/a4QDOhrMAwHVP5TlKXAPADr3JpQ0FBsCpKq4R0a0IwESYkn2UVgvA",
          "dtype": "f8"
         },
         "z": {
          "bdata": "fFfS3Kkp27/AEwObQ8iCv/JGsR/5P9k/Nv3h3qvS6D9QB3wrKv7xP4CPC8jT7PY/SPWLoQAc+z+sjHiv+Hv+P/LbQOazgwBAXor7DtFhAUCVpy7WL+ABQIoEpE15CwJAaY9cD4H0AUDGREY9ba8BQDnewdqzUgFA",
          "dtype": "f8"
         }
        },
        {
         "hovertemplate": "understand → efficiently.<extra></extra>",
         "line": {
          "color": "#45B7D1",
          "width": 3.7928101558935543
         },
         "mode": "lines",
         "opacity": 0.7,
         "showlegend": false,
         "type": "scatter3d",
         "x": {
          "bdata": "drPDh0F92T/HkKZsDNfiP9NHaxV47+g/3/4vvuMH7z/1WnqzJ5DyP3y23IddnPU/AhI/XJOo+D+IbaEwybT7Pw3JAwX/wP4/ShKzbJrmAEANQORWtWwCQNBtFUHQ8gNAk5tGK+t4BUBWyXcVBv8GQBn3qP8ghQhA",
          "dtype": "f8"
         },
         "y": {
          "bdata": "ATlBxaXkD0C3SD7/c9cNQGxYOzlCygtAIWg4cxC9CUDXdzWt3q8HQIuHMuesogVAQJcvIXuVA0D2pixbSYgBQFZtUyov9v4/woxNnsvb+j8trEcSaMH2P5bLQYYEp/I/AtZ39EEZ7T/YFGzceuTkP1SnwIhnX9k/",
          "dtype": "f8"
         },
         "z": {
          "bdata": "S/CXggR/4D8Orwulfi/gPyXnMiCZEt8/9eHwUDV03D/kRkOBHfDXPwogZEP4CtE/WNmmDdqfvT8AUGxeFMq0vzYhl5MC2NS/iMdO9Xy647/en9/h5mfuvxCfxMLrIvW/qFO0FFGL+7/mtf0nGyQBwIrAetM4mATA",
          "dtype": "f8"
         }
        },
        {
         "hovertemplate": "efficiently. → mechanisms<extra></extra>",
         "line": {
          "color": "#45B7D1",
          "width": 3.4868541138678086
         },
         "mode": "lines",
         "opacity": 0.7,
         "showlegend": false,
         "type": "scatter3d",
         "x": {
          "bdata": "Gfeo/yCFCECnf/8ULVYFQDYIVio5JwJAhiFZf4rw/T+iMgaqopL3P79Ds9S6NPE/sqnA/qWt5T/YlzWorOPRP9COWLTKT76/ou8wAcmF4L9nzdarmEHtv5lVPiu0/vS/fkSRAJxc+7+wGfLqQd0AwCORm9U1DATA",
          "dtype": "f8"
         },
         "y": {
          "bdata": "VKfAiGdf2T+i3TePTSbWP/ETr5Uz7dI/fJRMODNozz8aATtF//XIP7htKVLLg8I/pLQvvi4juD+4GxmwjX2mP6COaeEQWnq/YH9z6BEUrb915lzacG67v6EGQGBsKcS/A5pRU6Cbyr+zljEj6obQv2ZguhwEwNO/",
          "dtype": "f8"
         },
         "z": {
          "bdata": "isB60ziYBMA2P9ZRYgsCwGTvV83uJP+/NcMI48eA+r9alzRtQkz2vxbYIPa3o/K/uQACO/o4778oUt2Nn4fqv/0ObjxaPOe/r8wZ7y9O5b91Wa3epKLkv3G/wcsPD+W/DCbMob1a5r9dUuFPyUHov/Bl31eDeOq/",
          "dtype": "f8"
         }
        },
        {
         "hovertemplate": "mechanisms → understand<extra></extra>",
         "line": {
          "color": "#45B7D1",
          "width": 2.8334532612038323
         },
         "mode": "lines",
         "opacity": 0.7,
         "showlegend": false,
         "type": "scatter3d",
         "x": {
          "bdata": "I5Gb1TUMBMB0RyPVXGMCwMX9qtSDugDALGhlqFUj/r/P1HSno9H6v3FBhKbxf/e/Eq6TpT8u9L+0GqOkjdzwv60OZUe3Feu/8ueDRVNy5L9ugkWH3p3bv+RpBgctrsy/wHcO/OcEkb/0ywII82zIP3azw4dBfdk/",
          "dtype": "f8"
         },
         "y": {
          "bdata": "ZmC6HATA078AXhQa81tdv6k3hjZMhdM/2EETMPqT4z/cZ+NETmXtP/DG2SxRm/M/8tlBN/uD+D/07KlBpWz9P/v/CKanKgFAewk9q/yeA0D9EnGwURMGQH4cpbWmhwhA/iXZuvv7CkCALw3AUHANQAE5QcWl5A9A",
          "dtype": "f8"
         },
         "z": {
          "bdata": "8WXfV4N46r/16RQWkFvivx5WvHm5/tS/3LwJK1ALub9A/O1B4Di8P3DyiqNEmNI/Ej8fP/wV3D+1MHkgKq7hP5EZfKxaLuQ/Sm2ea9uS5T+iLQOvMfHlP4iwUC4IbOU/HTfAA3Ix5D9C8nU3m3jiP0zwl4IEf+A/",
          "dtype": "f8"
         }
        },
        {
         "hovertemplate": "Natural → understand<extra></extra>",
         "line": {
          "color": "#45B7D1",
          "width": 2.6400930829281495
         },
         "mode": "lines",
         "opacity": 0.7,
         "showlegend": false,
         "type": "scatter3d",
         "x": {
          "bdata": "kQAJm9VLCUAh0gc4ibcHQLGjBtU8IwZAQXUFcvCOBEDRRgQPpPoCQGAYA6xXZgFA4NMDkhak/z8AdwHMfXv8PyAa/wXlUvk/QL38P0wq9j9gYPp5swHzP/0G8Gc1su8/Pk3r2wNh6T9+k+ZP0g/jP3azw4dBfdk/",
          "dtype": "f8"
         },
         "y": {
          "bdata": "sjg/glFA0r9g4198526UPx81y3EuztQ/BDboNbcq5D940eoyV+7tP3a29pf72PM/MAR4lsu6+D/rUfmUm5z9P9JPvck1PwFAr/b9yB2wA0CMnT7IBSEGQGpEf8ftkQhARuu/xtUCC0AkkgDGvXMNQAE5QcWl5A9A",
          "dtype": "f8"
         },
         "z": {
          "bdata": "SpuyaSZDCECfxvf4sf8HQFNcDFkorQdAwcFr+DU9B0AGTnvLAKMGQIN0jUbN0wVAPPffI4jHBECocP8MLnkDQKIp3vQL5wFATtmJ6NQSAEBwyut8GAP8P7IWyXiKdvc/obAG3HaV8j8M1LN7I/PqP0zwl4IEf+A/",
          "dtype": "f8"
         }
        },
        {
         "hovertemplate": "use → machines<extra></extra>",
         "line": {
          "color": "#45B7D1",
          "width": 2.4568629532479314
         },
         "mode": "lines",
         "opacity": 0.7,
         "showlegend": false,
         "type": "scatter3d",
         "x": {
          "bdata": "6wGyaAnPCcD23vhy3zoHwAK8P321pgTADJmGh4sSAsAu7Jojw/z+v0WmKDhv1Pm/WGC2TBus9L/dNIjCjgfvvwqpo+vmtuS/bDp+KX7M1L8AY5HaPZdlv+b0EzIhdtQ/SIbub7iL5D8aEtNGYNzuP/nO2w6ElvQ/",
          "dtype": "f8"
         },
         "y": {
          "bdata": "E/QCTpi06D8beBx7YPPsPxL+GlQUmfA/FsCnani48j8agjSB3Nf0Px5EwZdA9/Y/IgZOrqQW+T8nyNrECDb7PyqKZ9tsVf0/Lkz08dB0/z8Zh0CEGsoAQBzoho/M2QFAHUnNmn7pAkAfqhOmMPkDQCILWrHiCAVA",
          "dtype": "f8"
         },
         "z": {
          "bdata": "AlLCN2GGDsBEIvk/zVYMwP39KH1CNQrAkl+f9hUvCMCgpkFhPVAGwM6xs5i1ogTA+rQwaQIuA8A1Se0XzvYBwG0ZWoCt/gDAtHoGxwtEAMDxp3tNfYT/v7riiaaE4/6/dOjv4TOR/r/k+eKVn3X+v0kiyLMddv6/",
          "dtype": "f8"
         }
        },
        {
         "hovertemplate": "language → to<extra></extra>",
         "line": {
          "color": "#45B7D1",
          "width": 2.1170712499148054
         },
         "mode": "lines",
         "opacity": 0.7,
         "showlegend": false,
         "type": "scatter3d",
         "x": {
          "bdata": "Zj9Jhu2EAkBJD7ceUhQBQFi+SW5tR/8/HV4lnzZm/D/j/QDQ/4T5P6md3ADJo/Y/bj24MZLC8z803ZNiW+HwP/X53iZJAOw/gjmWiNs95j8OeU3qbXvgPy9xCZgActU/j+Dvtkrawz/4CZkRXnuZvxgjVjsiOcq/",
          "dtype": "f8"
         },
         "y": {
          "bdata": "4IVdS1PVub/6yH4GHTaxP+qLLazGIM4/rNmNaj/T2T+xdoK/DUviP4wAvsl7rOc/aIr50+kN7T8iihrvqzfxPw9POPRi6PM//RNW+RmZ9j/q2HP+0En5P9mdkQOI+vs/xmKvCD+r/j/Zk+YG+60AQFF2dYlWBgJA",
          "dtype": "f8"
         },
         "z": {
          "bdata": "sw/No41E8z9yTzDQ9vPzP/ih1Xkvi/Q/C1exoj3z9D8ttwPEhBf1P7LiomTO5vQ/4e55DidU9D/kH8+OhFfzP67hKist7vE/TMgEntoa8D8oHy00LsvrP3xE6iqstuY/8L+UEpwa4T/+AFjxbUDWP2SaHWXD1cM/",
          "dtype": "f8"
         }
        },
        {
         "hovertemplate": "Transformers → understand<extra></extra>",
         "line": {
          "color": "#45B7D1",
          "width": 2.0491239399723113
         },
         "mode": "lines",
         "opacity": 0.7,
         "showlegend": false,
         "type": "scatter3d",
         "x": {
          "bdata": "GvMMausQ+b+th+i2C9L2v0AcxAMsk/S/07CfUExU8r9mRXudbBXwv/KzrdQZreu/Ft1kblov5788BhwIm7Hiv8ZepkO3Z9y/E7EUdzhs07++BgZVc+HEv4BaFd+tU5e/LmCBug8Zvj++BTK7woHQP3azw4dBfdk/",
          "dtype": "f8"
         },
         "y": {
          "bdata": "5se7oXAzBEBoK/yRPQkFQOqOPIIK3wVAbPJ8cte0BkDuVb1ipIoHQHC5/VJxYAhA8Rw+Qz42CUB0gH4zCwwKQPbjviPY4QpAd0f/E6W3C0D6qj8Eco0MQHsOgPQ+Yw1A/XHA5As5DkB/1QDV2A4PQAE5QcWl5A9A",
          "dtype": "f8"
         },
         "z": {
          "bdata": "YSCOTIff078YdcI0XJrBv7jua7JAeJ4/PEbXmTTLxz+wxDb2R93UP3AUKdboi9w/hpvsW6xf4T/dfcWFO6zjP04JMT1bJuU/yWWdLVLT5T+zq+iesMLlP7KIh6uIDeU/YYTpayzV4z9v9Wk6gkHiP0zwl4IEf+A/",
          "dtype": "f8"
         }
        },
        {
         "hovertemplate": "processing → context<extra></extra>",
         "line": {
          "color": "#45B7D1",
          "width": 2.0438351160423944
         },
         "mode": "lines",
         "opacity": 0.7,
         "showlegend": false,
         "type": "scatter3d",
         "x": {
          "bdata": "6joUq87YBEBKna8hnOAEQKv/Sphp6ARAC2LmDjfwBEBrxIGFBPgEQMwmHfzR/wRALIm4cp8HBUCM61PpbA8FQOxN7186FwVATbCK1gcfBUCuEiZN1SYFQA51wcOiLgVAbtdcOnA2BUDOOfiwPT4FQC+ckycLRgVA",
          "dtype": "f8"
         },
         "y": {
          "bdata": "ZkK/nLkZ+z8pcbD8Xbb2P+yfoVwCU/I/XZ0leU3f6z/h+gc5lhjjP9Cw1PG9o9Q/wF7LjHuyqD84skMdPu7MvwiPbsdGAuC/gTGMB/7I6L/+6dSj2sfwvzy740M2K/W/eYzy45GO+b+1XQGE7fH9v3oXCJKkKgHA",
          "dtype": "f8"
         },
         "z": {
          "bdata": "0PZR+wFxwj9IU7h9KPfNP6zqslQ+YdQ/kHj+LsUQ2T/kSRrTkLrcP5CyghgpHN8/mmDadcUB4D/lvxpOqlHfPz6puuEA/Nw/o4KOBBUN2T8CAiy18qPTP2oxLA465ck/ZMtBizDutD8MMQPoP42pv7JYW5CK+Me/",
          "dtype": "f8"
         }
        },
        {
         "hovertemplate": "machines → enables<extra></extra>",
         "line": {
          "color": "#45B7D1",
          "width": 2.0009106053353087
         },
         "mode": "lines",
         "opacity": 0.7,
         "showlegend": false,
         "type": "scatter3d",
         "x": {
          "bdata": "+c7bDoSW9D+11h+dk7/zP3HeYyuj6PI/LOanubIR8j/o7etHwjrxP6T1L9bRY/A/v/rnyMIZ7z83CnDl4WvtP64Z+AEBvus/JimAHiAQ6j+eOAg7P2LoPxVIkFdetOY/jVcYdH0G5T8FZ6CQnFjjP3x2KK27quE/",
          "dtype": "f8"
         },
         "y": {
          "bdata": "IgtaseIIBUARbeSZHT0EQP/OboJYcQNA7TD5apOlAkDckoNTztkBQMr0DTwJDgFAuFaYJERCAEBOcUUa/uz+Pyw1WutzVf0/CPluvOm9+z/mvIONXyb6P8KAmF7Vjvg/n0StL0v39j98CMIAwV/1P1jM1tE2yPM/",
          "dtype": "f8"
         },
         "z": {
          "bdata": "SSLIsx12/r9XCl6VWf36v/2vhDNym/e/1NvAzx5m9L+i1OFs2nDxv24hZnrTl+2/TMlPmRQH6b9DpJu/qj7lvy6hJdG8Q+K/M9ER6iMR4L/QYYoCWy/dv2Eusv28fdu/xC5t/FrM2r/sR37zSM3av3tX0typKdu/",
          "dtype": "f8"
         }
        },
        {
         "hovertemplate": "Natural → enables<extra></extra>",
         "line": {
          "color": "#45B7D1",
          "width": 2
         },
         "mode": "lines",
         "opacity": 0.7,
         "showlegend": false,
         "type": "scatter3d",
         "x": {
          "bdata": "kQAJm9VLCUA3pw2zCc4HQNxNEss9UAZAgvQW43HSBEAomxv7pVQDQM1BIBPa1gFAcugkKw5ZAEAwHlOGhLb9P3trXLbsuvo/yLhl5lS/9z8SBm8WvcP0P1xTeEYlyPE/UEED7RqZ7T/o2xVN66HnP3x2KK27quE/",
          "dtype": "f8"
         },
         "y": {
          "bdata": "sjg/glFA0r9iq/p5U5fGv77K7d4HXLG/kIIzbC7tpD+mppAlmyTDP1Q2Clj1htA/VhlMHZ171z9X/I3iRHDeP6zv51N2suI/LOGINsos5j+t0ikZHqfpPy7EyvtxIe0/19o17+JN8D+XU4bgDAvyP1jM1tE2yPM/",
          "dtype": "f8"
         },
         "z": {
          "bdata": "SpuyaSZDCEDZIa1P0CYHQFe1nhJg/wVAeOq+E0rCBEDCX02XGGYDQHj6IzTl4gFAJYw3Pb4yAECd3Woe5qP8P/Cxfd2Gfvg/PShlLt/38z/xGI2voC7uPxZ3cGd70eM/uKsZUtDv0T9bJuLkEMKxv3tX0typKdu/",
          "dtype": "f8"
         }
        },
        {
         "hovertemplate": "context → language.<extra></extra>",
         "line": {
          "color": "#45B7D1",
          "width": 2
         },
         "mode": "lines",
         "opacity": 0.6808680669725675,
         "showlegend": false,
         "type": "scatter3d",
         "x": {
          "bdata": "L5yTJwtGBUBvHEsFGOYCQK+cAuMkhgBA3Dl0gWNM/D9cOuM8fYz3P9w6UviWzPI/tHaCZ2EZ7D+0d2DelJniP2rxfKqQM9I/AJPh+AyBib+YCgt6ocvTv0+EJ0adZeO/UINJz2nl7L8owTUsmzLzv6rAxnCB8ve/",
          "dtype": "f8"
         },
         "y": {
          "bdata": "ehcIkqQqAcAq55Bz8QT9v2CfEcOZtPe/lVeSEkJk8r+XHybE1CfqvwYgT8ZKDt+/uAGkCNiZw7+gPFZ75ejGP7se1L/oWuA/Tq7SIJj76j/wnujAI87yP73mZ3F7Hvg/hi7nIdNu/T8oOzNplV8BQA7fckHBBwRA",
          "dtype": "f8"
         },
         "z": {
          "bdata": "tFhbkIr4x7+M6vsdR8GZv5KyOxZC4sA/kE1qEInc0T+WdkCLbl/aP3iyJY9i3+A/et6FkA/n4z86jTr58zjmPyWbygJj0Oc/zSuvcwmy6D9McW6csevoP3QZSFGSk+g/+pvmwDHH5z+ujKx06qnmP39SynslY+U/",
          "dtype": "f8"
         }
        },
        {
         "hovertemplate": "human → to<extra></extra>",
         "line": {
          "color": "#45B7D1",
          "width": 2
         },
         "mode": "lines",
         "opacity": 0.6657732022577478,
         "showlegend": false,
         "type": "scatter3d",
         "x": {
          "bdata": "+Pgmp72147+HlfxJNcXivxYy0uys1OG/pM6njyTk4L9m1vpkOOffv4QPpqonBt6/oEhR8BYl3L++gfw1BkTav9y6p3v1Yti/+fNSweSB1r8XLf4G1KDUvzRmqUzDv9K/Up9UkrLe0L/esP+vQ/vNvxgjVjsiOcq/",
          "dtype": "f8"
         },
         "y": {
          "bdata": "rVBtjXxCCkAUwSSN56sJQHsx3IxSFQlA46GTjL1+CEBKEkuMKOgHQLGCAoyTUQdAGPO5i/66BkB/Y3GLaSQGQObTKIvUjQVATkTgij/3BEC0tJeKqmAEQBwlT4oVygNAg5UGioAzA0DqBb6J65wCQFF2dYlWBgJA",
          "dtype": "f8"
         },
         "z": {
          "bdata": "0H1SVkDeA8DMkrjLAZIBwP0LxJrPn/6/NhvYZylD+r/2zxXwWR/2v4OOfILQQvK/lj+X/tJw7b92nCbZxQ3nv+afy9ILYeG/SLvDWiXM2L+xgZG5vB7Qv6DeBoLYHMG/cDC/UWsXnr/Ilxu/HrWwP2SaHWXD1cM/",
          "dtype": "f8"
         }
        },
        {
         "hovertemplate": "word → enables<extra></extra>",
         "line": {
          "color": "#45B7D1",
          "width": 2
         },
         "mode": "lines",
         "opacity": 0.6632249459643406,
         "showlegend": false,
         "type": "scatter3d",
         "x": {
          "bdata": "tty37PdDAsD5k24mNaUAwHmWSsDkDP6//gS4M1/P+r+FcyWn2ZH3vwzikhpUVPS/kFAAjs4W8b8uftsCkrLrvzxbtumGN+W/kHAiofd43b+sKthu4YLQvwAmb+RZZqy/TMJ465XSwj8MpwYoYV/WP3x2KK27quE/",
          "dtype": "f8"
         },
         "y": {
          "bdata": "jgu/H2StAMBwK0G+I4/9v8M/BD1/w/m/FlTHu9r39b9oaIo6Nizyv3j5mnIjwey/HSIhcNop5b+IlU7bIiXbv6zNtawh7ce/4D7GdAnAqT+Odowzk2bSP6ISQJySyuA//Om5ntth6D9UwTOhJPnvP1jM1tE2yPM/",
          "dtype": "f8"
         },
         "z": {
          "bdata": "5B376yFeBcDMAplH/0sDwAlMRD/3QwHA+gbwdUWf/r/PRhB3O+/6v6qrFawxhve/Ahjq0Plu9L82H2JQS7Dxv8FJeBjamO6/0IpzRTCC6r/V2gxSKg/nv+p0cMYkKuS/1bBFTl224b88S3nMxyLfv3tX0typKdu/",
          "dtype": "f8"
         }
        },
        {
         "hovertemplate": "to → Natural<extra></extra>",
         "line": {
          "color": "#45B7D1",
          "width": 2
         },
         "mode": "lines",
         "opacity": 0.6619809099857932,
         "showlegend": false,
         "type": "scatter3d",
         "x": {
          "bdata": "zOeML5T1BsBYoF0zMYMDwORYLjfOEADA3iL+ddY8+b/2k599EFjyvxwKggqV5ua/jNiJMxI60r8oxuBbC7LCP1pPtccOduI/lDY5XM0f8D98xZdUkwT3P2hU9kxZ6f0/qHGqog9nAkAbudmectkFQJEACZvVSwlA",
          "dtype": "f8"
         },
         "y": {
          "bdata": "oFU159YC8b+F8AS5Nh/wv9cWqRUtd+6/oExIueyv7L9sgudcrOjqvze4hgBsIem/Au4lpCta57/MI8VH65Llv5hZZOuqy+O/Y48Dj2oE4r8uxaIyKj3gv/D1g6zT69y/h2HC81Jd2b8dzQA70s7Vv7I4P4JRQNK/",
          "dtype": "f8"
         },
         "z": {
          "bdata": "bmwV+fczDkAMy2ZpdZAOQMFkuhfd4g5AppXct5ohD0A02U9rFkQPQMXB0RAjQw9Al8VsY1oZD0DRKYlKYsMOQG8VOuEXQA5AcWFsDJ6QDUC5yLfkTrgMQP/UEa+QvAtA8PO8jJCkCkASqjZc5ngJQEqbsmkmQwhA",
          "dtype": "f8"
         }
        },
        {
         "hovertemplate": "human → use<extra></extra>",
         "line": {
          "color": "#45B7D1",
          "width": 2
         },
         "mode": "lines",
         "opacity": 0.5945009705598467,
         "showlegend": false,
         "type": "scatter3d",
         "x": {
          "bdata": "+Pgmp72147/gMCA5Dq3pv8hoGctepO+/WFCJrtfN8r9M7IX3f8n1v0CIgkAoxfi/NCR/idDA+78pwHvSeLz+vw4uvI0Q3ADACHw6suRZAsACyrjWuNcDwP0XN/uMVQXA92W1H2HTBsDwszNENVEIwOsBsmgJzwnA",
          "dtype": "f8"
         },
         "y": {
          "bdata": "rVBtjXxCCkBq2LeEP9MIQCdgAnwCZAdA5edMc8X0BUCib5dqiIUEQF/34WFLFgNAHH8sWQ6nAUDZBndQ0TcAQCwdg48okf0/pywYfq6y+j8iPK1sNNT3P5tLQlu69fQ/FlvXSUAX8j8h1dhwjHHuPxP0Ak6YtOg/",
          "dtype": "f8"
         },
         "z": {
          "bdata": "0H1SVkDeA8AifeHJf+wDwHA8ntLNAwTAEwRHwsQsBMDfrzE4HG8EwH4jaRBG0QTAEIeUqBtYBcACb6qgnwYGwIXufzbX3QbAaPI/LL3cB8A95vPhTgAJwOeh9PmyQwrAuEE3mHegC8De6WUd5Q4NwAJSwjdhhg7A",
          "dtype": "f8"
         }
        },
        {
         "hovertemplate": "identify → relationships.<extra></extra>",
         "line": {
          "color": "#45B7D1",
          "width": 2
         },
         "mode": "lines",
         "opacity": 0.5677849790653481,
         "showlegend": false,
         "type": "scatter3d",
         "x": {
          "bdata": "7psbtjAm/L/b9zdzAcL7v8dTVDDSXfu/s69w7aL5+r+gC42qc5X6v4xnqWdEMfq/eMPFJBXN+b9lH+Lh5Wj5v1J7/p62BPm/PtcaXIeg+L8rMzcZWDz4vxePU9Yo2Pe/A+tvk/lz97/wRoxQyg/3v9yiqA2bq/a/",
          "dtype": "f8"
         },
         "y": {
          "bdata": "1SxWWAcd9L8UGDtoCr71v1MDIHgNX/e/ke4EiBAA+b/Q2emXE6H6vw7FzqcWQvy/TbCztxnj/b+Mm5jHHIT/v2bDvuuPkgDABTmxcxFjAcCkrqP7kjMCwEQkloMUBAPA45mIC5bUA8CDD3uTF6UEwCKFbRuZdQXA",
          "dtype": "f8"
         },
         "z": {
          "bdata": "zX2Lf0jP8T8f+sY0Bv/yP59azyJ3HfQ/MddDliwa9T+gpp7gaOb1P1umnZLcdfY/7jPwgkS/9j/jL5m04Lz2Pyhqtia+bPY/zhIq2s/Q9T9OSfHL1e70PxewXCUT0PM/wGmuVdeA8j96P2wL4A/xP8Ly7fM3G+8/",
          "dtype": "f8"
         }
        },
        {
         "hovertemplate": "processing → Transformers<extra></extra>",
         "line": {
          "color": "#45B7D1",
          "width": 2
         },
         "mode": "lines",
         "opacity": 0.5669455570965583,
         "showlegend": false,
         "type": "scatter3d",
         "x": {
          "bdata": "6joUq87YBECYUhJbbnYCQEdqEAsOFABA6gMddltj+z9HMxnWmp72P6ViFTba2fE/ASQjLDMq6j+6ghvssaDgP9CFT7DCXMw/iP6dn4SSs78swvano/fXv2ACAxRTheW/paMKVNQO7791IgnKKkz0vxrzDGrrEPm/",
          "dtype": "f8"
         },
         "y": {
          "bdata": "ZkK/nLkZ+z9bIzpN8wz8P1EEtf0sAP0/ReUvrmbz/T86xqpeoOb+Py6nJQ/a2f8/EkTQ34lmAECMtA24JuAAQAclS5DDWQFAgZWIaGDTAUD8BcZA/UwCQHd2AxmaxgJA8eZA8TZAA0BsV37J07kDQObHu6FwMwRA",
          "dtype": "f8"
         },
         "z": {
          "bdata": "0PZR+wFxwj/wj2pN8wzJPxBLWMeyHs8/eaONR34R0j+4+DnpB9LTP7BOmy7Ln9Q/eO0geMlV1D8eskaGC93SP8l79EjILdA/ptaEoJGfyD+4jtJuEWi9P+jLva2YF5c/ikvIILLitL86xKroGtPIv2AgjkyH39O/",
          "dtype": "f8"
         }
        },
        {
         "hovertemplate": "efficiently. → Natural<extra></extra>",
         "line": {
          "color": "#45B7D1",
          "width": 2
         },
         "mode": "lines",
         "opacity": 0.5626508570297116,
         "showlegend": false,
         "type": "scatter3d",
         "x": {
          "bdata": "Gfeo/yCFCEDG93h4UpMIQHT4SPGDoQhAIPkYarWvCEDN+eji5r0IQHr6uFsYzAhAKPuI1EnaCEDV+1hNe+gIQIL8KMas9ghAL/34Pt4ECUDc/ci3DxMJQIr+mDBBIQlAN/9oqXIvCUDk/zgipD0JQJEACZvVSwlA",
          "dtype": "f8"
         },
         "y": {
          "bdata": "VKfAiGdf2T/B8tK+tUHWPy8+5fQDJNM/m4n3KlIG0D8UqhPCQNHJP+9AOC7dlcM/j6+5NPO0uj+IugUaWHysP6CvwFROdnw/oI7VhMRepb+XmSFqKSa3v/M17Eh4zsG/GJ/H3NsJyL89CKNwP0XOv7I4P4JRQNK/",
          "dtype": "f8"
         },
         "z": {
          "bdata": "isB60ziYBMA2NYcJCrkAwDkQaTrbxPm/DB2Ixg858r+COuWMmrrlv8DDoFI17s2/yCsXq7LiyD/kO0UWrlbjPyBtTfKZ2u8/t4kznSbk9T8G1tiklpX7P6mTQ2RlhQBAoAI1/PonA0ARPsTh2bkFQEqbsmkmQwhA",
          "dtype": "f8"
         }
        },
        {
         "hovertemplate": "language → Transformers<extra></extra>",
         "line": {
          "color": "#45B7D1",
          "width": 2
         },
         "mode": "lines",
         "opacity": 0.5491711482610686,
         "showlegend": false,
         "type": "scatter3d",
         "x": {
          "bdata": "Zj9Jhu2EAkB5RDFLHU0AQBqTMiCaKvw/P50Cqvm69z9mp9IzWUvzPxpjRXtxt+0/ZXfljjDY5D9kFwtF3/HXPwAALbF1zbg/yC7p2EgWx7/IbjRFpkndvxoj+g4UhOe/Zgetfaox8L8//dzzSqH0vxrzDGrrEPm/",
          "dtype": "f8"
         },
         "y": {
          "bdata": "4IVdS1PVub8q8fo9fS+2Pw3a1HETjdE/0PcqlEeO3T/JikDbvcfkP6qZa+xXyOo/RlTL/nhk8D+322AHxmTzPydj9g8TZfY/mOqLGGBl+T8IciEhrWX8P3r5tin6Zf8/dUAmmSMzAUAtBHEdSrMCQObHu6FwMwRA",
          "dtype": "f8"
         },
         "z": {
          "bdata": "sw/No41E8z9N68eMEtfyP3JfH9/bWPI/Kug40AS68T8xYzdoS+zwPwa1lBCPx+8/VjI/hgcv7T+mis264APqP0KZQ2RVQuY/3IKdzCru4T9J9vfUACXaP/2vDWIEBc8/vgumouiRsD8h/62SPfC+v2AgjkyH39O/",
          "dtype": "f8"
         }
        },
        {
         "hovertemplate": "process → Transformers<extra></extra>",
         "line": {
          "color": "#45B7D1",
          "width": 2
         },
         "mode": "lines",
         "opacity": 0.5323155183078153,
         "showlegend": false,
         "type": "scatter3d",
         "x": {
          "bdata": "IJKI9OVC6z+s0jPms7vlPzkT39eBNOA/iacUk59a1T9IUdbsdpjEP0DIyscURYi/WKrPhRmhx78UVJHf8N7Wv31pHX6q9uC/8ChyjNx95r9j6MaaDgXsv+zTjVQgxvC/pjO4W7mJ879fk+JiUk32vxrzDGrrEPm/",
          "dtype": "f8"
         },
         "y": {
          "bdata": "QT5aG9LMBcDQPf1WzcwCwMF6QCWRmf+/4HmGnIeZ+b/+eMwTfpnzvz3wJBbpMuu/8NxhCaxl3r+wZeeZF5a5vxQqbjygmtE/yxarL2PN5D9GjI8gu2bwPymNSanEZvY/CI4DMs5m/D91x17dazMBQObHu6FwMwRA",
          "dtype": "f8"
         },
         "z": {
          "bdata": "U2v5Augm7r9t15LbWS7qv0wj9+07Vua/giVaC1694r/RZ08qyP7ev9DTKFnGZtm/iLtPx3LV1L9V+d6WXWDRv9z5FDWsHc6/Lq08/xmzy7/2V/9H5FXLvyahPseSwMy/FRso+NCWz78uN4aqB7XRv2AgjkyH39O/",
          "dtype": "f8"
         }
        },
        {
         "hovertemplate": "to → efficiently.<extra></extra>",
         "line": {
          "color": "#45B7D1",
          "width": 2
         },
         "mode": "lines",
         "opacity": 0.5107752476932543,
         "showlegend": false,
         "type": "scatter3d",
         "x": {
          "bdata": "zOeML5T1BsAFoS2sYpEDwD5azigxLQDA7CbeSv+R+b9fmR9EnMnyv6IXwnpyAui/BPmJ2ljj1L/Q9MABzfi4P7Q5ta3fr+A/0FQyu6VA7j/2t1fktej1P4ZFFusYsfw/imnq+L28AUBRsEl87yAFQBn3qP8ghQhA",
          "dtype": "f8"
         },
         "y": {
          "bdata": "oFU159YC8b/BBhONlK/uv0Riu0t7Weu/xL1jCmID6L9HGQzJSK3kv8h0tIcvV+G/lKC5jCwC3L+WVwoK+lXVvzQdtg6PU82/eBavElT2v78gyscfKBaVv3IxywJAa7U/sSrEBgUOyD9VXhEGNbPSP1SnwIhnX9k/",
          "dtype": "f8"
         },
         "z": {
          "bdata": "bmwV+fczDkCTE0x5Ry4LQEsfI+3OIAhAszD5KyoEBUCVPmPSt9EBQMetyb7cB/0/MpuckUYt9j/66j7ZAR3uPx+nzaUrp94/ABhe6c6tLD9UXNRODZzfv0hkskiaBfC/griHbsxP+L+ugC9/K1wAwIrAetM4mATA",
          "dtype": "f8"
         }
        },
        {
         "hovertemplate": "Transformers → process<extra></extra>",
         "line": {
          "color": "#45B7D1",
          "width": 2
         },
         "mode": "lines",
         "opacity": 0.4821315022622615,
         "showlegend": false,
         "type": "scatter3d",
         "x": {
          "bdata": "GvMMausQ+b9gk+JiUk32v6czuFu5ifO/7NONVCDG8L9m6MaaDgXsv/Iocozcfea/fmkdfqr24L8UVJHf8N7Wv1yqz4UZoce/AMnKxxRFiL8+UdbsdpjEP4inFJOfWtU/NxPf14E04D+q0jPms7vlPyCSiPTlQus/",
          "dtype": "f8"
         },
         "y": {
          "bdata": "5se7oXAzBEB1x17dazMBQAuOAzLOZvw/Ko1JqcRm9j9IjI8gu2bwP88Wqy9jzeQ/GCpuPKCa0T+wZeeZF5a5v+zcYQmsZd6/NvAkFuky67/8eMwTfpnzv+B5hpyHmfm/vnpAJZGZ/7/QPf1WzcwCwEE+WhvSzAXA",
          "dtype": "f8"
         },
         "z": {
          "bdata": "YSCOTIff07+28kfYAC/SvxSo0BQ9udC/Ljahyhhsz7/wyB7JAK/OvxbkDlXSjs+/pDHsjDwl0b8+EtJEgoTTv0BwsTnZ69a/Qe8RhKJU278lkG81q1Xgv8TKMow/aOO/j3BVOibN5r8ttXNyVmvqv1Nr+QLoJu6/",
          "dtype": "f8"
         }
        },
        {
         "hovertemplate": "These → to<extra></extra>",
         "line": {
          "color": "#45B7D1",
          "width": 2
         },
         "mode": "lines",
         "opacity": 0.4817183090449638,
         "showlegend": false,
         "type": "scatter3d",
         "x": {
          "bdata": "5Kv5t+hJ4L+Oz/3cXa/lvzjzAQLTFOu/cQuDEyQ98L9GHQWm3u/yvxovhziZovW/8EAJy1NV+L/FUotdDgj7v5pkDfDIuv2/N7tHwcE2AMAhxIgKH5ABwAzNyVN86QLA99UKndlCBMDh3kvmNpwFwMznjC+U9QbA",
          "dtype": "f8"
         },
         "y": {
          "bdata": "8JRiGkiQDsDKKAsz7/wMwKK8s0uWaQvAe1BcZD3WCcBV5AR95EIIwC54rZWLrwbABgxWrjIcBcDgn/7G2YgDwLkzp9+A9QHAk8dP+CdiAMDYtvAhnp39v4neQVPsdvq/PAaThDpQ97/uLeS1iCn0v6BVNefWAvG/",
          "dtype": "f8"
         },
         "z": {
          "bdata": "uV7X08HBCMAR9S1hbEIEwBq8KVDblP+/i54uWnzB9r/GBikQey7sv9gf+lJCgta/ONsmIXbVxD+6ZhZNPyvlP3EVjbWaTvI/H+wRTkfH+T9eFRImQ4IAQNIkubUZBwRAD7NvM2B3B0APuQpzV9kKQG5sFfn3Mw5A",
          "dtype": "f8"
         }
        },
        {
         "hovertemplate": "to → enables<extra></extra>",
         "line": {
          "color": "#45B7D1",
          "width": 2
         },
         "mode": "lines",
         "opacity": 0.48104138499565385,
         "showlegend": false,
         "type": "scatter3d",
         "x": {
          "bdata": "GCNWOyI5yr9PIzIqak3DvwtHHDJkw7i/7o6oH+jXpb/wwJ2T4FuHP663uzTswrA/RLcDV1yavj9s26U85jjGPzXbyU2eJM0/f+12LysI0j9j7Qg4B37VP0ntmkDj89g/Le0sSb9p3D8S7b5Rm9/fP3x2KK27quE/",
          "dtype": "f8"
         },
         "y": {
          "bdata": "UXZ1iVYGAkCYUNl0m3EBQN4qPWDg3ABAJQWhSyVIAEDWvglu1Gb/P2Nz0URePf4/8CeZG+gT/T993GDycer7PwqRKMn7wPo/mEXwn4WX+T8k+rd2D274P7Guf02ZRPc/PmNHJCMb9j/LFw/7rPH0P1jM1tE2yPM/",
          "dtype": "f8"
         },
         "z": {
          "bdata": "YpodZcPVwz+12C54DKzHP5EZ0i8UDcs/KByuYnqJzT9i7YPRVb3OP5Sl+bM2Vc4/AiowylUSzD9/2+09us3HP0CNXeotesE/HNio6M1Jsj8gjj7fHLKAv8ytODlKrrm/QfZKL7Pryb/saWBjcfLTv3tX0typKdu/",
          "dtype": "f8"
         }
        },
        {
         "hovertemplate": "context → relationships.<extra></extra>",
         "line": {
          "color": "#45B7D1",
          "width": 2
         },
         "mode": "lines",
         "opacity": 0.4656868194055233,
         "showlegend": false,
         "type": "scatter3d",
         "x": {
          "bdata": "L5yTJwtGBUCk5vnRxPECQBkxYHx+nQBAG/eMTXCS/D8EjFmi4+n3P+4gJvdWQfM/rmvll5Qx7T+ClX5Be+DjP65+L9bDHtU/sJIOS4nkoz8E2muDoSXQvzHDHBjqY+G/XJmDbgO16r/EN3ViDgPyv9yiqA2bq/a/",
          "dtype": "f8"
         },
         "y": {
          "bdata": "ehcIkqQqAcDhw2rAI3kBwElwze6ixwHAsBwwHSIWAsAYyZJLoWQCwH919XkgswLA5iFYqJ8BA8BOzrrWHlADwLV6HQWengPAHSeAMx3tA8CE0+JhnDsEwOt/RZAbigTAUyyovprYBMC72ArtGScFwCKFbRuZdQXA",
          "dtype": "f8"
         },
         "z": {
          "bdata": "tFhbkIr4x7/KKTtgJh2iv3w/sU/o8Lw/LEHDTm5N0D8fSXx5m7/YPxrgpUovNeA/tKMsQKqX4z8ObOEE0H3mP9abvwxu5Og/XtDL47bO6j/2DHciGUbsPx+BrVnGWe0/mwDVCPAd7j8xHm5lxKruP8Ly7fM3G+8/",
          "dtype": "f8"
         }
        },
        {
         "hovertemplate": "machines → understand<extra></extra>",
         "line": {
          "color": "#45B7D1",
          "width": 2
         },
         "mode": "lines",
         "opacity": 0.43097824571853544,
         "showlegend": false,
         "type": "scatter3d",
         "x": {
          "bdata": "+c7bDoSW9D+KLBSnkpLzPxqKTD+hjvI/qeeE16+K8T86Rb1vvobwP5ZF6w+aBe8/tgBcQLf97D/Wu8xw1PXqP/d2PaHx7eg/GDKu0Q7m5j857R4CLN7kP1mojzJJ1uI/emMAY2bO4D82PeImB43dP3azw4dBfdk/",
          "dtype": "f8"
         },
         "y": {
          "bdata": "IgtaseIIBUCO13ygcM8FQPmjn4/+lQZAZHDCfoxcB0DQPOVtGiMIQDsJCF2o6QhAptUqTDawCUASok07xHYKQH1ucCpSPQtA6DqTGeADDEBUB7YIbsoMQL/T2Pf7kA1AKqD75olXDkCWbB7WFx4PQAE5QcWl5A9A",
          "dtype": "f8"
         },
         "z": {
          "bdata": "SSLIsx12/r9P9dP/aKz6v3R4+vfV7/a/wDXbtt1M87+WcwlQYZ3vv9c8T8tN/ei/iO/GipDH4r9CqNxfyAnav4LEBBP54M6/LAAe+kn1tr9EenwgWAmpP5M4gqk2jsY/SI5P3N7Z0j+vF/VINwbaP0vwl4IEf+A/",
          "dtype": "f8"
         }
        },
        {
         "hovertemplate": "context → process<extra></extra>",
         "line": {
          "color": "#45B7D1",
          "width": 2
         },
         "mode": "lines",
         "opacity": 0.4253882587033688,
         "showlegend": false,
         "type": "scatter3d",
         "x": {
          "bdata": "L5yTJwtGBUBagYvkqT0EQIZmg6FINQNAsEt7XucsAkDbMHMbhiQBQAYWa9gkHABAYPbFKocn/j+3wLWkxBb8Pw6LpR4CBvo/ZFWVmD/19z+6H4USfeT1Pw7qdIy60/M/ZLRkBvjC8T91/agAa2TvPyCSiPTlQus/",
          "dtype": "f8"
         },
         "y": {
          "bdata": "ehcIkqQqAcDRPiCuXn8BwClmOMoY1AHAgI1Q5tIoAsDYtGgCjX0CwC/cgB5H0gLAhgOZOgEnA8DeKrFWu3sDwDVSyXJ10APAjHnhji8lBMDkoPmq6XkEwDvIEcejzgTAku8p410jBcDqFkL/F3gFwEE+WhvSzAXA",
          "dtype": "f8"
         },
         "z": {
          "bdata": "tFhbkIr4x7/o6MijycvGvyBTPka5Bsa/NQau+NYLxr9GaIHefDPHvx5KnZJzx8m/FDQUAD//zb+gTIbeqv7Rv16yAVKz5tW/ttU9beGx2r+OvpPyfCfgvzWyGmIdUeO/mZF63l/D5r80A9neLWjqv1Nr+QLoJu6/",
          "dtype": "f8"
         }
        },
        {
         "hovertemplate": "context → mechanisms<extra></extra>",
         "line": {
          "color": "#45B7D1",
          "width": 2
         },
         "mode": "lines",
         "opacity": 0.39347347626306284,
         "showlegend": false,
         "type": "scatter3d",
         "x": {
          "bdata": "L5yTJwtGBUCFPRA6dFICQLa9GZm6vf4/YAATvozW+D8KQwzjXu/yP24LCxBiEOo/gCH7swyE3D/AsIAfVZ2zPyDJOiRitdK/Od8qyAwp5b/wLBw/tHvwv0bqIhriYva/nKcp9Q9K/L93MhjonhgBwCORm9U1DATA",
          "dtype": "f8"
         },
         "y": {
          "bdata": "ehcIkqQqAcBg5Lb+4R0AwIxiy9Y+Iv6/V/wosLkI/L8kloaJNO/5v+8v5GKv1fe/u8lBPCq89b+HY58VpaLzv1P9/O4fifG/Pi61kDXf7r/WYXBDK6zqv2yVK/Ygeea/BMnmqBZG4r86+UO3GCbcv2ZguhwEwNO/",
          "dtype": "f8"
         },
         "z": {
          "bdata": "tFhbkIr4x79epWDuq1nGv+BXkFm2GsW/YaLLrcOWxL8QIhYhjR/Fv0yP5y9S+ca/3gRLhWxXyr8UPiDNvFnPv6f0J7+IBdO/FKz4EE4w17+sZxIGPh3cvwjNd+RV2eC/hDOqzTvn47/9fx9x4iPnv/Fl31eDeOq/",
          "dtype": "f8"
         }
        },
        {
         "hovertemplate": "process → mechanisms<extra></extra>",
         "line": {
          "color": "#45B7D1",
          "width": 2
         },
         "mode": "lines",
         "opacity": 0.3856624618504122,
         "showlegend": false,
         "type": "scatter3d",
         "x": {
          "bdata": "IJKI9OVC6z/LgptKD5bjP+vmXEFx0tc/fJAF24fxwD+oWV2ZpYO7vxJ1MbqWOta/4ckFByLK4r822fKw+Hbqv0b0b63nEfG/8HtmAlPo9L+ZA11Xvr74v0WLU6wplfy/eAmlgMo1AMBNTSArACECwCORm9U1DATA",
          "dtype": "f8"
         },
         "y": {
          "bdata": "QT5aG9LMBcDP4/BrVWsEwF+Jh7zYCQPA7S4eDVyoAcB71LRd30YAwBT0llzFyv2/MD/E/csH+79OivGe0kT4v2vVHkDZgfW/iCBM4d++8r9M1/IEzffvv4VtTUfaceq/wAOoiefr5L/1MwWY6cvev2ZguhwEwNO/",
          "dtype": "f8"
         },
         "z": {
          "bdata": "U2v5Augm7r+/qEx16Q7sv3addVBrDuq/CBowTcA76L88lcHk7qrmv2ed5UCwbOW/VnfnjpmN5L9io615ehXkv0jkLOT4BuS/S3dw625f5L8R3JHkDBflv9DNRaI9Iea/Mb7Q+kdt579qNu10Jefov/Fl31eDeOq/",
          "dtype": "f8"
         }
        },
        {
         "hovertemplate": "These → Natural<extra></extra>",
         "line": {
          "color": "#45B7D1",
          "width": 2
         },
         "mode": "lines",
         "opacity": 0.3799725007975261,
         "showlegend": false,
         "type": "scatter3d",
         "x": {
          "bdata": "5Kv5t+hJ4L/zxgKxR5fPv6AaEt43kY8/JYViVrfE0T+6POp2ckbhP+A2o0KJquk/hBguB1AH8T+YlQptWzn1P6wS59Jma/k/vo/DOHKd/T9pBlDPvucAQPREPoLEAANAfYMsNcoZBUAGwhrozzIHQJEACZvVSwlA",
          "dtype": "f8"
         },
         "y": {
          "bdata": "8JRiGkiQDsA89vIbH4sMwIhXgx32hQrA07gTH82ACMAgGqQgpHsGwGx7NCJ7dgTAt9zEI1JxAsADPlUlKWwAwJ4+y00Azvy/NwHsUK7D+L/PwwxUXLn0v2WGLVcKr/C/+5GctHBJ6b8sF966zDThv7I4P4JRQNK/",
          "dtype": "f8"
         },
         "z": {
          "bdata": "uV7X08HBCMBFmmQW980EwA2wOUL23wDA3h3r4n36+b+Wwpezf1Xyv6jV6uxdsuW/hG1V+PNdzL9SOknsxHfMPw1Y8NtQ6+Q/m0iQ454p8T+PynATta73PwFJINEdC/4/PnBNDosjAkDh8qOwPTYFQEqbsmkmQwhA",
          "dtype": "f8"
         }
        },
        {
         "hovertemplate": "to → These<extra></extra>",
         "line": {
          "color": "#45B7D1",
          "width": 2
         },
         "mode": "lines",
         "opacity": 0.3710918805956578,
         "showlegend": false,
         "type": "scatter3d",
         "x": {
          "bdata": "zOeML5T1BsDi3kvmNpwFwPjVCp3ZQgTADM3JU3zpAsAixIgKH5ABwDi7R8HBNgDAmWQN8Mi6/b/FUotdDgj7v/BACctTVfi/HC+HOJmi9b9HHQWm3u/yv3ELgxMkPfC/OfMBAtMU67+Qz/3cXa/lv+Sr+bfoSeC/",
          "dtype": "f8"
         },
         "y": {
          "bdata": "oFU159YC8b/uLeS1iCn0vzwGk4Q6UPe/iN5BU+x2+r/WtvAhnp39v5LHT/gnYgDAuTOn34D1AcDgn/7G2YgDwAYMVq4yHAXALnitlYuvBsBU5AR95EIIwHtQXGQ91gnAoryzS5ZpC8DJKAsz7/wMwPCUYhpIkA7A",
          "dtype": "f8"
         },
         "z": {
          "bdata": "bmwV+fczDkACmVpKu7cKQEyG3VTXNQdAUiRqZO2oA0BeiE1GLAwAQBbEkj8ct/g/Q8FzJBgo8T8byhBYFM/iP5JzuDDDQrc//L/2jO7C2r/COjuP1gbuv4qfzPzUffe/0AqnhvYLAMAdFd6JCGQEwLle19PBwQjA",
          "dtype": "f8"
         }
        },
        {
         "hovertemplate": "use → These<extra></extra>",
         "line": {
          "color": "#45B7D1",
          "width": 2
         },
         "mode": "lines",
         "opacity": 0.36889932475626824,
         "showlegend": false,
         "type": "scatter3d",
         "x": {
          "bdata": "6wGyaAnPCcBIwMl2kUEIwKV+4YQZtAbAAD35kqEmBcBd+xChKZkDwLq5KK+xCwLAFXhAvTl+AMDkbLCWg+H9v57p37KTxvq/VmYPz6Or978Q4z7rs5D0v8hfbgfEdfG/Ark7R6i17L90spp/yH/mv+Sr+bfoSeC/",
          "dtype": "f8"
         },
         "y": {
          "bdata": "E/QCTpi06D8IJ82BqGrcP7CXUZ6BsL0/ZLZIZc8ky78ojm7md0jhv7buivO7x+u/o6dTAIAj87/r1+EGImP4vzIIcA3Eov2/PRz/CTNxAcBgNEYNBBEEwIRMjRDVsAbAqGTUE6ZQCcDMfBsXd/ALwPCUYhpIkA7A",
          "dtype": "f8"
         },
         "z": {
          "bdata": "AlLCN2GGDsAymlVY1KwNwGbplzLm2AzAawxvW+0PDMCce0i8s1YLwBs3Lho5sQrAUP28v38iCsDMAfvcZawJwGqR5IyNTwnAT199tFQLCcDqN78j3d0IwNRcDZAkxAjA6c1dNCu6CMDOEkMnJ7sIwLle19PBwQjA",
          "dtype": "f8"
         }
        },
        {
         "hovertemplate": "machines → context<extra></extra>",
         "line": {
          "color": "#45B7D1",
          "width": 2
         },
         "mode": "lines",
         "opacity": 0.36751779129885953,
         "showlegend": false,
         "type": "scatter3d",
         "x": {
          "bdata": "+c7bDoSW9D+BViqBDij2PwfeePOYufc/jmXHZSNL+T8W7RXYrdz6P510ZEo4bvw/JPyyvML//T+sgwEvTZH/P5kFqNBrkQBAXUnPCTFaAUAgjfZC9iICQOTQHXy76wJAqBRFtYC0A0BrWGzuRX0EQC+ckycLRgVA",
          "dtype": "f8"
         },
         "y": {
          "bdata": "IgtaseIIBUDzmvcHWU4CQIZVKr2eJ/8/JnVlaouy+T/GlKAXeD30P9Bot4nJkO0/Dqgt5KKm4j9AnY/68PHOP3DLLjdTbbm/VjTfGKIv3L/pWvmx9wHpv9WNwSsP9vG/NG6GfiJr97+STkvRNeD8v3oXCJKkKgHA",
          "dtype": "f8"
         },
         "z": {
          "bdata": "SSLIsx12/r/Zd+lQlaD7v8Gpupo/1vi/5Q2ufr8h9r/GbP+gn4zzv2txvODXHvG/2INAHM687b8w6qHoC57pv14G5iTv4+W/3ufD0vGL4r8swt63RB3fv7BL5D8GwNm/K8BhwUjg1L+T/Wer4VfQv7NYW5CK+Me/",
          "dtype": "f8"
         }
        },
        {
         "hovertemplate": "relationships. → language.<extra></extra>",
         "line": {
          "color": "#45B7D1",
          "width": 2
         },
         "mode": "lines",
         "opacity": 0.3649371257668381,
         "showlegend": false,
         "type": "scatter3d",
         "x": {
          "bdata": "3KKoDZur9r9GNwan9ML2v7HLY0BO2va/GmDB2afx9r+E9B5zAQn3v+6IfAxbIPe/WB3apbQ397/DsTc/Dk/3vy1GldhnZve/mNryccF9978Cb1ALG5X3v2sDrqR0rPe/1pcLPs7D979ALGnXJ9v3v6rAxnCB8ve/",
          "dtype": "f8"
         },
         "y": {
          "bdata": "IoVtG5l1BcDVNMsU7n4CwBPJURyGEP+/eCgNDzAj+b/gh8gB2jXzv4/OB+kHkeq/tBr9nLds3b9AYaqffd22vxDqJ834/dE/OTYdgajZ5D+1O9NNKlrwP1DcF1uAR/Y/6HxcaNY0/D/BjtA6FhEBQA7fckHBBwRA",
          "dtype": "f8"
         },
         "z": {
          "bdata": "wvLt8zcb7z++tAAafxLwP323fa5DjPA/1XS46Fnw8D9ARlpLSDXxP2t2NUolU/E/CVIK3PxD8T9r5HDmHATxP000465EkvA/6HXO32nf7z8b2smHP0DuP8z7N2jyUuw/pEV0mVUn6j+xBCwWXNDnP35SynslY+U/",
          "dtype": "f8"
         }
        },
        {
         "hovertemplate": "Transformers → language<extra></extra>",
         "line": {
          "color": "#45B7D1",
          "width": 2
         },
         "mode": "lines",
         "opacity": 0.3617534373116892,
         "showlegend": false,
         "type": "scatter3d",
         "x": {
          "bdata": "GvMMausQ+b9B/dzzSqH0v2gHrX2qMfC/GiP6DhSE57/QbjRFpkndv9gu6dhIFse/+P8ssXXNuD9kFwtF3/HXP2R35Y4w2OQ/FmNFe3G37T9kp9IzWUvzPz+dAqr5uvc/GJMyIJoq/D94RDFLHU0AQGY/SYbthAJA",
          "dtype": "f8"
         },
         "y": {
          "bdata": "5se7oXAzBEAtBHEdSrMCQHZAJpkjMwFAevm2Kfpl/z8JciEhrWX8P5nqixhgZfk/J2P2DxNl9j+322AHxmTzP0dUy/54ZPA/rZlr7FfI6j/MikDbvcfkP9L3KpRHjt0/ENrUcRON0T878fo9fS+2P+CFXUtT1bm/",
          "dtype": "f8"
         },
         "z": {
          "bdata": "YSCOTIff079feJ1+KgfDv5DeFZq+iIU/DEXc3VIMxT+daFbdg+TTP4iMK771p9w/CpuPDXJc4j+QijPHUwTmPx40iy8kSek/b/gMI18t7D+P/51UWLjuP826sp/uevA/cyop0s568T81HB8WMWXyP7MPzaONRPM/",
          "dtype": "f8"
         }
        },
        {
         "hovertemplate": "models → language.<extra></extra>",
         "line": {
          "color": "#45B7D1",
          "width": 2
         },
         "mode": "lines",
         "opacity": 0.34728413471958336,
         "showlegend": false,
         "type": "scatter3d",
         "x": {
          "bdata": "zuYec+Ii1j/W0MdwEW3LPx6oo/a7KLU/6KKQ6FURqb+BJZrvCB3HvyQRiDLe+tO/iQ9D7Tdn3L/2Bv/TyGnivyiGXLH1n+a/WgW6jiLW6r+LhBdsTwzvv9+BuiQ+ofG/eEFpk1S8878RARgCa9f1v6rAxnCB8ve/",
          "dtype": "f8"
         },
         "y": {
          "bdata": "RJiSfZRWC8DjWFvLafQHwIIZJBk/kgTAINrsZhQwAcB+NWtp05v7v762/AR+1/S/8m8cQVEm7L/Y5H7wTDvdv4BOJ/a6T6G/NBH1Ml7n2D8ehlfiWfzpP9RBmlWCwvM/lcAIuteG+j+snzuPlqUAQA7fckHBBwRA",
          "dtype": "f8"
         },
         "z": {
          "bdata": "Od7B2rNSAUCW3rEBOOEAQATh0rtxagBAHc7uDbXS/z+OsLyc4LL+P6LYEJPebf0/YtluoAT++z8jNmpuzl/6P8mfM8YKkvg/cGWa3uqV9j/DAwsO8270P7fnAaXNIvI/EET7aARy7z8mxwDMKXXqP35SynslY+U/",
          "dtype": "f8"
         }
        },
        {
         "hovertemplate": "dependencies → processing<extra></extra>",
         "line": {
          "color": "#45B7D1",
          "width": 2
         },
         "mode": "lines",
         "opacity": 0.3366236129154516,
         "showlegend": false,
         "type": "scatter3d",
         "x": {
          "bdata": "/Tj2ZHx4A0AgOa/XppEDQEQ5aErRqgNAZjkhvfvDA0CKOdovJt0DQK05k6JQ9gNA0DlMFXsPBED0OQWIpSgEQBc6vvrPQQRAOjp3bfpaBEBdOjDgJHQEQIA66VJPjQRApDqixXmmBEDHOls4pL8EQOo6FKvO2ARA",
          "dtype": "f8"
         },
         "y": {
          "bdata": "vXTjA6f9AMDrCivFX579v1osj4JxQfm/yk3zP4Pk9L86b1f9lIfwv1Yhd3VNVei/Zsh+4OE2379QnB6sUYbLv7BgAaOBhK0/UqbPPkkk1T9KkJ8kAUzjP2xN16ndBew/RoWHF91f8j/VYyNay7z2P2ZCv5y5Gfs/",
          "dtype": "f8"
         },
         "z": {
          "bdata": "PHGli3Y2BUCak9CP6y0EQAbExbo/IANAiKo5CJQIAkCNyKLQieIAQJhXlML1VP8/BHYFqVC7/D+6QGChu/T5P4AVU9MOAPc/kJYvF3Le8z+Pby4gTpPwP/6lU3NBSOo/7kofkmww4z9tkMt1MOHXP9H2UfsBccI/",
          "dtype": "f8"
         }
        },
        {
         "hovertemplate": "relationships. → models<extra></extra>",
         "line": {
          "color": "#45B7D1",
          "width": 2
         },
         "mode": "lines",
         "opacity": 0.33517562205582985,
         "showlegend": false,
         "type": "scatter3d",
         "x": {
          "bdata": "3KKoDZur9r+td1c43qf0v39MBmMhpPK/UCG1jWSg8L9B7MdwTzntv+SVJcbVMem/hj+DG1wq5b8o6eBw4iLhv5clfYzRNtq/3Hg4N94n0r9FmOfD1THEvyD7eGW8T6C/WDVWIu8TuD8gdLQ73ifMP87mHnPiItY/",
          "dtype": "f8"
         },
         "y": {
          "bdata": "IoVtG5l1BcA3dALHGOEFwExjl3KYTAbAYFIsHhi4BsB1QcHJlyMHwIowVnUXjwfAnh/rIJf6B8CzDoDMFmYIwMj9FHiW0QjA3eypIxY9CcDx2z7PlagJwAbL03oVFArAGrpoJpV/CsAvqf3RFOsKwESYkn2UVgvA",
          "dtype": "f8"
         },
         "z": {
          "bdata": "wvLt8zcb7z9bn0WGZrbxPzW/iqv61PM/EZeVG6Xf9T/IZAUnss33PzuN4HHdl/k/gNvXPK84+z+YP7SVwqz8P1736+nw8v0/98QIzGAM/z9iuEEud/z/P0UD8+dVZABARaV3hiG8AEBHI19K+AkBQDnewdqzUgFA",
          "dtype": "f8"
         }
        },
        {
         "hovertemplate": "models → language<extra></extra>",
         "line": {
          "color": "#45B7D1",
          "width": 2
         },
         "mode": "lines",
         "opacity": 0.3333735497599964,
         "showlegend": false,
         "type": "scatter3d",
         "x": {
          "bdata": "zuYec+Ii1j9DaH1uNSPfP9z07TTEEeQ/ljWdsu2R6D9QdkwwFxLtP4Xb/VYgyfA/4nvVFTUJ8z9AHK3USUn1P528hJNeifc/+lxcUnPJ+T9X/TMRiAn8P7SdC9CcSf4/CZ9xx9hEAEA3b90m42QBQGY/SYbthAJA",
          "dtype": "f8"
         },
         "y": {
          "bdata": "RJiSfZRWC8Bo56B/cXEJwIo2r4FOjAfArYW9gyunBcDR1MuFCMIDwPQj2ofl3AHALebQE4Xv/79zhO0XPyX8v7kiChz5Wvi/AcEmILOQ9L9HX0Mkbcbwvxf7v1BO+Om/pTf5WMJj4r9k6GTCbJ7Vv+CFXUtT1bm/",
          "dtype": "f8"
         },
         "z": {
          "bdata": "Od7B2rNSAUAt7vR5YisBQAxc2ez8/gBAoZdUObDIAEBblcmEKIQAQIRuhKHILQBAVzVS5rCF/z/kJjmtT4P+P4bTpZpIU/0/ZRmwq8D2+z9CBY4mGHH6P/qn90O/x/g//M5UX/AB9z9tkd8tUyj1P7MPzaONRPM/",
          "dtype": "f8"
         }
        },
        {
         "hovertemplate": "relationships. → process<extra></extra>",
         "line": {
          "color": "#45B7D1",
          "width": 2
         },
         "mode": "lines",
         "opacity": 0.3276148818744225,
         "showlegend": false,
         "type": "scatter3d",
         "x": {
          "bdata": "3KKoDZur9r9vbYXo0BP0vwQ4YsMGfPG/LwV+PHnI7b9Wmjfy5Jjov34v8adQaeO/SYlVu3hz3L+Ys8gmUBTSv6B370ie1L6/QL6HEghQpT/wmrstUxLKPyujaitSaNc/brz7X73j4D9GJ0KqURPmPyCSiPTlQus/",
          "dtype": "f8"
         },
         "y": {
          "bdata": "IoVtG5l1BcASACMJ1HsFwAJ72PYOggXA8fWN5EmIBcDicEPShI4FwNLr+L+/lAXAwWaurfqaBcCy4WObNaEFwKJcGYlwpwXAkdfOdqutBcCCUoRk5rMFwHLNOVIhugXAYUjvP1zABcBRw6Qtl8YFwEE+WhvSzAXA",
          "dtype": "f8"
         },
         "z": {
          "bdata": "wvLt8zcb7z9ZNA1SNEnsP7FWDNU5Y+k/ivNi6VFW5j/1ZOGweRHjP/aJd8P4DN8/0j9RR1NV1z+q2loYe93NP+7cznDfUrc/wDkclvChr7+2nyu/vb3Mv0w7sNnJVdm/zH69tkpe4r9tZUvvnTjov1Nr+QLoJu6/",
          "dtype": "f8"
         }
        },
        {
         "hovertemplate": "relationships. → word<extra></extra>",
         "line": {
          "color": "#45B7D1",
          "width": 2
         },
         "mode": "lines",
         "opacity": 0.3229174266748047,
         "showlegend": false,
         "type": "scatter3d",
         "x": {
          "bdata": "3KKoDZur9r8KSRLTDqn3vzrve5iCpvi/aJXlXfaj+b+XO08jaqH6v8bhuOjdnvu/9IcirlGc/L8kLoxzxZn9v1LU9Tg5l/6/gXpf/qyU/79YkORhEEkAwHBjmUTKxwDAhzZOJ4RGAcCeCQMKPsUBwLbct+z3QwLA",
          "dtype": "f8"
         },
         "y": {
          "bdata": "IoVtG5l1BcBzfLybJx4FwMRzCxy2xgTAFGtanERvBMBlYqkc0xcEwLZZ+JxhwAPAB1FHHfBoA8BYSJadfhEDwKk/5R0NugLA+jY0nptiAsBKLoMeKgsCwJwl0p64swHA7BwhH0dcAcA9FHCf1QQBwI4Lvx9krQDA",
          "dtype": "f8"
         },
         "z": {
          "bdata": "wvLt8zcb7z9iCzqB80/oPxDJY3sBceE/B3pY1GHX1D+42oID63m5P7aRahlnScG/k33XTDtH2L/EOBeVGEvkv4zyiisCy+y/+YVMaJHQ8r/3n3YXeGP3vwJJKJXwGPy/bw6OR/10AMDKSmDnGecCwOQd++shXgXA",
          "dtype": "f8"
         }
        },
        {
         "hovertemplate": "relationships. → process<extra></extra>",
         "line": {
          "color": "#96CEB4",
          "width": 5.328270712152264
         },
         "mode": "lines",
         "opacity": 0.7,
         "showlegend": false,
         "type": "scatter3d",
         "x": {
          "bdata": "3KKoDZur9r9vbYXo0BP0vwQ4YsMGfPG/LwV+PHnI7b9Wmjfy5Jjov34v8adQaeO/SYlVu3hz3L+Ys8gmUBTSv6B370ie1L6/QL6HEghQpT/wmrstUxLKPyujaitSaNc/brz7X73j4D9GJ0KqURPmPyCSiPTlQus/",
          "dtype": "f8"
         },
         "y": {
          "bdata": "IoVtG5l1BcASACMJ1HsFwAJ72PYOggXA8fWN5EmIBcDicEPShI4FwNLr+L+/lAXAwWaurfqaBcCy4WObNaEFwKJcGYlwpwXAkdfOdqutBcCCUoRk5rMFwHLNOVIhugXAYUjvP1zABcBRw6Qtl8YFwEE+WhvSzAXA",
          "dtype": "f8"
         },
         "z": {
          "bdata": "wvLt8zcb7z+5r08MpBvyPyqtvbvKbPQ/pumFKTxH9j/fpgtPGHf3P4f7S+gM0fc/UOeYkIE09z/A2NAuOo31PyqF0bVa1PI/eG56ZX4h7j/fAGt9R63kPzyEofmCGtM/QNlzong/t79OOrkoikrgv1Jr+QLoJu6/",
          "dtype": "f8"
         }
        },
        {
         "hovertemplate": "use → language.<extra></extra>",
         "line": {
          "color": "#96CEB4",
          "width": 3.517361608914475
         },
         "mode": "lines",
         "opacity": 0.7,
         "showlegend": false,
         "type": "scatter3d",
         "x": {
          "bdata": "6wGyaAnPCcDzGhpcDdIIwPszgk8R1QfAAk3qQhXYBsAKZlI2GdsFwBJ/uikd3gTAGJgiHSHhA8AgsYoQJeQCwCjK8gMp5wHAL+Na9yzqAMBu+IXVYdr/v3wqVrxp4P2/jFwmo3Hm+7+cjvaJeez5v6rAxnCB8ve/",
          "dtype": "f8"
         },
         "y": {
          "bdata": "E/QCTpi06D/xRpE26ansP+jMjw+dT/A/VvbWg0VK8j/GHx747UT0PzRJZWyWP/Y/o3Ks4D46+D8TnPNU5zT6P4LFOsmPL/w/8O6BPTgq/j8vjORYcBIAQOggCJPEDwFAnrUrzRgNAkBWSk8HbQoDQA7fckHBBwRA",
          "dtype": "f8"
         },
         "z": {
          "bdata": "AlLCN2GGDsCHlyoqtGUKwFEqM1EfWQbAGoDJ7bhzAsCfP4eRQI39vys6Gs5DwPa/DC3N9/+V8L/Zh+s1oTfmv4JjQcXzWNm/cI4ECe4Fwr+wzvMeiCCzPxZCgfloXtA/EEEn+EEy2j8QlC+lU2bhP39SynslY+U/",
          "dtype": "f8"
         }
        },
        {
         "hovertemplate": "efficiently. → context<extra></extra>",
         "line": {
          "color": "#96CEB4",
          "width": 3.313249861581858
         },
         "mode": "lines",
         "opacity": 0.7,
         "showlegend": false,
         "type": "scatter3d",
         "x": {
          "bdata": "Gfeo/yCFCEBR3oICxEkIQIvFXAVnDghAwqw2CArTB0D6kxALrZcHQDN76g1QXAdAa2LEEPMgB0CkSZ4TluUGQNwweBY5qgZAFRhSGdxuBkBN/yscfzMGQIbmBR8i+AVAvs3fIcW8BUD2tLkkaIEFQC+ckycLRgVA",
          "dtype": "f8"
         },
         "y": {
          "bdata": "VKfAiGdf2T+jiVzpcYDLP3gS3wRTCKE/aADtZkj8wr+24ojHUh3Vv5yiza1AXuC/3tPW99ct5r8fBeBBb/3rvzCb9EWD5vC/0DP56k7O879xzP2PGrb2vxJlAjXmnfm/sv0G2rGF/L9Slgt/fW3/v3oXCJKkKgHA",
          "dtype": "f8"
         },
         "z": {
          "bdata": "isB60ziYBMCYnTyNjMEBwHfBdO6b+/2/Km0NjO+9+L96KRHMVerzv/DDd8N9N++/yKalGd/M579cKEnU+a3hv+D3oLmrxtm/dtyak9bI0r+QSYuGP2DMv6i7GJPoVse/mLL+siaexb/w1M0f6zPGv7BYW5CK+Me/",
          "dtype": "f8"
         }
        },
        {
         "hovertemplate": "to → human<extra></extra>",
         "line": {
          "color": "#96CEB4",
          "width": 3.2324547846791227
         },
         "mode": "lines",
         "opacity": 0.7,
         "showlegend": false,
         "type": "scatter3d",
         "x": {
          "bdata": "GCNWOyI5yr/esP+vQ/vNv1KfVJKy3tC/NGapTMO/0r8WLf4G1KDUv/jzUsHkgda/2rqne/Vi2L++gfw1BkTav6BIUfAWJdy/gw+mqicG3r9l1vpkOOffv6TOp48k5OC/FTLS7KzU4b+GlfxJNcXiv/j4Jqe9teO/",
          "dtype": "f8"
         },
         "y": {
          "bdata": "UXZ1iVYGAkDqBb6J65wCQIOVBoqAMwNAHCVPihXKA0C0tJeKqmAEQE1E4Io/9wRA5tMoi9SNBUB/Y3GLaSQGQBjzuYv+ugZAsIICjJNRB0BJEkuMKOgHQOOhk4y9fghAfDHcjFIVCUAUwSSN56sJQK1QbY18QgpA",
          "dtype": "f8"
         },
         "z": {
          "bdata": "YpodZcPVwz9//YYen7rCP23nEHUCeMA/OLE45Yvqtz/gOnQkl9qgP4Bryy15WK6/sPrfCzgPyL/eouL9bcvWv16ewy6VE+K/F/Zz6hUF6r+yzY0I1pDxv060Q5nloPa/TPLannEY/L+w/8jPAOwAwNB9UlZA3gPA",
          "dtype": "f8"
         }
        },
        {
         "hovertemplate": "Natural → human<extra></extra>",
         "line": {
          "color": "#96CEB4",
          "width": 2.868522942124851
         },
         "mode": "lines",
         "opacity": 0.7,
         "showlegend": false,
         "type": "scatter3d",
         "x": {
          "bdata": "kQAJm9VLCUBezrAaLCMHQCqcWJqC+gRA92kAGtnRAkDEN6iZL6kAQCELoDIMAf0/uqbvMbmv+D9TQj8xZl70P+zdjjATDfA/DvO8X4B35z+CVLi8tKndP8KF7XPRyMg/2DorI42Ds79PYIxLLybWv/j4Jqe9teO/",
          "dtype": "f8"
         },
         "y": {
          "bdata": "sjg/glFA0r/osXpdkRKfv+zEH63+u8w/C3D3wiet3j/Pfq8XKH7nP5hF4028pe8/MoYLQqjm8z+XaSVdcvr3P/xMP3g8Dvw/MJisSQMRAEDiiTlX6BoCQJZ7xmTNJARASG1TcrIuBkD6XuB/lzgIQK1QbY18QgpA",
          "dtype": "f8"
         },
         "z": {
          "bdata": "SpuyaSZDCEAUv9B0AWMGQBhTiTt5cgRANQ661/xhAkDN70yTlSMAQO4B7VA0V/s/8kPE5oji9T/rPsJOiLzvP7LCzl9pjeI/6OWZGV/8wD/IIPP3RTHWv/fb/leuVuu/0MY9mzIm9r9u0Ytf9uD+v9B9UlZA3gPA",
          "dtype": "f8"
         }
        },
        {
         "hovertemplate": "context → efficiently.<extra></extra>",
         "line": {
          "color": "#96CEB4",
          "width": 2.3295466609882594
         },
         "mode": "lines",
         "opacity": 0.7,
         "showlegend": false,
         "type": "scatter3d",
         "x": {
          "bdata": "L5yTJwtGBUD3tLkkaIEFQL/N3yHFvAVAhuYFHyL4BUBN/yscfzMGQBUYUhncbgZA3DB4FjmqBkCkSZ4TluUGQGxixBDzIAdAM3vqDVBcB0D7kxALrZcHQMKsNggK0wdAisVcBWcOCEBS3oICxEkIQBn3qP8ghQhA",
          "dtype": "f8"
         },
         "y": {
          "bdata": "ehcIkqQqAcBTlgt/fW3/v7P9Btqxhfy/EmUCNead+b9yzP2PGrb2v9Ez+epOzvO/MJv0RYPm8L8fBeBBb/3rv97T1vfXLea/nqLNrUBe4L+74ojHUh3Vv2oA7WZI/MK/YBLfBFMIoT+biVzpcYDLP1SnwIhnX9k/",
          "dtype": "f8"
         },
         "z": {
          "bdata": "tFhbkIr4x79VZCRHGjXNv+swOghNo9G/S8wnRKZ71b8x/HU3UX7avyGWk2GIe+C/PNBs33KP5L9kUeWcmYzpvxb7QRz8eO+/6/WebU0n879SPx0p4v32v8hItAr8Mfu/XHcjWqqw/7+NBrJ/nzECwIrAetM4mATA",
          "dtype": "f8"
         }
        },
        {
         "hovertemplate": "processing → machines<extra></extra>",
         "line": {
          "color": "#96CEB4",
          "width": 2.267127832849696
         },
         "mode": "lines",
         "opacity": 0.7,
         "showlegend": false,
         "type": "scatter3d",
         "x": {
          "bdata": "6joUq87YBECHWYjo1hcEQCR4/CXfVgNAwJZwY+eVAkBdteSg79QBQPrTWN73EwFAlvLMGwBTAEBmIoKyECT/P6Bfai0hov0/2pxSqDEg/D8U2jojQp76P0wXI55SHPk/hlQLGWOa9z/AkfOTcxj2P/nO2w6ElvQ/",
          "dtype": "f8"
         },
         "y": {
          "bdata": "ZkK/nLkZ+z+IUXVPcSv8P6tgKwIpPf0/zG/htOBO/j/ufpdnmGD/PwjHJg0oOQBAmc6B5gPCAEAq1ty/30oBQLzdN5m70wFATOWScpdcAkDe7O1Lc+UCQG/0SCVPbgNAAPyj/ir3A0CRA//XBoAEQCILWrHiCAVA",
          "dtype": "f8"
         },
         "z": {
          "bdata": "0PZR+wFxwj/+jVXG6Li/Px49zq1W8bg/yBRibD4Drj+AKdkpQBNhP4jsXMKloLO/RN1EtgMsx79auRwT0wnUv5KB0dNJT96/gbD6sFwt5b86w9y02ATsv0kCTAUuyfG/2PP9i4TY9b+FQ6FoXRr6v0kiyLMddv6/",
          "dtype": "f8"
         }
        },
        {
         "hovertemplate": "dependencies → relationships.<extra></extra>",
         "line": {
          "color": "#96CEB4",
          "width": 2.1677281003335676
         },
         "mode": "lines",
         "opacity": 0.7,
         "showlegend": false,
         "type": "scatter3d",
         "x": {
          "bdata": "/Tj2ZHx4A0D15bD4LUUBQN0l1xi/I/4/zH9MQCK9+T+92cFnhVb1P64zN4/o7/A/PBtZbZcS6T8ez0O8XUXgPwQMuiyQ4M0/0JFsXlpRpb92KvitnkTUv1xhEQiJ7+K/eK0mucK867/M/B01/kTyv9yiqA2bq/a/",
          "dtype": "f8"
         },
         "y": {
          "bdata": "vXTjA6f9AMB7mv/gXE8BwDnAG74SoQHA9+U3m8jyAcC1C1R4fkQCwHQxcFU0lgLAMVeMMurnAsDwfKgPoDkDwK2ixOxViwPAbMjgyQvdA8Aq7vymwS4EwOcTGYR3gATApjk1YS3SBMBkX1E+4yMFwCKFbRuZdQXA",
          "dtype": "f8"
         },
         "z": {
          "bdata": "PHGli3Y2BUDSt8h2vjcFQKyrYwqkLAVAOvxR6GMJBUBYqnqscMMEQFqzUmL6UQRAjgxbpF+uA0AJknO5gtQCQFVXZ2v+wgFA6Uhr8Dd7AEBgFT8DmgL+P7BOBgm+t/o/IkNC23sn9z//8CRC7mbzP8Py7fM3G+8/",
          "dtype": "f8"
         }
        },
        {
         "hovertemplate": "to → identify<extra></extra>",
         "line": {
          "color": "#96CEB4",
          "width": 2.1619700498114365
         },
         "mode": "lines",
         "opacity": 0.7,
         "showlegend": false,
         "type": "scatter3d",
         "x": {
          "bdata": "zOeML5T1BsBiQV+gHVMGwPeaMRGnsAXAjPQDgjAOBcAiTtbyuWsEwLenqGNDyQPATAF71MwmA8DiWk1FVoQCwHe0H7bf4QHADA7yJmk/AcCiZ8SX8pwAwG6CLRH49P+/mTXS8gqw/r/E6HbUHWv9v+6bG7YwJvy/",
          "dtype": "f8"
         },
         "y": {
          "bdata": "oFU159YC8b+RiW44kTvxv4O9p4lLdPG/dPHg2gWt8b9mJRoswOXxv1dZU316HvK/SY2MzjRX8r86wcUf74/yvyz1/nCpyPK/Hik4wmMB878PXXETHjrzvwCRqmTYcvO/8sTjtZKr87/k+BwHTeTzv9UsVlgHHfS/",
          "dtype": "f8"
         },
         "z": {
          "bdata": "bmwV+fczDkDwFQre1KQNQFa6TddXCQ1A5QB5hsVVDEC462a0l38LQOi1mmoEfgpAuEbRxW5KCUDuU3PZu+AHQKWbM2KHPwZAwV9fozVoBECA6o2J4V4CQJhUAvgnKgBA6cVyyqWl+z/7JrAQ0cb2P819i39Iz/E/",
          "dtype": "f8"
         }
        },
        {
         "hovertemplate": "models → efficiently.<extra></extra>",
         "line": {
          "color": "#96CEB4",
          "width": 2.0708337887929567
         },
         "mode": "lines",
         "opacity": 0.7,
         "showlegend": false,
         "type": "scatter3d",
         "x": {
          "bdata": "zuYec+Ii1j9UVuzZhEjhP0I5SXqYf+c/MBymGqy27T+Of4Hd3/bxPwXxr61pEvU/fGLeffMt+D/z0wxOfUn7P2lFOx4HZf4/cNs0d0jAAEArFExfDU4CQOdMY0fS2wNAooV6L5dpBUBevpEXXPcGQBn3qP8ghQhA",
          "dtype": "f8"
         },
         "y": {
          "bdata": "RJiSfZRWC8B4sBjRrygJwKvIniTL+gbA3uAkeObMBMAS+arLAZ8CwEcRMR8dcQDA8lJu5XCG/L9ag3qMpyr4v8GzhjPezvO/UsgltSnm7r8gKT4Dly7mv9gTraII7tq/7qq7fcb9wr+qo8WTCMG/P1SnwIhnX9k/",
          "dtype": "f8"
         },
         "z": {
          "bdata": "Od7B2rNSAUAjQ8iUkBL/P6flWTAQaPs/liITAW2P9z+rdd+9fXTzP9r0XVXYDO4/WZ0adRpx5D9Mi4G5DgzUP9DVW+dem6O/K4GF45CR2r/PJPKudRfqv9qSDcYzxvO/J/2OyPjC+r+CZvRK8PYAwIrAetM4mATA",
          "dtype": "f8"
         }
        },
        {
         "hovertemplate": "language → use<extra></extra>",
         "line": {
          "color": "#96CEB4",
          "width": 2
         },
         "mode": "lines",
         "opacity": 0.7,
         "showlegend": false,
         "type": "scatter3d",
         "x": {
          "bdata": "Zj9Jhu2EAkDlUNzFt7T+P/8iJn+UX/g/F/VvOHEK8j9hjnPjm2rnPyhlDqyqgNU/wJNSdhOfrr8UCqOJbyjdv9bgPVJ+Puu/Uh7Vb2L08784TIu2hUn6vxC9oH5UTwDABNT7IeZ5A8D26lbFd6QGwOsBsmgJzwnA",
          "dtype": "f8"
         },
         "y": {
          "bdata": "4IVdS1PVub+MmDwOyL2jv1S1g/QsXpg/8CZggfoNtj9FsM/iNALDPxJN74Rs/co/8HSHE1J80T9XQ5fk7XnVP70Rp7WJd9k/I+C2hiV13T9FV+OrYLngP3k+a5QuuOI/rCXzfPy25D/fDHtlyrXmPxP0Ak6YtOg/",
          "dtype": "f8"
         },
         "z": {
          "bdata": "sw/No41E8z918ZyLCJTuP4UMhErRceY/sKxk+ijv2z/GOJImbPvDP6CH19rpYcK/5Ifety7N3b/2WDytfPrpv+5NA0Og7PK/3khyZeY++b/FvFA6kOz/v1XCygrEdAPAxCr8Id8SB8CDxzuc+8YKwAJSwjdhhg7A",
          "dtype": "f8"
         }
        },
        {
         "hovertemplate": "understand → human<extra></extra>",
         "line": {
          "color": "#96CEB4",
          "width": 2
         },
         "mode": "lines",
         "opacity": 0.7,
         "showlegend": false,
         "type": "scatter3d",
         "x": {
          "bdata": "drPDh0F92T9dlQudWNrUP0R3U7JvN9A/U7I2jw0pxz9A7Ixzd8a7P7jnWJGndaI/GAloxJ+hor/0fBSNc9y7v6x6+psLNMe/b1u1uO480L+IeW2j19/Uv6OXJY7Agtm/u7XdeKkl3r/q6coxSWThv/j4Jqe9teO/",
          "dtype": "f8"
         },
         "y": {
          "bdata": "ATlBxaXkD0DXg43Ton0PQKzO2eGfFg9AgRkm8JyvDkBXZHL+mUgOQCyvvgyX4Q1AAvoKG5R6DUDXRFcpkRMNQKyPozeOrAxAgtrvRYtFDEBYJTxUiN4LQC1wiGKFdwtAA7vUcIIQC0DXBSF/f6kKQK1QbY18QgpA",
          "dtype": "f8"
         },
         "z": {
          "bdata": "S/CXggR/4D/+py4NgRPaPz42DU7D0dI/RixLBfPLxT9wbQw2oi6gPygdtP51GcC/BSoVgGWA079oNELQEzngv8wjvXHqdee/3CQS48xx77/Dctt4Hg/0vw24uwLxsfi/axe7aNqR/b8vAeZoI04BwNB9UlZA3gPA",
          "dtype": "f8"
         }
        },
        {
         "hovertemplate": "human → Transformers<extra></extra>",
         "line": {
          "color": "#96CEB4",
          "width": 2
         },
         "mode": "lines",
         "opacity": 0.7,
         "showlegend": false,
         "type": "scatter3d",
         "x": {
          "bdata": "+Pgmp72147/GwBOYCOLlv5OIAIlTDui/YFDteZ466r8uGNpq6Wbsv/rfxls0k+6/5NNZpr9f8L/LN9Ae5XXxv7KbRpcKjPK/mP+8DzCi879+YzOIVbj0v2bHqQB7zvW/TCsgeaDk9r8zj5bxxfr3vxrzDGrrEPm/",
          "dtype": "f8"
         },
         "y": {
          "bdata": "rVBtjXxCCkBWouCOstMJQP7zU5DoZAlAp0XHkR72CEBQlzqTVIcIQPjorZSKGAhAoDohlsCpB0BKjJSX9joHQPLdB5kszAZAmy97mmJdBkBEge6bmO4FQOzSYZ3OfwVAlCTVngQRBUA+dkigOqIEQObHu6FwMwRA",
          "dtype": "f8"
         },
         "z": {
          "bdata": "0H1SVkDeA8DomsVIsMcBwJwXi437d/+/wkLcwvWK+7+E+uJm09r3v4rxjxALd/S/hllSOD9r8b+binq7UX3tvwuSNqB15+i/D6FDgAQQ5b8CkntcjOjhv/UCAIiQs96/WBTfEZaJ2r8jSwOBGAnXv2AgjkyH39O/",
          "dtype": "f8"
         }
        },
        {
         "hovertemplate": "human → mechanisms<extra></extra>",
         "line": {
          "color": "#96CEB4",
          "width": 2
         },
         "mode": "lines",
         "opacity": 0.6781387553404343,
         "showlegend": false,
         "type": "scatter3d",
         "x": {
          "bdata": "+Pgmp72147+nEKwzrQfov1YoMcCcWey/AyBbJsZV8L/aq53svX7yv7E34LK1p/S/isMiea3Q9r9hT2U/pfn4vzjbpwWdIvu/EGfqy5RL/b/m8iySjHT/v1+/NyzCzgDATAVZDz7jAcA2S3ryufcCwCORm9U1DATA",
          "dtype": "f8"
         },
         "y": {
          "bdata": "rVBtjXxCCkBX/Ox5KjUIQACobGbYJwZAqlPsUoYaBEBU/2s/NA0CQPtV11fE//8/Ta3WMCDl+z+gBNYJfMr3P/Rb1eLXr/M/kGapd2cq7z83FagpH/XmP7SHTbetf90/CMqVNjoqyj9s7b0FnKuqv2ZguhwEwNO/",
          "dtype": "f8"
         },
         "z": {
          "bdata": "0H1SVkDeA8C7ABmM7R0CwPL+DojvZwDARaFU4yyM/b/iy7eyX4L6v6qUhm8rwfe/B5f6HaBT9b/haPHSm0Dzv6eMl4tyivG/6H/AStAu8L9+WR33rU3uv4LvkDPtzuy//ZNdaPbD679ehr9Tkwnrv/Fl31eDeOq/",
          "dtype": "f8"
         }
        },
        {
         "hovertemplate": "process → processing<extra></extra>",
         "line": {
          "color": "#96CEB4",
          "width": 2
         },
         "mode": "lines",
         "opacity": 0.6580212809854853,
         "showlegend": false,
         "type": "scatter3d",
         "x": {
          "bdata": "IJKI9OVC6z/zczsmNUXvP+Mq9yvCo/E/zJvQxOmk8z+2DKpdEab1P599g/Y4p/c/iO5cj2Co+T9yXzYoiKn7P1zQD8Gvqv0/REHpWder/z8XWWF5f9YAQIwRzkUT1wFAAco6EqfXAkB1gqfeOtgDQOo6FKvO2ARA",
          "dtype": "f8"
         },
         "y": {
          "bdata": "QT5aG9LMBcBLrjovakYDwFYeG0MCwADAvxz3rTRz/L/S/LfVZGb3v+fceP2UWfK/83lzSoqZ6r8cOvWZ6n/gvxjp26Urmcm/iCw6OKaavT/SCgvv6JnbP0TFAyiU5uc/jQJB7BkA8T94IoDE6Qz2P2ZCv5y5Gfs/",
          "dtype": "f8"
         },
         "z": {
          "bdata": "U2v5Augm7r8+3WqklYvov6k1dIhcGOO/t07vZqbm278TDUP6SH3Sv6KA8tdjW8S/+JWk9okWqb8ItWLBikWkPyx2dHQyL7s/jkDUlxNfwz+gByQzIZ3GP+7krhGip8c/Tgygdbjwxj+Tzqi9DwHFP9L2UfsBccI/",
          "dtype": "f8"
         }
        },
        {
         "hovertemplate": "word → models<extra></extra>",
         "line": {
          "color": "#96CEB4",
          "width": 2
         },
         "mode": "lines",
         "opacity": 0.6421583722416229,
         "showlegend": false,
         "type": "scatter3d",
         "x": {
          "bdata": "tty37PdDAsAHdFqfX8MAwLIW+qOOhf6/U0U/CV6E+7/2c4RuLYP4v5miydP8gfW/OdEOOcyA8r+4/6c8N//uv/5cMgfW/Oi/Q7q80XT64r8SL444J/DZvy7TRZvJ1su/IEJ6KyZqnr+nQmcQQDzEP87mHnPiItY/",
          "dtype": "f8"
         },
         "y": {
          "bdata": "jgu/H2StAMBSAwVLVXABwBb7SnZGMwLA2vKQoTf2AsCd6tbMKLkDwGHiHPgZfATAJNpiIws/BcDp0ahO/AEGwK3J7nntxAbAccE0pd6HB8A0uXrQz0oIwPiwwPvADQnAvKgGJ7LQCcCAoExSo5MKwESYkn2UVgvA",
          "dtype": "f8"
         },
         "z": {
          "bdata": "5B376yFeBcC+bvT5i9cBwDzWs/V8tfy/uoZrmAji9b/7kaOzzYruvzCaCu0H2+G//qHIgc0mx7/YdxZeuXDGP/5C1X40UuA/zTyE0cdc6j8+WBn1dOTxP0RQIybHVfY/gLZ+uEaQ+j8AZe2pn6T+PznewdqzUgFA",
          "dtype": "f8"
         }
        },
        {
         "hovertemplate": "enables → attention<extra></extra>",
         "line": {
          "color": "#96CEB4",
          "width": 2
         },
         "mode": "lines",
         "opacity": 0.6394616806372735,
         "showlegend": false,
         "type": "scatter3d",
         "x": {
          "bdata": "fHYorbuq4T8E8NRoqTfXPxzmse62M8Y/gJ4woic/kL+4DT7XgEPKv88DG12OP9m/ZIBLJ66u4r/efgkglb3ov1h9xxh8zO6/6L3CiLFt8r8mvSEFJXX1v2S8gIGYfPi/obvf/QuE+7/euj56f4v+vw7dTnt5yQDA",
          "dtype": "f8"
         },
         "y": {
          "bdata": "WMzW0TbI8z/dllrUgCXzP2Fh3tbKgvI/5Sti2RTg8T9q9uXbXj3xP+7Aad6omvA/5RbbweXv7z/uq+LGearuP/ZA6ssNZe0/ANbx0KEf7D8Ja/nVNdrqPxIAAdvJlOk/GpUI4F1P6D8kKhDl8QnnPyy/F+qFxOU/",
          "dtype": "f8"
         },
         "z": {
          "bdata": "fFfS3Kkp27+Hrb1IigTbvxGnwShaLdu/NOL4fSDu279RyS6ORYndvxLpdTYfG+C/DwRximIP4r8jSypiYK7kv9+2Nrx8/Oe/tE4BmlP167+MPjSu+EXwvy+eCYO81fK/zqieBhic9b/Ug4AncYj4v7qHaCVGiPu/",
          "dtype": "f8"
         }
        },
        {
         "hovertemplate": "enables → machines<extra></extra>",
         "line": {
          "color": "#96CEB4",
          "width": 2
         },
         "mode": "lines",
         "opacity": 0.6362412310408595,
         "showlegend": false,
         "type": "scatter3d",
         "x": {
          "bdata": "fHYorbuq4T8FZ6CQnFjjP41XGHR9BuU/FUiQV1605j+eOAg7P2LoPyYpgB4gEOo/rhn4AQG+6z83CnDl4WvtP8D658jCGe8/pPUv1tFj8D/o7etHwjrxPyzmp7myEfI/cd5jK6Po8j+01h+dk7/zP/nO2w6ElvQ/",
          "dtype": "f8"
         },
         "y": {
          "bdata": "WMzW0TbI8z98CMIAwV/1P55ErS9L9/Y/wYCYXtWO+D/kvIONXyb6Pwj5brzpvfs/KjVa63NV/T9OcUUa/uz+P7hWmCREQgBAyvQNPAkOAUDckoNTztkBQO0w+WqTpQJA/85uglhxA0AQbeSZHT0EQCILWrHiCAVA",
          "dtype": "f8"
         },
         "z": {
          "bdata": "fFfS3Kkp278A/OKtm+Lbv5wOWngY6dy/neB3zMeG3r9C4xcp3n7gv9raoM6RQuK/LGc97kCj5L9ouVh0zq3nv0qPZ7aYZuu/Fiv1XkHJ77/NLcvAcmTyv2RIcoNhKPW/8ud/kqEi+L9ZN/dDrkL7v0kiyLMddv6/",
          "dtype": "f8"
         }
        },
        {
         "hovertemplate": "efficiently. → Natural<extra></extra>",
         "line": {
          "color": "#96CEB4",
          "width": 2
         },
         "mode": "lines",
         "opacity": 0.6088418513177171,
         "showlegend": false,
         "type": "scatter3d",
         "x": {
          "bdata": "Gfeo/yCFCEDG93h4UpMIQHT4SPGDoQhAIPkYarWvCEDN+eji5r0IQHr6uFsYzAhAKPuI1EnaCEDV+1hNe+gIQIL8KMas9ghAL/34Pt4ECUDc/ci3DxMJQIr+mDBBIQlAN/9oqXIvCUDk/zgipD0JQJEACZvVSwlA",
          "dtype": "f8"
         },
         "y": {
          "bdata": "VKfAiGdf2T/B8tK+tUHWPy8+5fQDJNM/m4n3KlIG0D8UqhPCQNHJP+9AOC7dlcM/j6+5NPO0uj+IugUaWHysP6CvwFROdnw/oI7VhMRepb+XmSFqKSa3v/M17Eh4zsG/GJ/H3NsJyL89CKNwP0XOv7I4P4JRQNK/",
          "dtype": "f8"
         },
         "z": {
          "bdata": "isB60ziYBMAK3jV0AasAwAjhdzAhjvm/EEPgYmvq8b8UK3QdYPXkv4yz0ygUYcq/Ogwm13S6zD9sFRfH8VLkP56SqD5FaPA/vittwspV9j+8XZHcM/j7P6eAF5a3rABAOJotAVhDA0A9lRV34scFQEqbsmkmQwhA",
          "dtype": "f8"
         }
        },
        {
         "hovertemplate": "These → process<extra></extra>",
         "line": {
          "color": "#96CEB4",
          "width": 2
         },
         "mode": "lines",
         "opacity": 0.6077584586812859,
         "showlegend": false,
         "type": "scatter3d",
         "x": {
          "bdata": "5Kv5t+hJ4L/IBXOgIVvav8iz8tBxItS/jcPkAoTTy78YP8jHSMS+v2DcGycmhpe/7FA6tDUBsz94zB15+vHFPzw4DwytMdE/PIqP21xq1z883A+rDKPdPx4XSD3e7eE/HkAIJTYK5T8eacgMjiboPyCSiPTlQus/",
          "dtype": "f8"
         },
         "y": {
          "bdata": "8JRiGkiQDsBSs0/RCPANwLLRPIjJTw3AE/ApP4qvDMB1Dhf2Sg8MwNcsBK0LbwvANkvxY8zOCsCYad4ajS4KwPqHy9FNjgnAW6a4iA7uCMC8xKU/z00IwB7jkvaPrQfAfgGArVANB8DgH21kEW0GwEE+WhvSzAXA",
          "dtype": "f8"
         },
         "z": {
          "bdata": "uV7X08HBCMARV/ljQM4GwJINuj0B5ATAicqNz88LA8CqrFLHj00BwN4+wZevX/+/IptI0zlv/L9tFuzf5c/5vyzjHODJg/e/7s5psc+I9b9rMSK1z9jzvzK1bNLfafK/SoOZu9Iu8b9RXuwU4Rfwv1Nr+QLoJu6/",
          "dtype": "f8"
         }
        },
        {
         "hovertemplate": "language. → These<extra></extra>",
         "line": {
          "color": "#96CEB4",
          "width": 2
         },
         "mode": "lines",
         "opacity": 0.5750269882009632,
         "showlegend": false,
         "type": "scatter3d",
         "x": {
          "bdata": "qsDGcIHy979UCyamidH2v/5VhduRsPW/p6DkEJqP9L9R60NGom7zv/s1o3uqTfK/pIACsbIs8b9Oy2Hmugvwv/ArgjeG1e2/Q8FAopaT67+XVv8Mp1Hpv+rrvXe3D+e/PoF84sfN5L+RFjtN2Iviv+Sr+bfoSeC/",
          "dtype": "f8"
         },
         "y": {
          "bdata": "Dt9yQcEHBEAyMggEnGoAQLAKO43tmvk/+bBlEqNg8j+EriAvsUzmP2Ds1+VwYM8/WOHS8OJxyr/Ea9+xDRHlv5cPxVPRwvG/Tmmazhv9+L+C4bcksxsAwF6OImLYuAPAODuNn/1VB8AU6PfcIvMKwPCUYhpIkA7A",
          "dtype": "f8"
         },
         "z": {
          "bdata": "flLKeyVj5T9YXgZXKwjfP8i0kqX2A9M/xvej2G3cuT9coNrkdWi7v/pQWK6SIdW/5vAR5GRC4r94PxHqho3qv9X01BIRu/G/Aw0u7SF89r8sn7FAI4T7vwjZ0tLZZADAXKBLvS0gA8BbKYN3luwFwLle19PBwQjA",
          "dtype": "f8"
         }
        },
        {
         "hovertemplate": "identify → models<extra></extra>",
         "line": {
          "color": "#96CEB4",
          "width": 2
         },
         "mode": "lines",
         "opacity": 0.5721473966387859,
         "showlegend": false,
         "type": "scatter3d",
         "x": {
          "bdata": "7psbtjAm/L+szOadRL75v2r9sYVYVve/Jy59bWzu9L/lXkhVgIbyv6OPEz2UHvC/v4C9SVBt67864lMZeJ3mv7ZD6uifzeG/ZEoBcY/72b9cDS4Q31vQvzxBa7268Lq/yGXDiw0cpz+DU5ckZAbJP87mHnPiItY/",
          "dtype": "f8"
         },
         "y": {
          "bdata": "1SxWWAcd9L899mS/CZX2v6a/cyYMDfm/DYmCjQ6F+792UpH0EP39v+8N0K2JOgDAonJX4Yp2AcBX194UjLICwAw8ZkiN7gPAwKDte44qBcBzBXWvj2YGwChq/OKQogfA286DFpLeCMCQMwtKkxoKwESYkn2UVgvA",
          "dtype": "f8"
         },
         "z": {
          "bdata": "zX2Lf0jP8T/mUBSizV70P58Wbvbj3PY/ljEKd/w4+T+2Aep2PGT7P+UkOVA8Uv0/UM/Noab5/j/UGbQPWCoAQLQQVPmwsABAiuT2eNkQAUD+e7w0t00BQPu8Od30awFAithYRcZxAUC6HpnDmGYBQDnewdqzUgFA",
          "dtype": "f8"
         }
        },
        {
         "hovertemplate": "Transformers → language<extra></extra>",
         "line": {
          "color": "#96CEB4",
          "width": 2
         },
         "mode": "lines",
         "opacity": 0.5440222882731394,
         "showlegend": false,
         "type": "scatter3d",
         "x": {
          "bdata": "GvMMausQ+b9B/dzzSqH0v2gHrX2qMfC/GiP6DhSE57/QbjRFpkndv9gu6dhIFse/+P8ssXXNuD9kFwtF3/HXP2R35Y4w2OQ/FmNFe3G37T9kp9IzWUvzPz+dAqr5uvc/GJMyIJoq/D94RDFLHU0AQGY/SYbthAJA",
          "dtype": "f8"
         },
         "y": {
          "bdata": "5se7oXAzBEAtBHEdSrMCQHZAJpkjMwFAevm2Kfpl/z8JciEhrWX8P5nqixhgZfk/J2P2DxNl9j+322AHxmTzP0dUy/54ZPA/rZlr7FfI6j/MikDbvcfkP9L3KpRHjt0/ENrUcRON0T878fo9fS+2P+CFXUtT1bm/",
          "dtype": "f8"
         },
         "z": {
          "bdata": "YSCOTIff07+xPh5WTCK/v6wlubFNMLA/yThkTOO+zj/kKZiaCPnZP3RnPg/V1OE/MgOPP+sm5j+U/wcawufpP0acimGdE+0/oJk1Uzmu7z8acJ9ZTeHwP0S5g61AsfE/EZEQMMJS8j9W55Cg8dPyP7MPzaONRPM/",
          "dtype": "f8"
         }
        },
        {
         "hovertemplate": "machines → enables<extra></extra>",
         "line": {
          "color": "#96CEB4",
          "width": 2
         },
         "mode": "lines",
         "opacity": 0.5383341225978238,
         "showlegend": false,
         "type": "scatter3d",
         "x": {
          "bdata": "+c7bDoSW9D+11h+dk7/zP3HeYyuj6PI/LOanubIR8j/o7etHwjrxP6T1L9bRY/A/v/rnyMIZ7z83CnDl4WvtP64Z+AEBvus/JimAHiAQ6j+eOAg7P2LoPxVIkFdetOY/jVcYdH0G5T8FZ6CQnFjjP3x2KK27quE/",
          "dtype": "f8"
         },
         "y": {
          "bdata": "IgtaseIIBUARbeSZHT0EQP/OboJYcQNA7TD5apOlAkDckoNTztkBQMr0DTwJDgFAuFaYJERCAEBOcUUa/uz+Pyw1WutzVf0/CPluvOm9+z/mvIONXyb6P8KAmF7Vjvg/n0StL0v39j98CMIAwV/1P1jM1tE2yPM/",
          "dtype": "f8"
         },
         "z": {
          "bdata": "SSLIsx12/r+hxr8MLH77v9Q3tnShlvi/v3+7axLP9b9bLO3ieDXzv9yNv9KA1fC/Z/RezeRv7b9V+mmDgsTpv0nMNAWNrOa/fMsqFVIk5L9c4Ftt6iDivwZfzrbFkOC/IU4zARi53r8WOQXRktDcv3tX0typKdu/",
          "dtype": "f8"
         }
        },
        {
         "hovertemplate": "language → attention<extra></extra>",
         "line": {
          "color": "#96CEB4",
          "width": 2
         },
         "mode": "lines",
         "opacity": 0.5357557856612334,
         "showlegend": false,
         "type": "scatter3d",
         "x": {
          "bdata": "Zj9Jhu2EAkBOnzPDp/7/P9C/1Hl08/o/UeB1MEHo9T/TABfnDd3wP6tCcDu1o+c/WAdlUZ0a2z+AJaavQLe7PzDpI/P5fcq/RrmGD+W14L9CeESiS8zqv6EbgRpZcfK/H/vfY4x897+c2j6tv4f8vw7dTnt5yQDA",
          "dtype": "f8"
         },
         "y": {
          "bdata": "4IVdS1PVub/di5LJShmnvyDQVw5E4IU/9jlfaLYEsT/oefNOZE2/P+zcwxoJy8Y/5vwNDmDvzT9wDqyA24nSP2weUfoGHNY/aC72czKu2T9kPpvtXUDdPzEnoLNEaeA/L69ycFoy4j8tN0UtcPvjPyy/F+qFxOU/",
          "dtype": "f8"
         },
         "z": {
          "bdata": "sw/No41E8z+RhgRLUjLxP1j2c/+HH+4/FAhfuMKa6T8C3mwkg7rkP2RoreMbz94/e0o+pdAg0z8Ix9j5wlG5P0x5yu18db6/PWm03UOt1r8zf5ysxGLjv47JAgmd4eu/2Ccj2fdd8r+n1gSG9er2v7qHaCVGiPu/",
          "dtype": "f8"
         }
        },
        {
         "hovertemplate": "use → enables<extra></extra>",
         "line": {
          "color": "#96CEB4",
          "width": 2
         },
         "mode": "lines",
         "opacity": 0.5117687518686413,
         "showlegend": false,
         "type": "scatter3d",
         "x": {
          "bdata": "6wGyaAnPCcAY29arV6YHwEa0++6lfQXAco0gMvRUA8CfZkV1QiwBwJp/1HAhB/6/8TEe9721+b9M5Gd9WmT1v6eWsQP3EvG/AZL2EyeD6b+39okgYODgv9K2Oloye9C/oPjPk3FLiT9atndz6Q/SP3x2KK27quE/",
          "dtype": "f8"
         },
         "y": {
          "bdata": "E/QCTpi06D/V/0UdTMTpP5gLiez/0+o/WhfMu7Pj6z8cIw+LZ/PsP94uUlobA+4/nzqVKc8S7z8xI2x8QRHwPxKpDWQbmfA/8y6vS/Ug8T/UtFAzz6jxP7U68hqpMPI/lsCTAoO48j93RjXqXEDzP1jM1tE2yPM/",
          "dtype": "f8"
         },
         "z": {
          "bdata": "AlLCN2GGDsCoGJEa0PoLwG7HrOkKdwnAPsPme3kCB8D2Dd6BwKMEwJo5ZT5sYALAaHe/Tqk8AMB6ctgpHnb8v6qjvOf8uPi/4NxFES1A9b9vOnXifwbyv6eziEE4B+6/Ei4cjdJY6L+q3CjlO+fiv3tX0typKdu/",
          "dtype": "f8"
         }
        },
        {
         "hovertemplate": "These → models<extra></extra>",
         "line": {
          "color": "#96CEB4",
          "width": 2
         },
         "mode": "lines",
         "opacity": 0.4740462350160781,
         "showlegend": false,
         "type": "scatter3d",
         "x": {
          "bdata": "5Kv5t+hJ4L++LrvfVqvcv7MFg0/cwti/qNxKv2Ha1L+esxIv5/HQvyYVtT3ZEsq/D8NEHeRBwr/04aj53eG0vzD3IOPO/5S/vMwwEO3DpD+GCvnI4AO6P1zX7ITl0sQ/cCldpdqjzD/CvebiZzrSP87mHnPiItY/",
          "dtype": "f8"
         },
         "y": {
          "bdata": "8JRiGkiQDsB3Jy+PTVUOwPy5+wNTGg7AgkzIeFjfDcAI35TtXaQNwI5xYWJjaQ3AEwQu12guDcCalvpLbvMMwCApx8BzuAzApruTNXl9DMAsTmCqfkIMwLLgLB+EBwzAOHP5k4nMC8C+BcYIj5ELwESYkn2UVgvA",
          "dtype": "f8"
         },
         "z": {
          "bdata": "uV7X08HBCMCr2C70RTAFwDyyMeICpgHAghc/balT/L+dvuOMxYP1v8D+3ZFCze2/TgK8pfAH4b/Az0YXvQTDv5ymSUEBD8w/MNk+Wh9K4j+qxmPIhxvtP3DA3X64w/M/danAojTR+D+Pks35hsL9PznewdqzUgFA",
          "dtype": "f8"
         }
        },
        {
         "hovertemplate": "language. → Transformers<extra></extra>",
         "line": {
          "color": "#96CEB4",
          "width": 2
         },
         "mode": "lines",
         "opacity": 0.468444640079546,
         "showlegend": false,
         "type": "scatter3d",
         "x": {
          "bdata": "qsDGcIHy97+NVnC59gb4v3LsGQJsG/i/VILDSuEv+L84GG2TVkT4vxuuFtzLWPi//kPAJEFt+L/i2WlttoH4v8ZvE7Yrlvi/qAW9/qCq+L+Mm2ZHFr/4v3AxEJCL0/i/U8e52ADo+L82XWMhdvz4vxrzDGrrEPm/",
          "dtype": "f8"
         },
         "y": {
          "bdata": "Dt9yQcEHBEBCFHgR4AoEQHZJfeH+DQRAqn6CsR0RBEDes4eBPBQEQBLpjFFbFwRARh6SIXoaBEB6U5fxmB0EQK6InMG3IARA4r2hkdYjBEAW86Zh9SYEQEoorDEUKgRAfl2xATMtBECykrbRUTAEQObHu6FwMwRA",
          "dtype": "f8"
         },
         "z": {
          "bdata": "flLKeyVj5T9p5TRLpl/lP8IHwUabP+U/0zx7DOfn5D/Kj0C+NkDkP91+ej86NOM/cSx79qi04T9GD178C3DfP9aFOuMzdto/oFd9aziC1D/eTJu+Jk7LP8i1HMhXDbg/9H1IGf0Cor/0TvpHz+bFv2AgjkyH39O/",
          "dtype": "f8"
         }
        },
        {
         "hovertemplate": "attention → models<extra></extra>",
         "line": {
          "color": "#96CEB4",
          "width": 2
         },
         "mode": "lines",
         "opacity": 0.4638889041987962,
         "showlegend": false,
         "type": "scatter3d",
         "x": {
          "bdata": "Dt1Oe3nJAMD7ehZs1Mf+v9s7j+G1/Pu/ufwHV5cx+b+YvYDMeGb2v3d++UFam/O/VT9ytzvQ8L9oANZZOgrsvyiCx0T9c+a/5QO5L8Dd4L9IC1U1Bo/Wv4AdcBYYxca/gB6JjfAIa7+M1AOS0OzFP87mHnPiItY/",
          "dtype": "f8"
         },
         "y": {
          "bdata": "LL8X6oXE5T905/xqyM3YP0RCKQcUSrg/pIzQznxRyb843ZrQAWTfvwy65pyiD+m/vwLAKKI28b95qAwDc+X1vzJOWd1DlPq/6vOltxRD/7/RTPnI8vgBwK6fHzZbUATAivJFo8OnBsBnRWwQLP8IwESYkn2UVgvA",
          "dtype": "f8"
         },
         "z": {
          "bdata": "uodoJUaI+7/23JSDbP31v7WhrkK1gPC/sn2upRo/5r9uKexu/5fXvxi4aEx0w6u/KNz6lnCEzz8LHCZClQLhPxXvb60Epek/TPJN5czl8D+3yc7v3L/0P0Exi7xDaPg/amqMEBDp+z8wy34TTU7/PznewdqzUgFA",
          "dtype": "f8"
         }
        },
        {
         "hovertemplate": "word → understand<extra></extra>",
         "line": {
          "color": "#96CEB4",
          "width": 2
         },
         "mode": "lines",
         "opacity": 0.4457002203488334,
         "showlegend": false,
         "type": "scatter3d",
         "x": {
          "bdata": "tty37PdDAsAPaXShtbsAwNDqYazmZv6/gQPbFWJW+78zHFR/3UX4v+U0zehYNfW/lU1GUtQk8r+OzH53nyjuv/P9cEqWB+i/Vi9jHY3m4b92wargB4vXv3BIHg3rkca/ACCPcZojjz9xLFBbXnbKP3azw4dBfdk/",
          "dtype": "f8"
         },
         "y": {
          "bdata": "jgu/H2StAMB2VhCxfWr6v9CVoiIzevO/UappKNET6b8EUhwXeGbWv1DCaorIarU/mNkoLu6N4D/mWgRLg27uPxnu7zOMJ/Y/vq5dwtYX/T+zt2WoEAQCQAeYnO81fAVAWXjTNlv0CECtWAp+gGwMQAE5QcWl5A9A",
          "dtype": "f8"
         },
         "z": {
          "bdata": "5B376yFeBcDwyQdTlgQDwL0pvPrUsQDAcXrr86HY/L/KZsvlpnP4v/1ax5tiPvS/8Zq3ZhpA8L/KmyWEo/rov1a5N8Yg7+G/v3k/Ujq11r+1X8HXRtDEvyCq36CGYZI/MB+T5EA4yD8hh1u+PajWP0vwl4IEf+A/",
          "dtype": "f8"
         }
        },
        {
         "hovertemplate": "machines → attention<extra></extra>",
         "line": {
          "color": "#96CEB4",
          "width": 2
         },
         "mode": "lines",
         "opacity": 0.4368851698908216,
         "showlegend": false,
         "type": "scatter3d",
         "x": {
          "bdata": "+c7bDoSW9D9418AgILjwP+y/S2V4s+k/6NAVibD24T/Mw79Z0XPUPyiXT4UG6bM/gPAvLpz+xL9G1oPP3fjZvyba98M2ueS/JsktoP517L8U3DE+Yxnyv5jTTCzH9/W/GctnGivW+b+ZwoIIj7T9vw7dTnt5yQDA",
          "dtype": "f8"
         },
         "y": {
          "bdata": "IgtaseIIBUBTUiabwusDQISZ8oSizgJAtOC+boKxAUDlJ4tYYpQAQCveroSE7v4/i2xHWES0/D/t+t8rBHr6P0+JeP/DP/g/sBcR04MF9j8SpqmmQ8vzP3I0QnoDkfE/qIW1m4at7j9rouZCBjnqPyy/F+qFxOU/",
          "dtype": "f8"
         },
         "z": {
          "bdata": "SSLIsx12/r/sFiNUFzf9v9amsLNgBfy/0ryzsJ7t+r9zph35KPv5v6o7SXB4N/m/UoDplq2p+L/t6w8ONVb4v6xFt8uOPvi/Xcbk2Tph+L999oaXzLn4vzfS6oMjQfm/lIG1u8bt+b8Et/WQXrT6v7qHaCVGiPu/",
          "dtype": "f8"
         }
        },
        {
         "hovertemplate": "to → enables<extra></extra>",
         "line": {
          "color": "#96CEB4",
          "width": 2
         },
         "mode": "lines",
         "opacity": 0.43269484785751766,
         "showlegend": false,
         "type": "scatter3d",
         "x": {
          "bdata": "zOeML5T1BsCy+Vgb/QAFwJkLJQdmDAPAfh3x8s4XAcDJXnq9b0b+v5aCEpVBXfq/YKaqbBN09r8tykJE5Yryv/TbtTduQ+2/jSPm5hFx5b9M1iwsaz3bv/DKGhVlMce/WC1IXBgwsD8kfLG4vrDTP3x2KK27quE/",
          "dtype": "f8"
         },
         "y": {
          "bdata": "oFU159YC8b+K72iPGcTsv9UzZ1CFgue/HnhlEfFA4r/TeMekuf7Zv9ACiE0i986/8CcCo6Lhs7/AtQtV/yq2P9tkRlPoDdA/RNxJ0RCR2j/YqaanHIriP45lqOawy+c/RCGqJUUN7T987lWybCfxP1jM1tE2yPM/",
          "dtype": "f8"
         },
         "z": {
          "bdata": "bmwV+fczDkAg+fTkDlEMQJis5kiOZwpAnyKrOzNxCEBNAh7TX2gGQIwGlz5jSARA2PCq/bUNAkD6N61cTmz/PwQb/1nxgfo/vn+AOtFd9T+WsDfCTwTwPxhV9uP3+OQ/Pt9trN0+0z+iudbDP9iuv3tX0typKdu/",
          "dtype": "f8"
         }
        },
        {
         "hovertemplate": "language. → dependencies<extra></extra>",
         "line": {
          "color": "#96CEB4",
          "width": 2
         },
         "mode": "lines",
         "opacity": 0.42707099910205915,
         "showlegend": false,
         "type": "scatter3d",
         "x": {
          "bdata": "qsDGcIHy978wht7+inTzv3CX7Bkp7e2/eyIcNjzx5L8UW5eknurXv7jE2XMTy7e/dPFU1SkKyD+gYkuy7vzdP0Em9jxk+uc/mk1jkCh78D8TiEsCH/n0P43CM3QVd/k/Bv0b5gv1/T/AGwIsgTkBQP049mR8eANA",
          "dtype": "f8"
         },
         "y": {
          "bdata": "Dt9yQcEHBEB/tOwXzGIBQOMTzdyte/0/xr7AicMx+D+oabQ22efyPxcpUMfdO+s/3H43IQmo4D+IUnvs0VDIP1hW56uA/sG/oP8koukm3r8IKit3SafpvyLqoQ6PHfK/Pj+uYXln979clLq0Y7H8v7104wOn/QDA",
          "dtype": "f8"
         },
         "z": {
          "bdata": "flLKeyVj5T8kH47NoPLrP1eopN0KNPE/bhy6+mVV9D9mX31KS1L3P7clj2J4Ifo/XcqJvvW7/D+OTNoucB3/P0UpzC44ogBACBtW0DaZAUD2e9ST3XUCQJAeejuoOwNAnKh2/DfvA0BQII8QGJYEQDxxpYt2NgVA",
          "dtype": "f8"
         }
        },
        {
         "hovertemplate": "These → to<extra></extra>",
         "line": {
          "color": "#96CEB4",
          "width": 2
         },
         "mode": "lines",
         "opacity": 0.41175165799237257,
         "showlegend": false,
         "type": "scatter3d",
         "x": {
          "bdata": "5Kv5t+hJ4L8yLu4g3y/fv5sE6dHsy92/BNvjgvpn3L9usd4zCATbv9iH2eQVoNm/QF7UlSM82L+qNM9GMdjWvxQLyvc+dNW/feHEqEwQ1L/nt79ZWqzSv1COugpoSNG/c8lqd+vIz79GdmDZBgHNvxgjVjsiOcq/",
          "dtype": "f8"
         },
         "y": {
          "bdata": "8JRiGkiQDsAjlK4OzxcLwFWT+gJWnwfAhpJG99wmBMC5kZLrY64AwNghvb/Va/q/OiBVqON6878+Pdoh4xPpvxB0FOb9Y9a/YEku3il/tT9izJVqyZHgP5/PZZmtc+4/auka5Mgq9j8E64L7uhv9P1F2dYlWBgJA",
          "dtype": "f8"
         },
         "z": {
          "bdata": "uV7X08HBCMALDAuRS2kGwFN5OygbFwTAbPY57SXRAcB2Vl5iiDn/v5IZSkvZ/Pq/CZy/H/by9r+y6CNYCiDzvyaqZ6f/Cu+/SxdlZtlD6L8iA3b8SuLhv/pDE6nKsde/on7goTZXyL/Kk9tzVnSQv2OaHWXD1cM/",
          "dtype": "f8"
         }
        },
        {
         "hovertemplate": "to → relationships.<extra></extra>",
         "line": {
          "color": "#96CEB4",
          "width": 2
         },
         "mode": "lines",
         "opacity": 0.40929144095705766,
         "showlegend": false,
         "type": "scatter3d",
         "x": {
          "bdata": "GCNWOyI5yr/Tvrwx/KbSvxpszkVnMdi/YRngWdK73b9U4/i2HqPhv/i5AUFUaOS/m5AKy4kt578/ZxNVv/Lpv+I9HN/0t+y/hRQlaSp977+V9Zb5LyHxv+dgm77Kg/K/OMyfg2Xm87+KN6RIAEn1v9yiqA2bq/a/",
          "dtype": "f8"
         },
         "y": {
          "bdata": "UXZ1iVYGAkAkpBNpr2j+P6dbPL+xxPg/KBNlFbQg8z9TlRvXbPnqP7AI2gbjYt8/aM35vtilwT+IdsCPFHrLv5yunneAJuK/mD9Ny3tu7b9K6H2PO1v0v8gwVTk5//m/R3ks4zaj/7/i4IFGmqMCwCKFbRuZdQXA",
          "dtype": "f8"
         },
         "z": {
          "bdata": "YpodZcPVwz9tFNVs7YnRP+QBsxkX99g/YRbggX4B4D9wn8UEj0HjP6um1579KeY/JnJxx2+t6D+QIWRPm8PqP3YYQMuwaew/SPN0pn+i7T9dkjEQUnbuP52vGpGC8u4/fcDin9Ao7z8ScELNfC7vP8Ly7fM3G+8/",
          "dtype": "f8"
         }
        },
        {
         "hovertemplate": "models → These<extra></extra>",
         "line": {
          "color": "#96CEB4",
          "width": 2
         },
         "mode": "lines",
         "opacity": 0.40245669229165704,
         "showlegend": false,
         "type": "scatter3d",
         "x": {
          "bdata": "zuYec+Ii1j/EvebiZzrSP3MpXaXao8w/XNfshOXSxD+OCvnI4AO6P8jMMBDtw6Q/KPcg487/lL/04aj53eG0vw7DRB3kQcK/IxW1PdkSyr+csxIv5/HQv6jcSr9h2tS/sgWDT9zC2L+8LrvfVqvcv+Sr+bfoSeC/",
          "dtype": "f8"
         },
         "y": {
          "bdata": "RJiSfZRWC8C+BcYIj5ELwDhz+ZOJzAvAsuAsH4QHDMAsTmCqfkIMwKa7kzV5fQzAICnHwHO4DMCalvpLbvMMwBQELtdoLg3AjnFhYmNpDcAI35TtXaQNwIJMyHhY3w3A/Ln7A1MaDsB2Jy+PTVUOwPCUYhpIkA7A",
          "dtype": "f8"
         },
         "z": {
          "bdata": "Od7B2rNSAUAm/n76Bpf9P14R7AtjfPg/Yj7hH9ZJ8z9pIBm22unrP9J2MOPd6eA/eIakUVEaxj+6CNvUoiDJv1hKpaEcheK/G2HsCIQt77+9EQkWnBz2v46ZO8yLzfy/Rv6brWvQAcDgItbzBUYFwLle19PBwQjA",
          "dtype": "f8"
         }
        },
        {
         "hovertemplate": "efficiently. → word<extra></extra>",
         "line": {
          "color": "#96CEB4",
          "width": 2
         },
         "mode": "lines",
         "opacity": 0.3993697055306474,
         "showlegend": false,
         "type": "scatter3d",
         "x": {
          "bdata": "Gfeo/yCFCECvVTTKw3YFQEa0v5RmaAJAtCWWvhK0/j/g4qxTWJf4Pwygw+idevI/brq0+8a76D+MacRLpATZPwDI6wNUN4I/EK2FCy/h178xXJVbDCrov+7ws5jAMfK/wjOdA3tO+L+VdoZuNWv+v7bct+z3QwLA",
          "dtype": "f8"
         },
         "y": {
          "bdata": "VKfAiGdf2T8fTkL+lg/MP1g2Dax7gaU/9rI7KNlOwb++Wb2dCP/TvwHaXKekVt+/JC1+WCBX5b9H7U1d7gLrv7TWDjFeV/C/xbZ2M0Ut87/Wlt41LAP2v+l2RjgT2fi/+VauOvqu+78KNxY94YT+v44Lvx9krQDA",
          "dtype": "f8"
         },
         "z": {
          "bdata": "isB60ziYBMBgAi8aBi0EwJdTlPDoxwPAcP0VzKhuA8ARZSzYdCYDwMMAm2mh8wLARLDkanDZAsD0LGSL59kCwHZ00km29QLAJol2Jy0sA8ClsfV0RnsDwDYOzUfA3wPAjig5S0ZVBMCIm8FTqdYEwOQd++shXgXA",
          "dtype": "f8"
         }
        },
        {
         "hovertemplate": "processing → relationships.<extra></extra>",
         "line": {
          "color": "#96CEB4",
          "width": 2
         },
         "mode": "lines",
         "opacity": 0.39683020671524927,
         "showlegend": false,
         "type": "scatter3d",
         "x": {
          "bdata": "6joUq87YBEC/5xXMVYwCQJSUF+3cPwBA04IyHMjm+z993DVe1k33Pyg2OaDktPI/pB95xOU37D/40n9IAgbjP5oMDZk9qNM/YDSnEWpHlD8QJthWUB/Rv7ZfZaeLweG/X6xeI2/z6r+F/KtPqRLyv9yiqA2bq/a/",
          "dtype": "f8"
         },
         "y": {
          "bdata": "ZkK/nLkZ+z9aGOufXxn2P0/uFqMFGfE/hIiFTFcx6D/WaLqlRmHcP1CB02S9v8A/GM/NgRJDx7+8jzc08aLfv/QbxJMs0um/Bji2RnDp8b8SYopDyun2vx6MXkAk6vu/FVuZHj91AMAbcAMdbPUCwCKFbRuZdQXA",
          "dtype": "f8"
         },
         "z": {
          "bdata": "0PZR+wFxwj+sQfjuAMbQP3IEfJ4jI9g/DnF6o/gh3z9UM8wSpcziPxokIPBWs+U/xrKedR846D8ykbQQ9VLqP+2eND0eAew/Z/xLf1RF7T/I941poSfuPyLpFHD3tO4/+54rtYv+7j++qf8k+RjvP8Ly7fM3G+8/",
          "dtype": "f8"
         }
        },
        {
         "hovertemplate": "attention → processing<extra></extra>",
         "line": {
          "color": "#96CEB4",
          "width": 2
         },
         "mode": "lines",
         "opacity": 0.3904538742584235,
         "showlegend": false,
         "type": "scatter3d",
         "x": {
          "bdata": "Dt1Oe3nJAMDU/2qDnzL8v41FOBBM0va/RIsFnfhx8b/4oaVTSiPov9JagNpGxdq/wMbVNuQPtb9wdxW/VD3QP0cw8EVR3+I/1aRVLPif7T+yjF2JTzD0P/xGkPyikPk/RAHDb/bw/j/G3XrxpCgCQOo6FKvO2ARA",
          "dtype": "f8"
         },
         "y": {
          "bdata": "LL8X6oXE5T8lhHrdlhXoPx5J3dCnZuo/GA5AxLi37D8Q06K3yQjvPwXMglXtrPA/gS40z3XV8T/+kOVI/v3yP3rzlsKGJvQ/9lVIPA9P9T90uPm1l3f2P/Eaqy8goPc/bX1cqajI+D/p3w0jMfH5P2ZCv5y5Gfs/",
          "dtype": "f8"
         },
         "z": {
          "bdata": "uodoJUaI+799ELYdbHn4v4APC6p3dvW/FXifprWK8r9rKPNQkoDvv5yHMblSP+q/ot89uGle5b9I1/LQv+Xgv/CWlaQGsNm/jr6W2gtl0r+xr2d8fLXHvwr8lKuN3re/AIuuldU7g78qwDJCcZyxP9H2UfsBccI/",
          "dtype": "f8"
         }
        },
        {
         "hovertemplate": "identify → Natural<extra></extra>",
         "line": {
          "color": "#96CEB4",
          "width": 2
         },
         "mode": "lines",
         "opacity": 0.3842386548231276,
         "showlegend": false,
         "type": "scatter3d",
         "x": {
          "bdata": "7psbtjAm/L/bWRjcV4b2v8gXFQJ/5vC/Z6sjUEyN5r+CTjo4NZvWvwA4Ri3Q0Vu/HMLfl5Fj1j80ZfZ/enHmP610/hmW2PA/v7YB9G549j/S+ATORxj8P3QdBFQQ3ABAfr4FwfyrA0CGXwcu6XsGQJEACZvVSwlA",
          "dtype": "f8"
         },
         "y": {
          "bdata": "1SxWWAcd9L/Jk+zYrADzv776gllS5PG/sWEZ2vfH8L9KkV+1OlfvvzJfjLaFHu2/GS25t9Dl6r8C++W4G63ov+rIErpmdOa/0pY/u7E75L+6ZGy8/ALiv0NlMnuPlN+/EwGMfSUj27/knOV/u7HWv7I4P4JRQNK/",
          "dtype": "f8"
         },
         "z": {
          "bdata": "zX2Lf0jP8T8CwL0CZ+r0P0QNnWzQ+fc/J9xS7WXy+j8M18i+Lcr9P3FNnJlpPABAJ1UW0wh8AUBLPZN5AqICQBFQgbStrQNARUNyXLOfBEBCXKWDBXoFQLpZVXzGPwZAMm1lnSD1BkB7weDJEJ8HQEqbsmkmQwhA",
          "dtype": "f8"
         }
        },
        {
         "hovertemplate": "attention → use<extra></extra>",
         "line": {
          "color": "#96CEB4",
          "width": 2
         },
         "mode": "lines",
         "opacity": 0.3749891763416155,
         "showlegend": false,
         "type": "scatter3d",
         "x": {
          "bdata": "Dt1Oe3nJAMBChPp5cW4BwHcrpnhpEwLAq9JRd2G4AsDfef11WV0DwBQhqXRRAgTASMhUc0mnBMB8bwByQUwFwLEWrHA58QXA5b1XbzGWBsAaZQNuKTsHwE4Mr2wh4AfAgrNaaxmFCMC2WgZqESoJwOsBsmgJzwnA",
          "dtype": "f8"
         },
         "y": {
          "bdata": "LL8X6oXE5T9hHs0VPvrlP5Z9gkH2L+Y/y9w3ba5l5j8APO2YZpvmPzWbosQe0eY/avpX8NYG5z+gWQ0cjzznP9S4wkdHcuc/Chh4c/+n5z8+dy2ft93nP3TW4spvE+g/qTWY9idJ6D/elE0i4H7oPxP0Ak6YtOg/",
          "dtype": "f8"
         },
         "z": {
          "bdata": "uodoJUaI+7+YUsSbTwn9v7g83AXGlf6/oDQK1kEcAMAjbHRtov0AwIHqwXQV8wHAWL/h7an/AsDuVrftRSUEwDh4UTyOZAXAQ1yhEd68BsDFlsNYTywIwCMYyQ/TrwnAv7oci1hDC8CQfoCkAeIMwAJSwjdhhg7A",
          "dtype": "f8"
         }
        },
        {
         "hovertemplate": "context → processing<extra></extra>",
         "line": {
          "color": "#96CEB4",
          "width": 2
         },
         "mode": "lines",
         "opacity": 0.3679945481568911,
         "showlegend": false,
         "type": "scatter3d",
         "x": {
          "bdata": "L5yTJwtGBUDPOfiwPT4FQG/XXDpwNgVADnXBw6IuBUCuEiZN1SYFQE2witYHHwVA7E3vXzoXBUCM61PpbA8FQCyJuHKfBwVAzCYd/NH/BEBsxIGFBPgEQAti5g438ARAq/9KmGnoBEBLna8hnOAEQOo6FKvO2ARA",
          "dtype": "f8"
         },
         "y": {
          "bdata": "ehcIkqQqAcC3XQGE7fH9v3qM8uORjvm/PLvjQzYr9b8A6tSj2sfwv4QxjAf+yOi/CY9ux0YC4L84skMdPu7Mv7Bey4x7sqg/yLDU8b2j1D/f+gc5lhjjP1ydJXlN3+s/65+hXAJT8j8ncbD8Xbb2P2ZCv5y5Gfs/",
          "dtype": "f8"
         },
         "z": {
          "bdata": "tFhbkIr4x78I7SsoVOi7vwivPfXyJaG/xiQuGSfJoj9S+M/2dWW5Px3hMb4CeMM//aM3nxrSyD99M/ZhMqPMP+rTK7Mu4c4/+kAa5iqWzz/2i0Q399/OP+xIHBaa7sw/5oN1pucByj8WKaNjTmbGP9H2UfsBccI/",
          "dtype": "f8"
         }
        },
        {
         "hovertemplate": "process → word<extra></extra>",
         "line": {
          "color": "#96CEB4",
          "width": 2
         },
         "mode": "lines",
         "opacity": 0.3663871980522862,
         "showlegend": false,
         "type": "scatter3d",
         "x": {
          "bdata": "IJKI9OVC6z/q2m4fahjkP2hHqpTc29k/9LHt1MkNxz+Aq+T9lXCmv9wD8GkKI9G/SnIjFAJ4379ccCvffObmv5EnRbT4EO6/Y2+vRLqd8r/+Sjwv+DL2v5omyRk2yPm/NQJWBHRd/b/obnH3WHkAwLbct+z3QwLA",
          "dtype": "f8"
         },
         "y": {
          "bdata": "QT5aG9LMBcCiuvOtJW8FwAM3jUB5EQXAZLMm08yzBMDFL8BlIFYEwCasWfhz+APAhijziseaA8DopIwdGz0DwEghJrBu3wLAqZ2/QsKBAsAKGlnVFSQCwGyW8mdpxgHAzBKM+rxoAcAtjyWNEAsBwI4Lvx9krQDA",
          "dtype": "f8"
         },
         "z": {
          "bdata": "U2v5Augm7r/S4nXumC7wv+clhrbnVPG/2Z675vqQ8r9GzKmfVezzv+vL53npbvW/b/j5jLAe97/8hau1YP/4vyowwvQ7Evu/Yjt4SQBW/b92cwLX98b/v+I+7kKULwHASJ63XlCLAsCamJOu7vEDwOQd++shXgXA",
          "dtype": "f8"
         }
        },
        {
         "hovertemplate": "word → use<extra></extra>",
         "line": {
          "color": "#96CEB4",
          "width": 2
         },
         "mode": "lines",
         "opacity": 0.363929697509926,
         "showlegend": false,
         "type": "scatter3d",
         "x": {
          "bdata": "tty37PdDAsDMuknj5s0CwOOY29nVVwPA+HZt0MThA8AOVf/Gs2sEwCQzkb2i9QTAOhEjtJF/BcBQ77SqgAkGwGbNRqFvkwbAfavYl14dB8CTiWqOTacHwKln/IQ8MQjAv0WOeyu7CMDVIyByGkUJwOsBsmgJzwnA",
          "dtype": "f8"
         },
         "y": {
          "bdata": "jgu/H2StAMBRseKl/Rb+v4VLRwwz0/q/ueWrcmiP97/sfxDZnUv0vyEadT/TB/G/qmizSxGI678SnXwYfADlv/iii8rN8dy/khc8yEbFz7/gpIPtx5umvzBFetFid8Q/xbkqz9tK1z96KMwaAy3iPxP0Ak6YtOg/",
          "dtype": "f8"
         },
         "z": {
          "bdata": "5B376yFeBcBmua7nApcFwJV8VDtv1QXAN7XiEqseBsAuQ/jTb3cGwPZt8Xiv4wbAGBvp62FmB8Bm3MTrXgEIwBxHc2RGtQjA/sUFaniBCcA7x5Y9HWQKwEllC/U8WgvAqlgHluVfDMB/weu6XXANwAJSwjdhhg7A",
          "dtype": "f8"
         }
        },
        {
         "hovertemplate": "Transformers → process<extra></extra>",
         "line": {
          "color": "#96CEB4",
          "width": 2
         },
         "mode": "lines",
         "opacity": 0.3580377146380689,
         "showlegend": false,
         "type": "scatter3d",
         "x": {
          "bdata": "GvMMausQ+b9gk+JiUk32v6czuFu5ifO/7NONVCDG8L9m6MaaDgXsv/Iocozcfea/fmkdfqr24L8UVJHf8N7Wv1yqz4UZoce/AMnKxxRFiL8+UdbsdpjEP4inFJOfWtU/NxPf14E04D+q0jPms7vlPyCSiPTlQus/",
          "dtype": "f8"
         },
         "y": {
          "bdata": "5se7oXAzBEB1x17dazMBQAuOAzLOZvw/Ko1JqcRm9j9IjI8gu2bwP88Wqy9jzeQ/GCpuPKCa0T+wZeeZF5a5v+zcYQmsZd6/NvAkFuky67/8eMwTfpnzv+B5hpyHmfm/vnpAJZGZ/7/QPf1WzcwCwEE+WhvSzAXA",
          "dtype": "f8"
         },
         "z": {
          "bdata": "YSCOTIff078XadawnVzTvyJ3p/9WBdO/AnOB+yUD07/0eIAtOXvTv/h0yZidjNS/vObKIbBO1r8GVRGm8c/Yv1glkM5MFdy/F/kpeesM4L9iGuiZh2fiv7o2S1fMDuW/FtjALzPz579e8LreJALrv1Nr+QLoJu6/",
          "dtype": "f8"
         }
        },
        {
         "marker": {
          "color": "gold",
          "line": {
           "color": "black",
           "width": 1
          },
          "size": 12
         },
         "mode": "markers+text",
         "showlegend": false,
         "text": [
          "Natural",
          "language",
          "processing",
          "enables",
          "machines",
          "to",
          "understand",
          "human",
          "language.",
          "Transformers",
          "use",
          "attention",
          "mechanisms",
          "to",
          "identify",
          "word",
          "relationships.",
          "These",
          "models",
          "process",
          "context",
          "dependencies",
          "efficiently."
         ],
         "textfont": {
          "color": "white",
          "size": 10
         },
         "textposition": "middle center",
         "type": "scatter3d",
         "x": {
          "bdata": "kQAJm9VLCUBmP0mG7YQCQOo6FKvO2ARAfHYorbuq4T/5ztsOhJb0PxgjVjsiOcq/drPDh0F92T/4+CanvbXjv6rAxnCB8ve/GvMMausQ+b/rAbJoCc8JwA7dTnt5yQDAI5Gb1TUMBMDM54wvlPUGwO6bG7YwJvy/tty37PdDAsDcoqgNm6v2v+Sr+bfoSeC/zuYec+Ii1j8gkoj05ULrPy+ckycLRgVA/Tj2ZHx4A0AZ96j/IIUIQA==",
          "dtype": "f8"
         },
         "y": {
          "bdata": "sjg/glFA0r/ghV1LU9W5v2ZCv5y5Gfs/WMzW0TbI8z8iC1qx4ggFQFF2dYlWBgJAATlBxaXkD0CtUG2NfEIKQA7fckHBBwRA5se7oXAzBEAT9AJOmLToPyy/F+qFxOU/ZmC6HATA07+gVTXn1gLxv9UsVlgHHfS/jgu/H2StAMAihW0bmXUFwPCUYhpIkA7ARJiSfZRWC8BBPlob0swFwHoXCJKkKgHAvXTjA6f9AMBUp8CIZ1/ZPw==",
          "dtype": "f8"
         },
         "z": {
          "bdata": "SpuyaSZDCECzD82jjUTzP9D2UfsBccI/fFfS3Kkp279JIsizHXb+v2KaHWXD1cM/S/CXggR/4D/QfVJWQN4DwH5SynslY+U/YSCOTIff078CUsI3YYYOwLqHaCVGiPu/8WXfV4N46r9ubBX59zMOQM19i39Iz/E/5B376yFeBcDC8u3zNxvvP7le19PBwQjAOd7B2rNSAUBTa/kC6Cbuv7RYW5CK+Me/PHGli3Y2BUCKwHrTOJgEwA==",
          "dtype": "f8"
         }
        },
        {
         "line": {
          "color": "#FF6B6B",
          "width": 4
         },
         "mode": "lines",
         "name": "Local",
         "showlegend": true,
         "type": "scatter3d",
         "x": [
          null
         ],
         "y": [
          null
         ],
         "z": [
          null
         ]
        },
        {
         "line": {
          "color": "#4ECDC4",
          "width": 4
         },
         "mode": "lines",
         "name": "Semantic",
         "showlegend": true,
         "type": "scatter3d",
         "x": [
          null
         ],
         "y": [
          null
         ],
         "z": [
          null
         ]
        },
        {
         "line": {
          "color": "#45B7D1",
          "width": 4
         },
         "mode": "lines",
         "name": "Long-range",
         "showlegend": true,
         "type": "scatter3d",
         "x": [
          null
         ],
         "y": [
          null
         ],
         "z": [
          null
         ]
        },
        {
         "line": {
          "color": "#96CEB4",
          "width": 4
         },
         "mode": "lines",
         "name": "Mixed",
         "showlegend": true,
         "type": "scatter3d",
         "x": [
          null
         ],
         "y": [
          null
         ],
         "z": [
          null
         ]
        }
       ],
       "layout": {
        "font": {
         "color": "white"
        },
        "height": 600,
        "paper_bgcolor": "rgb(15, 15, 25)",
        "scene": {
         "bgcolor": "rgb(15, 15, 25)",
         "xaxis": {
          "visible": false
         },
         "yaxis": {
          "visible": false
         },
         "zaxis": {
          "visible": false
         }
        },
        "showlegend": true,
        "template": {
         "data": {
          "bar": [
           {
            "error_x": {
             "color": "#2a3f5f"
            },
            "error_y": {
             "color": "#2a3f5f"
            },
            "marker": {
             "line": {
              "color": "#E5ECF6",
              "width": 0.5
             },
             "pattern": {
              "fillmode": "overlay",
              "size": 10,
              "solidity": 0.2
             }
            },
            "type": "bar"
           }
          ],
          "barpolar": [
           {
            "marker": {
             "line": {
              "color": "#E5ECF6",
              "width": 0.5
             },
             "pattern": {
              "fillmode": "overlay",
              "size": 10,
              "solidity": 0.2
             }
            },
            "type": "barpolar"
           }
          ],
          "carpet": [
           {
            "aaxis": {
             "endlinecolor": "#2a3f5f",
             "gridcolor": "white",
             "linecolor": "white",
             "minorgridcolor": "white",
             "startlinecolor": "#2a3f5f"
            },
            "baxis": {
             "endlinecolor": "#2a3f5f",
             "gridcolor": "white",
             "linecolor": "white",
             "minorgridcolor": "white",
             "startlinecolor": "#2a3f5f"
            },
            "type": "carpet"
           }
          ],
          "choropleth": [
           {
            "colorbar": {
             "outlinewidth": 0,
             "ticks": ""
            },
            "type": "choropleth"
           }
          ],
          "contour": [
           {
            "colorbar": {
             "outlinewidth": 0,
             "ticks": ""
            },
            "colorscale": [
             [
              0,
              "#0d0887"
             ],
             [
              0.1111111111111111,
              "#46039f"
             ],
             [
              0.2222222222222222,
              "#7201a8"
             ],
             [
              0.3333333333333333,
              "#9c179e"
             ],
             [
              0.4444444444444444,
              "#bd3786"
             ],
             [
              0.5555555555555556,
              "#d8576b"
             ],
             [
              0.6666666666666666,
              "#ed7953"
             ],
             [
              0.7777777777777778,
              "#fb9f3a"
             ],
             [
              0.8888888888888888,
              "#fdca26"
             ],
             [
              1,
              "#f0f921"
             ]
            ],
            "type": "contour"
           }
          ],
          "contourcarpet": [
           {
            "colorbar": {
             "outlinewidth": 0,
             "ticks": ""
            },
            "type": "contourcarpet"
           }
          ],
          "heatmap": [
           {
            "colorbar": {
             "outlinewidth": 0,
             "ticks": ""
            },
            "colorscale": [
             [
              0,
              "#0d0887"
             ],
             [
              0.1111111111111111,
              "#46039f"
             ],
             [
              0.2222222222222222,
              "#7201a8"
             ],
             [
              0.3333333333333333,
              "#9c179e"
             ],
             [
              0.4444444444444444,
              "#bd3786"
             ],
             [
              0.5555555555555556,
              "#d8576b"
             ],
             [
              0.6666666666666666,
              "#ed7953"
             ],
             [
              0.7777777777777778,
              "#fb9f3a"
             ],
             [
              0.8888888888888888,
              "#fdca26"
             ],
             [
              1,
              "#f0f921"
             ]
            ],
            "type": "heatmap"
           }
          ],
          "histogram": [
           {
            "marker": {
             "pattern": {
              "fillmode": "overlay",
              "size": 10,
              "solidity": 0.2
             }
            },
            "type": "histogram"
           }
          ],
          "histogram2d": [
           {
            "colorbar": {
             "outlinewidth": 0,
             "ticks": ""
            },
            "colorscale": [
             [
              0,
              "#0d0887"
             ],
             [
              0.1111111111111111,
              "#46039f"
             ],
             [
              0.2222222222222222,
              "#7201a8"
             ],
             [
              0.3333333333333333,
              "#9c179e"
             ],
             [
              0.4444444444444444,
              "#bd3786"
             ],
             [
              0.5555555555555556,
              "#d8576b"
             ],
             [
              0.6666666666666666,
              "#ed7953"
             ],
             [
              0.7777777777777778,
              "#fb9f3a"
             ],
             [
              0.8888888888888888,
              "#fdca26"
             ],
             [
              1,
              "#f0f921"
             ]
            ],
            "type": "histogram2d"
           }
          ],
          "histogram2dcontour": [
           {
            "colorbar": {
             "outlinewidth": 0,
             "ticks": ""
            },
            "colorscale": [
             [
              0,
              "#0d0887"
             ],
             [
              0.1111111111111111,
              "#46039f"
             ],
             [
              0.2222222222222222,
              "#7201a8"
             ],
             [
              0.3333333333333333,
              "#9c179e"
             ],
             [
              0.4444444444444444,
              "#bd3786"
             ],
             [
              0.5555555555555556,
              "#d8576b"
             ],
             [
              0.6666666666666666,
              "#ed7953"
             ],
             [
              0.7777777777777778,
              "#fb9f3a"
             ],
             [
              0.8888888888888888,
              "#fdca26"
             ],
             [
              1,
              "#f0f921"
             ]
            ],
            "type": "histogram2dcontour"
           }
          ],
          "mesh3d": [
           {
            "colorbar": {
             "outlinewidth": 0,
             "ticks": ""
            },
            "type": "mesh3d"
           }
          ],
          "parcoords": [
           {
            "line": {
             "colorbar": {
              "outlinewidth": 0,
              "ticks": ""
             }
            },
            "type": "parcoords"
           }
          ],
          "pie": [
           {
            "automargin": true,
            "type": "pie"
           }
          ],
          "scatter": [
           {
            "fillpattern": {
             "fillmode": "overlay",
             "size": 10,
             "solidity": 0.2
            },
            "type": "scatter"
           }
          ],
          "scatter3d": [
           {
            "line": {
             "colorbar": {
              "outlinewidth": 0,
              "ticks": ""
             }
            },
            "marker": {
             "colorbar": {
              "outlinewidth": 0,
              "ticks": ""
             }
            },
            "type": "scatter3d"
           }
          ],
          "scattercarpet": [
           {
            "marker": {
             "colorbar": {
              "outlinewidth": 0,
              "ticks": ""
             }
            },
            "type": "scattercarpet"
           }
          ],
          "scattergeo": [
           {
            "marker": {
             "colorbar": {
              "outlinewidth": 0,
              "ticks": ""
             }
            },
            "type": "scattergeo"
           }
          ],
          "scattergl": [
           {
            "marker": {
             "colorbar": {
              "outlinewidth": 0,
              "ticks": ""
             }
            },
            "type": "scattergl"
           }
          ],
          "scattermap": [
           {
            "marker": {
             "colorbar": {
              "outlinewidth": 0,
              "ticks": ""
             }
            },
            "type": "scattermap"
           }
          ],
          "scattermapbox": [
           {
            "marker": {
             "colorbar": {
              "outlinewidth": 0,
              "ticks": ""
             }
            },
            "type": "scattermapbox"
           }
          ],
          "scatterpolar": [
           {
            "marker": {
             "colorbar": {
              "outlinewidth": 0,
              "ticks": ""
             }
            },
            "type": "scatterpolar"
           }
          ],
          "scatterpolargl": [
           {
            "marker": {
             "colorbar": {
              "outlinewidth": 0,
              "ticks": ""
             }
            },
            "type": "scatterpolargl"
           }
          ],
          "scatterternary": [
           {
            "marker": {
             "colorbar": {
              "outlinewidth": 0,
              "ticks": ""
             }
            },
            "type": "scatterternary"
           }
          ],
          "surface": [
           {
            "colorbar": {
             "outlinewidth": 0,
             "ticks": ""
            },
            "colorscale": [
             [
              0,
              "#0d0887"
             ],
             [
              0.1111111111111111,
              "#46039f"
             ],
             [
              0.2222222222222222,
              "#7201a8"
             ],
             [
              0.3333333333333333,
              "#9c179e"
             ],
             [
              0.4444444444444444,
              "#bd3786"
             ],
             [
              0.5555555555555556,
              "#d8576b"
             ],
             [
              0.6666666666666666,
              "#ed7953"
             ],
             [
              0.7777777777777778,
              "#fb9f3a"
             ],
             [
              0.8888888888888888,
              "#fdca26"
             ],
             [
              1,
              "#f0f921"
             ]
            ],
            "type": "surface"
           }
          ],
          "table": [
           {
            "cells": {
             "fill": {
              "color": "#EBF0F8"
             },
             "line": {
              "color": "white"
             }
            },
            "header": {
             "fill": {
              "color": "#C8D4E3"
             },
             "line": {
              "color": "white"
             }
            },
            "type": "table"
           }
          ]
         },
         "layout": {
          "annotationdefaults": {
           "arrowcolor": "#2a3f5f",
           "arrowhead": 0,
           "arrowwidth": 1
          },
          "autotypenumbers": "strict",
          "coloraxis": {
           "colorbar": {
            "outlinewidth": 0,
            "ticks": ""
           }
          },
          "colorscale": {
           "diverging": [
            [
             0,
             "#8e0152"
            ],
            [
             0.1,
             "#c51b7d"
            ],
            [
             0.2,
             "#de77ae"
            ],
            [
             0.3,
             "#f1b6da"
            ],
            [
             0.4,
             "#fde0ef"
            ],
            [
             0.5,
             "#f7f7f7"
            ],
            [
             0.6,
             "#e6f5d0"
            ],
            [
             0.7,
             "#b8e186"
            ],
            [
             0.8,
             "#7fbc41"
            ],
            [
             0.9,
             "#4d9221"
            ],
            [
             1,
             "#276419"
            ]
           ],
           "sequential": [
            [
             0,
             "#0d0887"
            ],
            [
             0.1111111111111111,
             "#46039f"
            ],
            [
             0.2222222222222222,
             "#7201a8"
            ],
            [
             0.3333333333333333,
             "#9c179e"
            ],
            [
             0.4444444444444444,
             "#bd3786"
            ],
            [
             0.5555555555555556,
             "#d8576b"
            ],
            [
             0.6666666666666666,
             "#ed7953"
            ],
            [
             0.7777777777777778,
             "#fb9f3a"
            ],
            [
             0.8888888888888888,
             "#fdca26"
            ],
            [
             1,
             "#f0f921"
            ]
           ],
           "sequentialminus": [
            [
             0,
             "#0d0887"
            ],
            [
             0.1111111111111111,
             "#46039f"
            ],
            [
             0.2222222222222222,
             "#7201a8"
            ],
            [
             0.3333333333333333,
             "#9c179e"
            ],
            [
             0.4444444444444444,
             "#bd3786"
            ],
            [
             0.5555555555555556,
             "#d8576b"
            ],
            [
             0.6666666666666666,
             "#ed7953"
            ],
            [
             0.7777777777777778,
             "#fb9f3a"
            ],
            [
             0.8888888888888888,
             "#fdca26"
            ],
            [
             1,
             "#f0f921"
            ]
           ]
          },
          "colorway": [
           "#636efa",
           "#EF553B",
           "#00cc96",
           "#ab63fa",
           "#FFA15A",
           "#19d3f3",
           "#FF6692",
           "#B6E880",
           "#FF97FF",
           "#FECB52"
          ],
          "font": {
           "color": "#2a3f5f"
          },
          "geo": {
           "bgcolor": "white",
           "lakecolor": "white",
           "landcolor": "#E5ECF6",
           "showlakes": true,
           "showland": true,
           "subunitcolor": "white"
          },
          "hoverlabel": {
           "align": "left"
          },
          "hovermode": "closest",
          "mapbox": {
           "style": "light"
          },
          "paper_bgcolor": "white",
          "plot_bgcolor": "#E5ECF6",
          "polar": {
           "angularaxis": {
            "gridcolor": "white",
            "linecolor": "white",
            "ticks": ""
           },
           "bgcolor": "#E5ECF6",
           "radialaxis": {
            "gridcolor": "white",
            "linecolor": "white",
            "ticks": ""
           }
          },
          "scene": {
           "xaxis": {
            "backgroundcolor": "#E5ECF6",
            "gridcolor": "white",
            "gridwidth": 2,
            "linecolor": "white",
            "showbackground": true,
            "ticks": "",
            "zerolinecolor": "white"
           },
           "yaxis": {
            "backgroundcolor": "#E5ECF6",
            "gridcolor": "white",
            "gridwidth": 2,
            "linecolor": "white",
            "showbackground": true,
            "ticks": "",
            "zerolinecolor": "white"
           },
           "zaxis": {
            "backgroundcolor": "#E5ECF6",
            "gridcolor": "white",
            "gridwidth": 2,
            "linecolor": "white",
            "showbackground": true,
            "ticks": "",
            "zerolinecolor": "white"
           }
          },
          "shapedefaults": {
           "line": {
            "color": "#2a3f5f"
           }
          },
          "ternary": {
           "aaxis": {
            "gridcolor": "white",
            "linecolor": "white",
            "ticks": ""
           },
           "baxis": {
            "gridcolor": "white",
            "linecolor": "white",
            "ticks": ""
           },
           "bgcolor": "#E5ECF6",
           "caxis": {
            "gridcolor": "white",
            "linecolor": "white",
            "ticks": ""
           }
          },
          "title": {
           "x": 0.05
          },
          "xaxis": {
           "automargin": true,
           "gridcolor": "white",
           "linecolor": "white",
           "ticks": "",
           "title": {
            "standoff": 15
           },
           "zerolinecolor": "white",
           "zerolinewidth": 2
          },
          "yaxis": {
           "automargin": true,
           "gridcolor": "white",
           "linecolor": "white",
           "ticks": "",
           "title": {
            "standoff": 15
           },
           "zerolinecolor": "white",
           "zerolinewidth": 2
          }
         }
        },
        "title": {
         "text": "Attention Mechanism Demonstration"
        }
       }
      }
     },
     "metadata": {},
     "output_type": "display_data"
    }
   ],
   "source": [
    "import numpy as np\n",
    "import plotly.graph_objects as go\n",
    "from sklearn.manifold import TSNE\n",
    "import colorsys\n",
    "\n",
    "def create_attention_demonstration(text, n_heads=4):\n",
    "    \"\"\"\n",
    "    Demonstration of attention mechanism patterns in 3D space\n",
    "    \"\"\"\n",
    "    # Limit tokens to reduce memory usage\n",
    "    tokens = text.split()[:25]  # Limit to first 25 tokens\n",
    "    n_tokens = len(tokens)\n",
    "    \n",
    "    np.random.seed(42)\n",
    "    embeddings_high = np.random.randn(n_tokens, 128)  # Reduced dimensions\n",
    "    \n",
    "    # Simple positioning for memory efficiency\n",
    "    angles = np.linspace(0, 2*np.pi, n_tokens, endpoint=False)\n",
    "    positions_3d = np.column_stack([\n",
    "        np.cos(angles) * 3 + np.random.randn(n_tokens) * 0.5,\n",
    "        np.sin(angles) * 3 + np.random.randn(n_tokens) * 0.5,\n",
    "        np.random.randn(n_tokens) * 2\n",
    "    ])\n",
    "    \n",
    "    attention_heads = []\n",
    "    head_colors = ['#FF6B6B', '#4ECDC4', '#45B7D1', '#96CEB4']\n",
    "    \n",
    "    for h in range(n_heads):\n",
    "        if h == 0:  # Local attention\n",
    "            weights = np.exp(-np.abs(np.arange(n_tokens)[:, None] - np.arange(n_tokens)[None, :]) / 2)\n",
    "        elif h == 1:  # Content words\n",
    "            weights = np.random.beta(2, 3, (n_tokens, n_tokens))\n",
    "        elif h == 2:  # Long range\n",
    "            weights = np.random.gamma(1, 1, (n_tokens, n_tokens))\n",
    "        else:  # Mixed\n",
    "            weights = np.random.exponential(1, (n_tokens, n_tokens))\n",
    "        \n",
    "        weights = np.exp(weights) / np.exp(weights).sum(axis=-1, keepdims=True)\n",
    "        attention_heads.append(weights)\n",
    "    \n",
    "    fig = go.Figure()\n",
    "    \n",
    "    # Reduce number of connections for performance\n",
    "    for head_idx in range(n_heads):\n",
    "        attention_weights = attention_heads[head_idx]\n",
    "        color = head_colors[head_idx]\n",
    "        \n",
    "        # Only show top connections\n",
    "        top_indices = np.unravel_index(np.argsort(-attention_weights.flatten())[:n_tokens*2], attention_weights.shape)\n",
    "        \n",
    "        for idx in range(len(top_indices[0])):\n",
    "            i, j = top_indices[0][idx], top_indices[1][idx]\n",
    "            if i != j:\n",
    "                weight = attention_weights[i, j]\n",
    "                \n",
    "                # Simple curved line\n",
    "                t = np.linspace(0, 1, 15)  # Fewer points\n",
    "                mid_z = (positions_3d[i, 2] + positions_3d[j, 2]) / 2 + weight * 2\n",
    "                \n",
    "                curve_x = positions_3d[i, 0] * (1-t) + positions_3d[j, 0] * t\n",
    "                curve_y = positions_3d[i, 1] * (1-t) + positions_3d[j, 1] * t\n",
    "                curve_z = positions_3d[i, 2] * (1-t) + positions_3d[j, 2] * t + 2 * weight * np.sin(np.pi * t)\n",
    "                \n",
    "                fig.add_trace(go.Scatter3d(\n",
    "                    x=curve_x, y=curve_y, z=curve_z,\n",
    "                    mode='lines',\n",
    "                    line=dict(color=color, width=max(2, weight * 8)),\n",
    "                    opacity=min(weight * 3, 0.7),\n",
    "                    hovertemplate=f'{tokens[i]} → {tokens[j]}<extra></extra>',\n",
    "                    showlegend=False\n",
    "                ))\n",
    "    \n",
    "    # Add nodes\n",
    "    fig.add_trace(go.Scatter3d(\n",
    "        x=positions_3d[:, 0], y=positions_3d[:, 1], z=positions_3d[:, 2],\n",
    "        mode='markers+text',\n",
    "        text=tokens,\n",
    "        textposition='middle center',\n",
    "        marker=dict(size=12, color='gold', line=dict(color='black', width=1)),\n",
    "        textfont=dict(size=10, color='white'),\n",
    "        showlegend=False\n",
    "    ))\n",
    "    \n",
    "    # Simple legend\n",
    "    head_names = ['Local', 'Semantic', 'Long-range', 'Mixed']\n",
    "    for i, name in enumerate(head_names):\n",
    "        fig.add_trace(go.Scatter3d(\n",
    "            x=[None], y=[None], z=[None],\n",
    "            mode='lines',\n",
    "            line=dict(color=head_colors[i], width=4),\n",
    "            name=name,\n",
    "            showlegend=True\n",
    "        ))\n",
    "    \n",
    "    fig.update_layout(\n",
    "        title='Attention Mechanism Demonstration',\n",
    "        scene=dict(\n",
    "            xaxis=dict(visible=False),\n",
    "            yaxis=dict(visible=False), \n",
    "            zaxis=dict(visible=False),\n",
    "            bgcolor='rgb(15, 15, 25)'\n",
    "        ),\n",
    "        paper_bgcolor='rgb(15, 15, 25)',\n",
    "        font=dict(color='white'),\n",
    "        height=600,\n",
    "        showlegend=True\n",
    "    )\n",
    "    \n",
    "    return fig\n",
    "\n",
    "# Short paragraph\n",
    "text = \"Natural language processing enables machines to understand human language. Transformers use attention mechanisms to identify word relationships. These models process context dependencies efficiently.\"\n",
    "\n",
    "fig = create_attention_demonstration(text)\n",
    "fig.show()"
   ]
  },
  {
   "cell_type": "code",
   "execution_count": null,
   "id": "fcd61217-5b7d-4201-8796-4853a26bc011",
   "metadata": {},
   "outputs": [],
   "source": []
  }
 ],
 "metadata": {
  "kernelspec": {
   "display_name": "Python 3 (ipykernel)",
   "language": "python",
   "name": "python3"
  },
  "language_info": {
   "codemirror_mode": {
    "name": "ipython",
    "version": 3
   },
   "file_extension": ".py",
   "mimetype": "text/x-python",
   "name": "python",
   "nbconvert_exporter": "python",
   "pygments_lexer": "ipython3",
   "version": "3.11.13"
  }
 },
 "nbformat": 4,
 "nbformat_minor": 5
}
